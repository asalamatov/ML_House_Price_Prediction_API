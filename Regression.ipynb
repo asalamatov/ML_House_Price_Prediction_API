{
 "cells": [
  {
   "cell_type": "markdown",
   "id": "2ef8221a-a596-4523-af98-3837ca6f2acd",
   "metadata": {},
   "source": [
    "# Building a House Price Predictor API"
   ]
  },
  {
   "cell_type": "markdown",
   "id": "39efabed-a9e0-4471-ac36-276a878662c2",
   "metadata": {},
   "source": [
    "## 1. Import Data"
   ]
  },
  {
   "cell_type": "code",
   "execution_count": 1,
   "id": "70a54d26-86f3-4e90-ba88-75ff7a8b8079",
   "metadata": {
    "tags": []
   },
   "outputs": [
    {
     "name": "stdout",
     "output_type": "stream",
     "text": [
      "Requirement already satisfied: pandas in d:\\regression\\regression\\lib\\site-packages (2.0.3)\n",
      "Requirement already satisfied: python-dateutil>=2.8.2 in d:\\regression\\regression\\lib\\site-packages (from pandas) (2.8.2)\n",
      "Requirement already satisfied: pytz>=2020.1 in d:\\regression\\regression\\lib\\site-packages (from pandas) (2023.3)\n",
      "Requirement already satisfied: tzdata>=2022.1 in d:\\regression\\regression\\lib\\site-packages (from pandas) (2023.3)\n",
      "Requirement already satisfied: numpy>=1.21.0 in d:\\regression\\regression\\lib\\site-packages (from pandas) (1.25.1)\n",
      "Requirement already satisfied: six>=1.5 in d:\\regression\\regression\\lib\\site-packages (from python-dateutil>=2.8.2->pandas) (1.16.0)\n"
     ]
    },
    {
     "name": "stderr",
     "output_type": "stream",
     "text": [
      "\n",
      "[notice] A new release of pip is available: 23.1.2 -> 23.2.1\n",
      "[notice] To update, run: python.exe -m pip install --upgrade pip\n"
     ]
    }
   ],
   "source": [
    "! pip install pandas"
   ]
  },
  {
   "cell_type": "code",
   "execution_count": null,
   "id": "53cf8c65-9d78-47a4-9f47-ed0b4ce7d511",
   "metadata": {
    "tags": []
   },
   "outputs": [
    {
     "name": "stdout",
     "output_type": "stream",
     "text": [
      "Requirement already satisfied: scikit-learn in d:\\regression\\regression\\lib\\site-packages (1.3.0)\n",
      "Requirement already satisfied: xgboost in d:\\regression\\regression\\lib\\site-packages (1.7.6)\n",
      "Requirement already satisfied: dill in d:\\regression\\regression\\lib\\site-packages (0.3.7)\n",
      "Requirement already satisfied: numpy>=1.17.3 in d:\\regression\\regression\\lib\\site-packages (from scikit-learn) (1.25.1)\n",
      "Requirement already satisfied: scipy>=1.5.0 in d:\\regression\\regression\\lib\\site-packages (from scikit-learn) (1.11.1)\n",
      "Requirement already satisfied: joblib>=1.1.1 in d:\\regression\\regression\\lib\\site-packages (from scikit-learn) (1.3.1)\n",
      "Requirement already satisfied: threadpoolctl>=2.0.0 in d:\\regression\\regression\\lib\\site-packages (from scikit-learn) (3.2.0)\n"
     ]
    },
    {
     "name": "stderr",
     "output_type": "stream",
     "text": [
      "\n",
      "[notice] A new release of pip is available: 23.1.2 -> 23.2.1\n",
      "[notice] To update, run: python.exe -m pip install --upgrade pip\n"
     ]
    }
   ],
   "source": [
    "!pip install scikit-learn xgboost dill"
   ]
  },
  {
   "cell_type": "code",
   "execution_count": null,
   "id": "1656ab2a-cd59-4755-84f8-83500f0219f5",
   "metadata": {
    "tags": []
   },
   "outputs": [
    {
     "name": "stdout",
     "output_type": "stream",
     "text": [
      "Requirement already satisfied: numpy in d:\\regression\\regression\\lib\\site-packages (1.25.1)"
     ]
    },
    {
     "name": "stderr",
     "output_type": "stream",
     "text": [
      "\n",
      "[notice] A new release of pip is available: 23.1.2 -> 23.2.1\n",
      "[notice] To update, run: python.exe -m pip install --upgrade pip\n"
     ]
    },
    {
     "name": "stdout",
     "output_type": "stream",
     "text": [
      "\n",
      "Requirement already satisfied: matplotlib in d:\\regression\\regression\\lib\\site-packages (3.7.2)"
     ]
    },
    {
     "name": "stderr",
     "output_type": "stream",
     "text": [
      "\n",
      "[notice] A new release of pip is available: 23.1.2 -> 23.2.1\n",
      "[notice] To update, run: python.exe -m pip install --upgrade pip\n"
     ]
    },
    {
     "name": "stdout",
     "output_type": "stream",
     "text": [
      "\n",
      "Requirement already satisfied: contourpy>=1.0.1 in d:\\regression\\regression\\lib\\site-packages (from matplotlib) (1.1.0)\n",
      "Requirement already satisfied: cycler>=0.10 in d:\\regression\\regression\\lib\\site-packages (from matplotlib) (0.11.0)\n",
      "Requirement already satisfied: fonttools>=4.22.0 in d:\\regression\\regression\\lib\\site-packages (from matplotlib) (4.41.1)\n",
      "Requirement already satisfied: kiwisolver>=1.0.1 in d:\\regression\\regression\\lib\\site-packages (from matplotlib) (1.4.4)\n",
      "Requirement already satisfied: numpy>=1.20 in d:\\regression\\regression\\lib\\site-packages (from matplotlib) (1.25.1)\n",
      "Requirement already satisfied: packaging>=20.0 in d:\\regression\\regression\\lib\\site-packages (from matplotlib) (23.1)\n",
      "Requirement already satisfied: pillow>=6.2.0 in d:\\regression\\regression\\lib\\site-packages (from matplotlib) (10.0.0)\n",
      "Requirement already satisfied: pyparsing<3.1,>=2.3.1 in d:\\regression\\regression\\lib\\site-packages (from matplotlib) (3.0.9)\n",
      "Requirement already satisfied: python-dateutil>=2.7 in d:\\regression\\regression\\lib\\site-packages (from matplotlib) (2.8.2)\n",
      "Requirement already satisfied: six>=1.5 in d:\\regression\\regression\\lib\\site-packages (from python-dateutil>=2.7->matplotlib) (1.16.0)\n"
     ]
    }
   ],
   "source": [
    "!pip install numpy\n",
    "!pip install matplotlib"
   ]
  },
  {
   "cell_type": "code",
   "execution_count": null,
   "id": "ff263821-8cf9-4859-8038-e225c104dae6",
   "metadata": {
    "tags": []
   },
   "outputs": [],
   "source": [
    "import pandas as pd\n",
    "import numpy as np\n",
    "import matplotlib.pyplot as plt"
   ]
  },
  {
   "cell_type": "code",
   "execution_count": null,
   "id": "c7197e2c-2735-43f2-85d2-fd99ff477963",
   "metadata": {
    "tags": []
   },
   "outputs": [
    {
     "data": {
      "text/html": [
       "<div>\n",
       "<style scoped>\n",
       "    .dataframe tbody tr th:only-of-type {\n",
       "        vertical-align: middle;\n",
       "    }\n",
       "\n",
       "    .dataframe tbody tr th {\n",
       "        vertical-align: top;\n",
       "    }\n",
       "\n",
       "    .dataframe thead th {\n",
       "        text-align: right;\n",
       "    }\n",
       "</style>\n",
       "<table border=\"1\" class=\"dataframe\">\n",
       "  <thead>\n",
       "    <tr style=\"text-align: right;\">\n",
       "      <th></th>\n",
       "      <th>TransactionDate</th>\n",
       "      <th>HouseAge</th>\n",
       "      <th>DistanceToStation</th>\n",
       "      <th>NumberOfPubs</th>\n",
       "      <th>PostCode</th>\n",
       "      <th>HousePrice</th>\n",
       "    </tr>\n",
       "    <tr>\n",
       "      <th>ID</th>\n",
       "      <th></th>\n",
       "      <th></th>\n",
       "      <th></th>\n",
       "      <th></th>\n",
       "      <th></th>\n",
       "      <th></th>\n",
       "    </tr>\n",
       "  </thead>\n",
       "  <tbody>\n",
       "    <tr>\n",
       "      <th>0</th>\n",
       "      <td>2020.12</td>\n",
       "      <td>17.0</td>\n",
       "      <td>467.644775</td>\n",
       "      <td>4.0</td>\n",
       "      <td>5222.0</td>\n",
       "      <td>467104</td>\n",
       "    </tr>\n",
       "    <tr>\n",
       "      <th>1</th>\n",
       "      <td>2021.04</td>\n",
       "      <td>36.0</td>\n",
       "      <td>659.924963</td>\n",
       "      <td>3.0</td>\n",
       "      <td>5222.0</td>\n",
       "      <td>547714</td>\n",
       "    </tr>\n",
       "    <tr>\n",
       "      <th>2</th>\n",
       "      <td>2019.04</td>\n",
       "      <td>38.0</td>\n",
       "      <td>305.475941</td>\n",
       "      <td>7.0</td>\n",
       "      <td>5213.0</td>\n",
       "      <td>277232</td>\n",
       "    </tr>\n",
       "    <tr>\n",
       "      <th>3</th>\n",
       "      <td>2021.10</td>\n",
       "      <td>11.0</td>\n",
       "      <td>607.034754</td>\n",
       "      <td>5.0</td>\n",
       "      <td>5213.0</td>\n",
       "      <td>295958</td>\n",
       "    </tr>\n",
       "    <tr>\n",
       "      <th>4</th>\n",
       "      <td>2021.02</td>\n",
       "      <td>14.0</td>\n",
       "      <td>378.827222</td>\n",
       "      <td>5.0</td>\n",
       "      <td>5614.0</td>\n",
       "      <td>439963</td>\n",
       "    </tr>\n",
       "  </tbody>\n",
       "</table>\n",
       "</div>"
      ],
      "text/plain": [
       "    TransactionDate  HouseAge  DistanceToStation  NumberOfPubs  PostCode  \\\n",
       "ID                                                                         \n",
       "0           2020.12      17.0         467.644775           4.0    5222.0   \n",
       "1           2021.04      36.0         659.924963           3.0    5222.0   \n",
       "2           2019.04      38.0         305.475941           7.0    5213.0   \n",
       "3           2021.10      11.0         607.034754           5.0    5213.0   \n",
       "4           2021.02      14.0         378.827222           5.0    5614.0   \n",
       "\n",
       "   HousePrice  \n",
       "ID             \n",
       "0      467104  \n",
       "1      547714  \n",
       "2      277232  \n",
       "3      295958  \n",
       "4      439963  "
      ]
     },
     "execution_count": 76,
     "metadata": {},
     "output_type": "execute_result"
    }
   ],
   "source": [
    "dataset = pd.read_csv('regressiondata.csv', index_col='ID')\n",
    "dataset.head()"
   ]
  },
  {
   "cell_type": "markdown",
   "id": "cc992a7e-377a-4d6d-9da1-17ebb7a4631d",
   "metadata": {},
   "source": [
    "## 2. Split Data to Prevent Snooping Bias"
   ]
  },
  {
   "cell_type": "code",
   "execution_count": null,
   "id": "e36009f0-d386-4b22-b061-5b4fd916faa9",
   "metadata": {},
   "outputs": [],
   "source": [
    "from sklearn.model_selection import train_test_split"
   ]
  },
  {
   "cell_type": "code",
   "execution_count": null,
   "id": "cd35b881-2bee-4c42-9710-7affe71ff893",
   "metadata": {},
   "outputs": [],
   "source": [
    "train, test = train_test_split(dataset, test_size = 0.3, random_state = 1234)"
   ]
  },
  {
   "cell_type": "markdown",
   "id": "d3dab35e-ad08-418f-be97-52df2e7d099a",
   "metadata": {},
   "source": [
    "## 3. Exploratory Data Analysis"
   ]
  },
  {
   "cell_type": "markdown",
   "id": "43371287-27c0-4d3c-8ea8-4520c71a2620",
   "metadata": {},
   "source": [
    "### Bird's Eye View"
   ]
  },
  {
   "cell_type": "code",
   "execution_count": null,
   "id": "9ab7e30d-7e3d-4a04-85f4-ae7e9191ec08",
   "metadata": {},
   "outputs": [
    {
     "data": {
      "text/plain": [
       "TransactionDate      float64\n",
       "HouseAge             float64\n",
       "DistanceToStation    float64\n",
       "NumberOfPubs         float64\n",
       "PostCode             float64\n",
       "HousePrice            object\n",
       "dtype: object"
      ]
     },
     "execution_count": 79,
     "metadata": {},
     "output_type": "execute_result"
    }
   ],
   "source": [
    "# Get datatypes of columns\n",
    "train.dtypes"
   ]
  },
  {
   "cell_type": "code",
   "execution_count": null,
   "id": "f71bbf02-e3bf-491d-815a-5cdb9a02bc22",
   "metadata": {},
   "outputs": [
    {
     "name": "stdout",
     "output_type": "stream",
     "text": [
      "<class 'pandas.core.frame.DataFrame'>\n",
      "Index: 6549 entries, 8450 to 8915\n",
      "Data columns (total 6 columns):\n",
      " #   Column             Non-Null Count  Dtype  \n",
      "---  ------             --------------  -----  \n",
      " 0   TransactionDate    6548 non-null   float64\n",
      " 1   HouseAge           6546 non-null   float64\n",
      " 2   DistanceToStation  6547 non-null   float64\n",
      " 3   NumberOfPubs       6547 non-null   float64\n",
      " 4   PostCode           6547 non-null   float64\n",
      " 5   HousePrice         6544 non-null   object \n",
      "dtypes: float64(5), object(1)\n",
      "memory usage: 358.1+ KB\n"
     ]
    }
   ],
   "source": [
    "# Get info about the data\n",
    "train.info()"
   ]
  },
  {
   "cell_type": "code",
   "execution_count": null,
   "id": "891c6f3d-5c38-4c32-921d-ab27e5edf92f",
   "metadata": {},
   "outputs": [
    {
     "data": {
      "text/html": [
       "<div>\n",
       "<style scoped>\n",
       "    .dataframe tbody tr th:only-of-type {\n",
       "        vertical-align: middle;\n",
       "    }\n",
       "\n",
       "    .dataframe tbody tr th {\n",
       "        vertical-align: top;\n",
       "    }\n",
       "\n",
       "    .dataframe thead th {\n",
       "        text-align: right;\n",
       "    }\n",
       "</style>\n",
       "<table border=\"1\" class=\"dataframe\">\n",
       "  <thead>\n",
       "    <tr style=\"text-align: right;\">\n",
       "      <th></th>\n",
       "      <th>TransactionDate</th>\n",
       "      <th>HouseAge</th>\n",
       "      <th>DistanceToStation</th>\n",
       "      <th>NumberOfPubs</th>\n",
       "      <th>PostCode</th>\n",
       "    </tr>\n",
       "  </thead>\n",
       "  <tbody>\n",
       "    <tr>\n",
       "      <th>count</th>\n",
       "      <td>6548.000000</td>\n",
       "      <td>6546.000000</td>\n",
       "      <td>6547.000000</td>\n",
       "      <td>6.547000e+03</td>\n",
       "      <td>6547.000000</td>\n",
       "    </tr>\n",
       "    <tr>\n",
       "      <th>mean</th>\n",
       "      <td>2020.072389</td>\n",
       "      <td>17.375344</td>\n",
       "      <td>1091.759504</td>\n",
       "      <td>7.677828e+02</td>\n",
       "      <td>5294.499160</td>\n",
       "    </tr>\n",
       "    <tr>\n",
       "      <th>std</th>\n",
       "      <td>0.815922</td>\n",
       "      <td>11.469272</td>\n",
       "      <td>1270.038426</td>\n",
       "      <td>6.179430e+04</td>\n",
       "      <td>158.397718</td>\n",
       "    </tr>\n",
       "    <tr>\n",
       "      <th>min</th>\n",
       "      <td>2019.010000</td>\n",
       "      <td>0.000000</td>\n",
       "      <td>23.829424</td>\n",
       "      <td>0.000000e+00</td>\n",
       "      <td>5212.000000</td>\n",
       "    </tr>\n",
       "    <tr>\n",
       "      <th>25%</th>\n",
       "      <td>2019.100000</td>\n",
       "      <td>9.000000</td>\n",
       "      <td>268.649033</td>\n",
       "      <td>1.000000e+00</td>\n",
       "      <td>5213.000000</td>\n",
       "    </tr>\n",
       "    <tr>\n",
       "      <th>50%</th>\n",
       "      <td>2020.070000</td>\n",
       "      <td>15.000000</td>\n",
       "      <td>545.312168</td>\n",
       "      <td>4.000000e+00</td>\n",
       "      <td>5217.000000</td>\n",
       "    </tr>\n",
       "    <tr>\n",
       "      <th>75%</th>\n",
       "      <td>2021.040000</td>\n",
       "      <td>28.000000</td>\n",
       "      <td>1529.343484</td>\n",
       "      <td>6.000000e+00</td>\n",
       "      <td>5222.000000</td>\n",
       "    </tr>\n",
       "    <tr>\n",
       "      <th>max</th>\n",
       "      <td>2021.120000</td>\n",
       "      <td>43.000000</td>\n",
       "      <td>6486.256457</td>\n",
       "      <td>4.999999e+06</td>\n",
       "      <td>5614.000000</td>\n",
       "    </tr>\n",
       "  </tbody>\n",
       "</table>\n",
       "</div>"
      ],
      "text/plain": [
       "       TransactionDate     HouseAge  DistanceToStation  NumberOfPubs  \\\n",
       "count      6548.000000  6546.000000        6547.000000  6.547000e+03   \n",
       "mean       2020.072389    17.375344        1091.759504  7.677828e+02   \n",
       "std           0.815922    11.469272        1270.038426  6.179430e+04   \n",
       "min        2019.010000     0.000000          23.829424  0.000000e+00   \n",
       "25%        2019.100000     9.000000         268.649033  1.000000e+00   \n",
       "50%        2020.070000    15.000000         545.312168  4.000000e+00   \n",
       "75%        2021.040000    28.000000        1529.343484  6.000000e+00   \n",
       "max        2021.120000    43.000000        6486.256457  4.999999e+06   \n",
       "\n",
       "          PostCode  \n",
       "count  6547.000000  \n",
       "mean   5294.499160  \n",
       "std     158.397718  \n",
       "min    5212.000000  \n",
       "25%    5213.000000  \n",
       "50%    5217.000000  \n",
       "75%    5222.000000  \n",
       "max    5614.000000  "
      ]
     },
     "execution_count": 81,
     "metadata": {},
     "output_type": "execute_result"
    }
   ],
   "source": [
    "# Create Summary Statistics\n",
    "train.describe()"
   ]
  },
  {
   "cell_type": "code",
   "execution_count": null,
   "id": "1de1ad5e-b681-4b02-a7b7-480ef906c377",
   "metadata": {},
   "outputs": [],
   "source": [
    "# Type cast incorrect datatypes to new datatypes\n",
    "train['PostCode'] = train['PostCode'].astype(str)\n",
    "train['TransactionDate'] = train['TransactionDate'].astype(str)"
   ]
  },
  {
   "cell_type": "code",
   "execution_count": null,
   "id": "ce0e48a2-58cf-4284-9821-6c38353ef025",
   "metadata": {},
   "outputs": [
    {
     "data": {
      "text/plain": [
       "TransactionDate       object\n",
       "HouseAge             float64\n",
       "DistanceToStation    float64\n",
       "NumberOfPubs         float64\n",
       "PostCode              object\n",
       "HousePrice            object\n",
       "dtype: object"
      ]
     },
     "execution_count": 83,
     "metadata": {},
     "output_type": "execute_result"
    }
   ],
   "source": [
    "train.dtypes"
   ]
  },
  {
   "cell_type": "code",
   "execution_count": null,
   "id": "7afec2d6-9eaa-4171-9926-3c7af6de35c9",
   "metadata": {},
   "outputs": [],
   "source": [
    "# train['HousePrice'] = train['HousePrice'].astype(float)"
   ]
  },
  {
   "cell_type": "code",
   "execution_count": null,
   "id": "c2a7fa32-980f-4a96-9026-0a400922c283",
   "metadata": {},
   "outputs": [
    {
     "data": {
      "text/html": [
       "<div>\n",
       "<style scoped>\n",
       "    .dataframe tbody tr th:only-of-type {\n",
       "        vertical-align: middle;\n",
       "    }\n",
       "\n",
       "    .dataframe tbody tr th {\n",
       "        vertical-align: top;\n",
       "    }\n",
       "\n",
       "    .dataframe thead th {\n",
       "        text-align: right;\n",
       "    }\n",
       "</style>\n",
       "<table border=\"1\" class=\"dataframe\">\n",
       "  <thead>\n",
       "    <tr style=\"text-align: right;\">\n",
       "      <th></th>\n",
       "      <th>TransactionDate</th>\n",
       "      <th>PostCode</th>\n",
       "      <th>HousePrice</th>\n",
       "    </tr>\n",
       "  </thead>\n",
       "  <tbody>\n",
       "    <tr>\n",
       "      <th>count</th>\n",
       "      <td>6549</td>\n",
       "      <td>6549</td>\n",
       "      <td>6544</td>\n",
       "    </tr>\n",
       "    <tr>\n",
       "      <th>unique</th>\n",
       "      <td>37</td>\n",
       "      <td>6</td>\n",
       "      <td>6496</td>\n",
       "    </tr>\n",
       "    <tr>\n",
       "      <th>top</th>\n",
       "      <td>2019.01</td>\n",
       "      <td>5212.0</td>\n",
       "      <td>290262</td>\n",
       "    </tr>\n",
       "    <tr>\n",
       "      <th>freq</th>\n",
       "      <td>212</td>\n",
       "      <td>1338</td>\n",
       "      <td>2</td>\n",
       "    </tr>\n",
       "  </tbody>\n",
       "</table>\n",
       "</div>"
      ],
      "text/plain": [
       "       TransactionDate PostCode HousePrice\n",
       "count             6549     6549       6544\n",
       "unique              37        6       6496\n",
       "top            2019.01   5212.0     290262\n",
       "freq               212     1338          2"
      ]
     },
     "execution_count": 85,
     "metadata": {},
     "output_type": "execute_result"
    }
   ],
   "source": [
    "# Create summary statistics for non-numeric values\n",
    "train.describe(include='object')"
   ]
  },
  {
   "cell_type": "markdown",
   "id": "fcc46bfa-6cee-4d9c-aad6-32d3efc71137",
   "metadata": {},
   "source": [
    "### Analyze Numerical Attributes"
   ]
  },
  {
   "cell_type": "markdown",
   "id": "f0d42363-2d9a-4b16-bed5-50a28c06f999",
   "metadata": {},
   "source": [
    "#### Plot Distributions"
   ]
  },
  {
   "cell_type": "code",
   "execution_count": null,
   "id": "b5d6795f-a1e2-4d70-adcd-3a94b03d77fe",
   "metadata": {
    "tags": []
   },
   "outputs": [
    {
     "name": "stdout",
     "output_type": "stream",
     "text": [
      "Requirement already satisfied: matplotlib in d:\\regression\\regression\\lib\\site-packages (3.7.2)\n",
      "Requirement already satisfied: seaborn in d:\\regression\\regression\\lib\\site-packages (0.12.2)\n",
      "Requirement already satisfied: contourpy>=1.0.1 in d:\\regression\\regression\\lib\\site-packages (from matplotlib) (1.1.0)\n",
      "Requirement already satisfied: cycler>=0.10 in d:\\regression\\regression\\lib\\site-packages (from matplotlib) (0.11.0)\n",
      "Requirement already satisfied: fonttools>=4.22.0 in d:\\regression\\regression\\lib\\site-packages (from matplotlib) (4.41.1)\n",
      "Requirement already satisfied: kiwisolver>=1.0.1 in d:\\regression\\regression\\lib\\site-packages (from matplotlib) (1.4.4)\n",
      "Requirement already satisfied: numpy>=1.20 in d:\\regression\\regression\\lib\\site-packages (from matplotlib) (1.25.1)\n",
      "Requirement already satisfied: packaging>=20.0 in d:\\regression\\regression\\lib\\site-packages (from matplotlib) (23.1)\n",
      "Requirement already satisfied: pillow>=6.2.0 in d:\\regression\\regression\\lib\\site-packages (from matplotlib) (10.0.0)\n",
      "Requirement already satisfied: pyparsing<3.1,>=2.3.1 in d:\\regression\\regression\\lib\\site-packages (from matplotlib) (3.0.9)\n",
      "Requirement already satisfied: python-dateutil>=2.7 in d:\\regression\\regression\\lib\\site-packages (from matplotlib) (2.8.2)\n",
      "Requirement already satisfied: pandas>=0.25 in d:\\regression\\regression\\lib\\site-packages (from seaborn) (2.0.3)\n",
      "Requirement already satisfied: pytz>=2020.1 in d:\\regression\\regression\\lib\\site-packages (from pandas>=0.25->seaborn) (2023.3)\n",
      "Requirement already satisfied: tzdata>=2022.1 in d:\\regression\\regression\\lib\\site-packages (from pandas>=0.25->seaborn) (2023.3)\n",
      "Requirement already satisfied: six>=1.5 in d:\\regression\\regression\\lib\\site-packages (from python-dateutil>=2.7->matplotlib) (1.16.0)\n"
     ]
    },
    {
     "name": "stderr",
     "output_type": "stream",
     "text": [
      "\n",
      "[notice] A new release of pip is available: 23.1.2 -> 23.2.1\n",
      "[notice] To update, run: python.exe -m pip install --upgrade pip\n"
     ]
    }
   ],
   "source": [
    "! pip install matplotlib seaborn"
   ]
  },
  {
   "cell_type": "code",
   "execution_count": null,
   "id": "2be78717-65c9-4bab-a63a-2bd2bc6fe247",
   "metadata": {
    "tags": []
   },
   "outputs": [
    {
     "name": "stdout",
     "output_type": "stream",
     "text": [
      "Name: matplotlib\n",
      "Version: 3.7.2\n",
      "Summary: Python plotting package\n",
      "Home-page: https://matplotlib.org\n",
      "Author: John D. Hunter, Michael Droettboom\n",
      "Author-email: matplotlib-users@python.org\n",
      "License: PSF\n",
      "Location: D:\\Regression\\regression\\Lib\\site-packages\n",
      "Requires: contourpy, cycler, fonttools, kiwisolver, numpy, packaging, pillow, pyparsing, python-dateutil\n",
      "Required-by: seaborn\n",
      "---\n",
      "Name: seaborn\n",
      "Version: 0.12.2\n",
      "Summary: Statistical data visualization\n",
      "Home-page: \n",
      "Author: \n",
      "Author-email: Michael Waskom <mwaskom@gmail.com>\n",
      "License: \n",
      "Location: D:\\Regression\\regression\\Lib\\site-packages\n",
      "Requires: matplotlib, numpy, pandas\n",
      "Required-by: \n"
     ]
    }
   ],
   "source": [
    "!pip show matplotlib seaborn"
   ]
  },
  {
   "cell_type": "code",
   "execution_count": null,
   "id": "f89b423a-c1d4-437a-883a-b56dfbe93d25",
   "metadata": {},
   "outputs": [],
   "source": [
    "import matplotlib.pyplot as plt\n",
    "import seaborn as sns"
   ]
  },
  {
   "cell_type": "code",
   "execution_count": null,
   "id": "2f0ab1e2-11d4-4bfa-b90c-ae5cfc68cb12",
   "metadata": {},
   "outputs": [
    {
     "data": {
      "text/plain": [
       "(6549, 6)"
      ]
     },
     "execution_count": 89,
     "metadata": {},
     "output_type": "execute_result"
    }
   ],
   "source": [
    "train.shape"
   ]
  },
  {
   "cell_type": "code",
   "execution_count": null,
   "id": "3630260e-10e5-4982-ad93-6bf52a99bca8",
   "metadata": {},
   "outputs": [
    {
     "data": {
      "image/png": "[encoded data removed]",
      "text/plain": [
       "<Figure size 1000x500 with 4 Axes>"
      ]
     },
     "metadata": {},
     "output_type": "display_data"
    }
   ],
   "source": [
    "# Plot Distributions\n",
    "train.hist(figsize=(10,5), bins=50)\n",
    "plt.show()"
   ]
  },
  {
   "cell_type": "markdown",
   "id": "b2f4a324-8e8e-4a65-8c5c-15f0bbe1c335",
   "metadata": {},
   "source": [
    "#### Why house price is not Numeric?"
   ]
  },
  {
   "cell_type": "code",
   "execution_count": null,
   "id": "5e1fff8d-6fab-41cd-ae13-2d39f35279e7",
   "metadata": {
    "collapsed": true,
    "jupyter": {
     "outputs_hidden": true
    },
    "tags": []
   },
   "outputs": [
    {
     "ename": "ValueError",
     "evalue": "could not convert string to float: '??'",
     "output_type": "error",
     "traceback": [
      "\u001b[1;31m---------------------------------------------------------------------------\u001b[0m",
      "\u001b[1;31mValueError\u001b[0m                                Traceback (most recent call last)",
      "Cell \u001b[1;32mIn[91], line 2\u001b[0m\n\u001b[0;32m      1\u001b[0m \u001b[38;5;66;03m# str => float\u001b[39;00m\n\u001b[1;32m----> 2\u001b[0m \u001b[43mtrain\u001b[49m\u001b[43m[\u001b[49m\u001b[38;5;124;43m'\u001b[39;49m\u001b[38;5;124;43mHousePrice\u001b[39;49m\u001b[38;5;124;43m'\u001b[39;49m\u001b[43m]\u001b[49m\u001b[38;5;241;43m.\u001b[39;49m\u001b[43mastype\u001b[49m\u001b[43m(\u001b[49m\u001b[38;5;28;43mfloat\u001b[39;49m\u001b[43m)\u001b[49m\n",
      "File \u001b[1;32mD:\\Regression\\regression\\Lib\\site-packages\\pandas\\core\\generic.py:6324\u001b[0m, in \u001b[0;36mNDFrame.astype\u001b[1;34m(self, dtype, copy, errors)\u001b[0m\n\u001b[0;32m   6317\u001b[0m     results \u001b[38;5;241m=\u001b[39m [\n\u001b[0;32m   6318\u001b[0m         \u001b[38;5;28mself\u001b[39m\u001b[38;5;241m.\u001b[39miloc[:, i]\u001b[38;5;241m.\u001b[39mastype(dtype, copy\u001b[38;5;241m=\u001b[39mcopy)\n\u001b[0;32m   6319\u001b[0m         \u001b[38;5;28;01mfor\u001b[39;00m i \u001b[38;5;129;01min\u001b[39;00m \u001b[38;5;28mrange\u001b[39m(\u001b[38;5;28mlen\u001b[39m(\u001b[38;5;28mself\u001b[39m\u001b[38;5;241m.\u001b[39mcolumns))\n\u001b[0;32m   6320\u001b[0m     ]\n\u001b[0;32m   6322\u001b[0m \u001b[38;5;28;01melse\u001b[39;00m:\n\u001b[0;32m   6323\u001b[0m     \u001b[38;5;66;03m# else, only a single dtype is given\u001b[39;00m\n\u001b[1;32m-> 6324\u001b[0m     new_data \u001b[38;5;241m=\u001b[39m \u001b[38;5;28;43mself\u001b[39;49m\u001b[38;5;241;43m.\u001b[39;49m\u001b[43m_mgr\u001b[49m\u001b[38;5;241;43m.\u001b[39;49m\u001b[43mastype\u001b[49m\u001b[43m(\u001b[49m\u001b[43mdtype\u001b[49m\u001b[38;5;241;43m=\u001b[39;49m\u001b[43mdtype\u001b[49m\u001b[43m,\u001b[49m\u001b[43m \u001b[49m\u001b[43mcopy\u001b[49m\u001b[38;5;241;43m=\u001b[39;49m\u001b[43mcopy\u001b[49m\u001b[43m,\u001b[49m\u001b[43m \u001b[49m\u001b[43merrors\u001b[49m\u001b[38;5;241;43m=\u001b[39;49m\u001b[43merrors\u001b[49m\u001b[43m)\u001b[49m\n\u001b[0;32m   6325\u001b[0m     \u001b[38;5;28;01mreturn\u001b[39;00m \u001b[38;5;28mself\u001b[39m\u001b[38;5;241m.\u001b[39m_constructor(new_data)\u001b[38;5;241m.\u001b[39m__finalize__(\u001b[38;5;28mself\u001b[39m, method\u001b[38;5;241m=\u001b[39m\u001b[38;5;124m\"\u001b[39m\u001b[38;5;124mastype\u001b[39m\u001b[38;5;124m\"\u001b[39m)\n\u001b[0;32m   6327\u001b[0m \u001b[38;5;66;03m# GH 33113: handle empty frame or series\u001b[39;00m\n",
      "File \u001b[1;32mD:\\Regression\\regression\\Lib\\site-packages\\pandas\\core\\internals\\managers.py:451\u001b[0m, in \u001b[0;36mBaseBlockManager.astype\u001b[1;34m(self, dtype, copy, errors)\u001b[0m\n\u001b[0;32m    448\u001b[0m \u001b[38;5;28;01melif\u001b[39;00m using_copy_on_write():\n\u001b[0;32m    449\u001b[0m     copy \u001b[38;5;241m=\u001b[39m \u001b[38;5;28;01mFalse\u001b[39;00m\n\u001b[1;32m--> 451\u001b[0m \u001b[38;5;28;01mreturn\u001b[39;00m \u001b[38;5;28;43mself\u001b[39;49m\u001b[38;5;241;43m.\u001b[39;49m\u001b[43mapply\u001b[49m\u001b[43m(\u001b[49m\n\u001b[0;32m    452\u001b[0m \u001b[43m    \u001b[49m\u001b[38;5;124;43m\"\u001b[39;49m\u001b[38;5;124;43mastype\u001b[39;49m\u001b[38;5;124;43m\"\u001b[39;49m\u001b[43m,\u001b[49m\n\u001b[0;32m    453\u001b[0m \u001b[43m    \u001b[49m\u001b[43mdtype\u001b[49m\u001b[38;5;241;43m=\u001b[39;49m\u001b[43mdtype\u001b[49m\u001b[43m,\u001b[49m\n\u001b[0;32m    454\u001b[0m \u001b[43m    \u001b[49m\u001b[43mcopy\u001b[49m\u001b[38;5;241;43m=\u001b[39;49m\u001b[43mcopy\u001b[49m\u001b[43m,\u001b[49m\n\u001b[0;32m    455\u001b[0m \u001b[43m    \u001b[49m\u001b[43merrors\u001b[49m\u001b[38;5;241;43m=\u001b[39;49m\u001b[43merrors\u001b[49m\u001b[43m,\u001b[49m\n\u001b[0;32m    456\u001b[0m \u001b[43m    \u001b[49m\u001b[43musing_cow\u001b[49m\u001b[38;5;241;43m=\u001b[39;49m\u001b[43musing_copy_on_write\u001b[49m\u001b[43m(\u001b[49m\u001b[43m)\u001b[49m\u001b[43m,\u001b[49m\n\u001b[0;32m    457\u001b[0m \u001b[43m\u001b[49m\u001b[43m)\u001b[49m\n",
      "File \u001b[1;32mD:\\Regression\\regression\\Lib\\site-packages\\pandas\\core\\internals\\managers.py:352\u001b[0m, in \u001b[0;36mBaseBlockManager.apply\u001b[1;34m(self, f, align_keys, **kwargs)\u001b[0m\n\u001b[0;32m    350\u001b[0m         applied \u001b[38;5;241m=\u001b[39m b\u001b[38;5;241m.\u001b[39mapply(f, \u001b[38;5;241m*\u001b[39m\u001b[38;5;241m*\u001b[39mkwargs)\n\u001b[0;32m    351\u001b[0m     \u001b[38;5;28;01melse\u001b[39;00m:\n\u001b[1;32m--> 352\u001b[0m         applied \u001b[38;5;241m=\u001b[39m \u001b[38;5;28;43mgetattr\u001b[39;49m\u001b[43m(\u001b[49m\u001b[43mb\u001b[49m\u001b[43m,\u001b[49m\u001b[43m \u001b[49m\u001b[43mf\u001b[49m\u001b[43m)\u001b[49m\u001b[43m(\u001b[49m\u001b[38;5;241;43m*\u001b[39;49m\u001b[38;5;241;43m*\u001b[39;49m\u001b[43mkwargs\u001b[49m\u001b[43m)\u001b[49m\n\u001b[0;32m    353\u001b[0m     result_blocks \u001b[38;5;241m=\u001b[39m extend_blocks(applied, result_blocks)\n\u001b[0;32m    355\u001b[0m out \u001b[38;5;241m=\u001b[39m \u001b[38;5;28mtype\u001b[39m(\u001b[38;5;28mself\u001b[39m)\u001b[38;5;241m.\u001b[39mfrom_blocks(result_blocks, \u001b[38;5;28mself\u001b[39m\u001b[38;5;241m.\u001b[39maxes)\n",
      "File \u001b[1;32mD:\\Regression\\regression\\Lib\\site-packages\\pandas\\core\\internals\\blocks.py:511\u001b[0m, in \u001b[0;36mBlock.astype\u001b[1;34m(self, dtype, copy, errors, using_cow)\u001b[0m\n\u001b[0;32m    491\u001b[0m \u001b[38;5;250m\u001b[39m\u001b[38;5;124;03m\"\"\"\u001b[39;00m\n\u001b[0;32m    492\u001b[0m \u001b[38;5;124;03mCoerce to the new dtype.\u001b[39;00m\n\u001b[0;32m    493\u001b[0m \n\u001b[1;32m   (...)\u001b[0m\n\u001b[0;32m    507\u001b[0m \u001b[38;5;124;03mBlock\u001b[39;00m\n\u001b[0;32m    508\u001b[0m \u001b[38;5;124;03m\"\"\"\u001b[39;00m\n\u001b[0;32m    509\u001b[0m values \u001b[38;5;241m=\u001b[39m \u001b[38;5;28mself\u001b[39m\u001b[38;5;241m.\u001b[39mvalues\n\u001b[1;32m--> 511\u001b[0m new_values \u001b[38;5;241m=\u001b[39m \u001b[43mastype_array_safe\u001b[49m\u001b[43m(\u001b[49m\u001b[43mvalues\u001b[49m\u001b[43m,\u001b[49m\u001b[43m \u001b[49m\u001b[43mdtype\u001b[49m\u001b[43m,\u001b[49m\u001b[43m \u001b[49m\u001b[43mcopy\u001b[49m\u001b[38;5;241;43m=\u001b[39;49m\u001b[43mcopy\u001b[49m\u001b[43m,\u001b[49m\u001b[43m \u001b[49m\u001b[43merrors\u001b[49m\u001b[38;5;241;43m=\u001b[39;49m\u001b[43merrors\u001b[49m\u001b[43m)\u001b[49m\n\u001b[0;32m    513\u001b[0m new_values \u001b[38;5;241m=\u001b[39m maybe_coerce_values(new_values)\n\u001b[0;32m    515\u001b[0m refs \u001b[38;5;241m=\u001b[39m \u001b[38;5;28;01mNone\u001b[39;00m\n",
      "File \u001b[1;32mD:\\Regression\\regression\\Lib\\site-packages\\pandas\\core\\dtypes\\astype.py:242\u001b[0m, in \u001b[0;36mastype_array_safe\u001b[1;34m(values, dtype, copy, errors)\u001b[0m\n\u001b[0;32m    239\u001b[0m     dtype \u001b[38;5;241m=\u001b[39m dtype\u001b[38;5;241m.\u001b[39mnumpy_dtype\n\u001b[0;32m    241\u001b[0m \u001b[38;5;28;01mtry\u001b[39;00m:\n\u001b[1;32m--> 242\u001b[0m     new_values \u001b[38;5;241m=\u001b[39m \u001b[43mastype_array\u001b[49m\u001b[43m(\u001b[49m\u001b[43mvalues\u001b[49m\u001b[43m,\u001b[49m\u001b[43m \u001b[49m\u001b[43mdtype\u001b[49m\u001b[43m,\u001b[49m\u001b[43m \u001b[49m\u001b[43mcopy\u001b[49m\u001b[38;5;241;43m=\u001b[39;49m\u001b[43mcopy\u001b[49m\u001b[43m)\u001b[49m\n\u001b[0;32m    243\u001b[0m \u001b[38;5;28;01mexcept\u001b[39;00m (\u001b[38;5;167;01mValueError\u001b[39;00m, \u001b[38;5;167;01mTypeError\u001b[39;00m):\n\u001b[0;32m    244\u001b[0m     \u001b[38;5;66;03m# e.g. _astype_nansafe can fail on object-dtype of strings\u001b[39;00m\n\u001b[0;32m    245\u001b[0m     \u001b[38;5;66;03m#  trying to convert to float\u001b[39;00m\n\u001b[0;32m    246\u001b[0m     \u001b[38;5;28;01mif\u001b[39;00m errors \u001b[38;5;241m==\u001b[39m \u001b[38;5;124m\"\u001b[39m\u001b[38;5;124mignore\u001b[39m\u001b[38;5;124m\"\u001b[39m:\n",
      "File \u001b[1;32mD:\\Regression\\regression\\Lib\\site-packages\\pandas\\core\\dtypes\\astype.py:187\u001b[0m, in \u001b[0;36mastype_array\u001b[1;34m(values, dtype, copy)\u001b[0m\n\u001b[0;32m    184\u001b[0m     values \u001b[38;5;241m=\u001b[39m values\u001b[38;5;241m.\u001b[39mastype(dtype, copy\u001b[38;5;241m=\u001b[39mcopy)\n\u001b[0;32m    186\u001b[0m \u001b[38;5;28;01melse\u001b[39;00m:\n\u001b[1;32m--> 187\u001b[0m     values \u001b[38;5;241m=\u001b[39m \u001b[43m_astype_nansafe\u001b[49m\u001b[43m(\u001b[49m\u001b[43mvalues\u001b[49m\u001b[43m,\u001b[49m\u001b[43m \u001b[49m\u001b[43mdtype\u001b[49m\u001b[43m,\u001b[49m\u001b[43m \u001b[49m\u001b[43mcopy\u001b[49m\u001b[38;5;241;43m=\u001b[39;49m\u001b[43mcopy\u001b[49m\u001b[43m)\u001b[49m\n\u001b[0;32m    189\u001b[0m \u001b[38;5;66;03m# in pandas we don't store numpy str dtypes, so convert to object\u001b[39;00m\n\u001b[0;32m    190\u001b[0m \u001b[38;5;28;01mif\u001b[39;00m \u001b[38;5;28misinstance\u001b[39m(dtype, np\u001b[38;5;241m.\u001b[39mdtype) \u001b[38;5;129;01mand\u001b[39;00m \u001b[38;5;28missubclass\u001b[39m(values\u001b[38;5;241m.\u001b[39mdtype\u001b[38;5;241m.\u001b[39mtype, \u001b[38;5;28mstr\u001b[39m):\n",
      "File \u001b[1;32mD:\\Regression\\regression\\Lib\\site-packages\\pandas\\core\\dtypes\\astype.py:138\u001b[0m, in \u001b[0;36m_astype_nansafe\u001b[1;34m(arr, dtype, copy, skipna)\u001b[0m\n\u001b[0;32m    134\u001b[0m     \u001b[38;5;28;01mraise\u001b[39;00m \u001b[38;5;167;01mValueError\u001b[39;00m(msg)\n\u001b[0;32m    136\u001b[0m \u001b[38;5;28;01mif\u001b[39;00m copy \u001b[38;5;129;01mor\u001b[39;00m is_object_dtype(arr\u001b[38;5;241m.\u001b[39mdtype) \u001b[38;5;129;01mor\u001b[39;00m is_object_dtype(dtype):\n\u001b[0;32m    137\u001b[0m     \u001b[38;5;66;03m# Explicit copy, or required since NumPy can't view from / to object.\u001b[39;00m\n\u001b[1;32m--> 138\u001b[0m     \u001b[38;5;28;01mreturn\u001b[39;00m \u001b[43marr\u001b[49m\u001b[38;5;241;43m.\u001b[39;49m\u001b[43mastype\u001b[49m\u001b[43m(\u001b[49m\u001b[43mdtype\u001b[49m\u001b[43m,\u001b[49m\u001b[43m \u001b[49m\u001b[43mcopy\u001b[49m\u001b[38;5;241;43m=\u001b[39;49m\u001b[38;5;28;43;01mTrue\u001b[39;49;00m\u001b[43m)\u001b[49m\n\u001b[0;32m    140\u001b[0m \u001b[38;5;28;01mreturn\u001b[39;00m arr\u001b[38;5;241m.\u001b[39mastype(dtype, copy\u001b[38;5;241m=\u001b[39mcopy)\n",
      "\u001b[1;31mValueError\u001b[0m: could not convert string to float: '??'"
     ]
    }
   ],
   "source": [
    "# str => float\n",
    "train['HousePrice'].astype(float)"
   ]
  },
  {
   "cell_type": "code",
   "execution_count": null,
   "id": "55ba9626-9ccf-4e7e-b58f-1da169b6f7c2",
   "metadata": {},
   "outputs": [
    {
     "data": {
      "text/html": [
       "<div>\n",
       "<style scoped>\n",
       "    .dataframe tbody tr th:only-of-type {\n",
       "        vertical-align: middle;\n",
       "    }\n",
       "\n",
       "    .dataframe tbody tr th {\n",
       "        vertical-align: top;\n",
       "    }\n",
       "\n",
       "    .dataframe thead th {\n",
       "        text-align: right;\n",
       "    }\n",
       "</style>\n",
       "<table border=\"1\" class=\"dataframe\">\n",
       "  <thead>\n",
       "    <tr style=\"text-align: right;\">\n",
       "      <th></th>\n",
       "      <th>TransactionDate</th>\n",
       "      <th>HouseAge</th>\n",
       "      <th>DistanceToStation</th>\n",
       "      <th>NumberOfPubs</th>\n",
       "      <th>PostCode</th>\n",
       "      <th>HousePrice</th>\n",
       "    </tr>\n",
       "    <tr>\n",
       "      <th>ID</th>\n",
       "      <th></th>\n",
       "      <th></th>\n",
       "      <th></th>\n",
       "      <th></th>\n",
       "      <th></th>\n",
       "      <th></th>\n",
       "    </tr>\n",
       "  </thead>\n",
       "  <tbody>\n",
       "    <tr>\n",
       "      <th>8718</th>\n",
       "      <td>2020.08</td>\n",
       "      <td>16.0</td>\n",
       "      <td>122.432508</td>\n",
       "      <td>5.0</td>\n",
       "      <td>5213.0</td>\n",
       "      <td>??</td>\n",
       "    </tr>\n",
       "  </tbody>\n",
       "</table>\n",
       "</div>"
      ],
      "text/plain": [
       "     TransactionDate  HouseAge  DistanceToStation  NumberOfPubs PostCode  \\\n",
       "ID                                                                         \n",
       "8718         2020.08      16.0         122.432508           5.0   5213.0   \n",
       "\n",
       "     HousePrice  \n",
       "ID               \n",
       "8718         ??  "
      ]
     },
     "execution_count": 92,
     "metadata": {},
     "output_type": "execute_result"
    }
   ],
   "source": [
    "# filter dataset based on HousePrice == '??'\n",
    "train[train['HousePrice'] == '??']"
   ]
  },
  {
   "cell_type": "code",
   "execution_count": null,
   "id": "08ddad04-fd46-4281-bd42-465482f6482b",
   "metadata": {},
   "outputs": [],
   "source": [
    "# Drop rows that equal '??'\n",
    "train = train[train['HousePrice'] != '??']"
   ]
  },
  {
   "cell_type": "code",
   "execution_count": null,
   "id": "215eed84-f339-46bf-8751-93607c04c29e",
   "metadata": {},
   "outputs": [
    {
     "data": {
      "text/html": [
       "<div>\n",
       "<style scoped>\n",
       "    .dataframe tbody tr th:only-of-type {\n",
       "        vertical-align: middle;\n",
       "    }\n",
       "\n",
       "    .dataframe tbody tr th {\n",
       "        vertical-align: top;\n",
       "    }\n",
       "\n",
       "    .dataframe thead th {\n",
       "        text-align: right;\n",
       "    }\n",
       "</style>\n",
       "<table border=\"1\" class=\"dataframe\">\n",
       "  <thead>\n",
       "    <tr style=\"text-align: right;\">\n",
       "      <th></th>\n",
       "      <th>TransactionDate</th>\n",
       "      <th>HouseAge</th>\n",
       "      <th>DistanceToStation</th>\n",
       "      <th>NumberOfPubs</th>\n",
       "      <th>PostCode</th>\n",
       "      <th>HousePrice</th>\n",
       "    </tr>\n",
       "    <tr>\n",
       "      <th>ID</th>\n",
       "      <th></th>\n",
       "      <th></th>\n",
       "      <th></th>\n",
       "      <th></th>\n",
       "      <th></th>\n",
       "      <th></th>\n",
       "    </tr>\n",
       "  </thead>\n",
       "  <tbody>\n",
       "  </tbody>\n",
       "</table>\n",
       "</div>"
      ],
      "text/plain": [
       "Empty DataFrame\n",
       "Columns: [TransactionDate, HouseAge, DistanceToStation, NumberOfPubs, PostCode, HousePrice]\n",
       "Index: []"
      ]
     },
     "execution_count": 94,
     "metadata": {},
     "output_type": "execute_result"
    }
   ],
   "source": [
    "# Double check if the row has been dropped\n",
    "train[train['HousePrice']=='??']"
   ]
  },
  {
   "cell_type": "code",
   "execution_count": null,
   "id": "4feac5a6-7236-48d0-969c-b19b51dab1b0",
   "metadata": {
    "tags": []
   },
   "outputs": [],
   "source": [
    "# str => float\n",
    "# Overwrite the house price column with float values\n",
    "train['HousePrice'] = train['HousePrice'].astype(float)"
   ]
  },
  {
   "cell_type": "code",
   "execution_count": null,
   "id": "1d06e7f5-0bb1-46ad-a10b-7488bbffdc58",
   "metadata": {},
   "outputs": [
    {
     "data": {
      "text/plain": [
       "TransactionDate       object\n",
       "HouseAge             float64\n",
       "DistanceToStation    float64\n",
       "NumberOfPubs         float64\n",
       "PostCode              object\n",
       "HousePrice           float64\n",
       "dtype: object"
      ]
     },
     "execution_count": 96,
     "metadata": {},
     "output_type": "execute_result"
    }
   ],
   "source": [
    "train.dtypes"
   ]
  },
  {
   "cell_type": "code",
   "execution_count": null,
   "id": "01586380-6852-430a-a945-21ce58f21d49",
   "metadata": {},
   "outputs": [
    {
     "data": {
      "image/png": "[encoded data removed]",
      "text/plain": [
       "<Figure size 640x480 with 1 Axes>"
      ]
     },
     "metadata": {},
     "output_type": "display_data"
    }
   ],
   "source": [
    "plt.title(\"Box Plot for House Price\")\n",
    "sns.boxplot(x=train['HousePrice'])\n",
    "plt.show()"
   ]
  },
  {
   "cell_type": "markdown",
   "id": "585de9d4-7169-471a-bf65-84f263fd0e1a",
   "metadata": {},
   "source": [
    "#### Drop Outlier"
   ]
  },
  {
   "cell_type": "code",
   "execution_count": null,
   "id": "f40bf6de-28d4-476c-b5b6-f030543a5ab3",
   "metadata": {},
   "outputs": [
    {
     "data": {
      "text/html": [
       "<div>\n",
       "<style scoped>\n",
       "    .dataframe tbody tr th:only-of-type {\n",
       "        vertical-align: middle;\n",
       "    }\n",
       "\n",
       "    .dataframe tbody tr th {\n",
       "        vertical-align: top;\n",
       "    }\n",
       "\n",
       "    .dataframe thead th {\n",
       "        text-align: right;\n",
       "    }\n",
       "</style>\n",
       "<table border=\"1\" class=\"dataframe\">\n",
       "  <thead>\n",
       "    <tr style=\"text-align: right;\">\n",
       "      <th></th>\n",
       "      <th>TransactionDate</th>\n",
       "      <th>HouseAge</th>\n",
       "      <th>DistanceToStation</th>\n",
       "      <th>NumberOfPubs</th>\n",
       "      <th>PostCode</th>\n",
       "      <th>HousePrice</th>\n",
       "    </tr>\n",
       "    <tr>\n",
       "      <th>ID</th>\n",
       "      <th></th>\n",
       "      <th></th>\n",
       "      <th></th>\n",
       "      <th></th>\n",
       "      <th></th>\n",
       "      <th></th>\n",
       "    </tr>\n",
       "  </thead>\n",
       "  <tbody>\n",
       "    <tr>\n",
       "      <th>9238</th>\n",
       "      <td>2019.11</td>\n",
       "      <td>10.0</td>\n",
       "      <td>169.424413</td>\n",
       "      <td>1.0</td>\n",
       "      <td>5222.0</td>\n",
       "      <td>1205920.0</td>\n",
       "    </tr>\n",
       "    <tr>\n",
       "      <th>149</th>\n",
       "      <td>2020.09</td>\n",
       "      <td>9.0</td>\n",
       "      <td>228.930655</td>\n",
       "      <td>1.0</td>\n",
       "      <td>5222.0</td>\n",
       "      <td>1374277.0</td>\n",
       "    </tr>\n",
       "    <tr>\n",
       "      <th>6066</th>\n",
       "      <td>2020.12</td>\n",
       "      <td>10.0</td>\n",
       "      <td>234.680008</td>\n",
       "      <td>1.0</td>\n",
       "      <td>5222.0</td>\n",
       "      <td>1374386.0</td>\n",
       "    </tr>\n",
       "    <tr>\n",
       "      <th>2749</th>\n",
       "      <td>2021.06</td>\n",
       "      <td>9.0</td>\n",
       "      <td>38.864337</td>\n",
       "      <td>1.0</td>\n",
       "      <td>5222.0</td>\n",
       "      <td>1504501.0</td>\n",
       "    </tr>\n",
       "    <tr>\n",
       "      <th>8445</th>\n",
       "      <td>2021.05</td>\n",
       "      <td>0.0</td>\n",
       "      <td>276.789752</td>\n",
       "      <td>9.0</td>\n",
       "      <td>5222.0</td>\n",
       "      <td>8989772.0</td>\n",
       "    </tr>\n",
       "    <tr>\n",
       "      <th>8103</th>\n",
       "      <td>2019.05</td>\n",
       "      <td>7.0</td>\n",
       "      <td>640.223538</td>\n",
       "      <td>10.0</td>\n",
       "      <td>5217.0</td>\n",
       "      <td>NaN</td>\n",
       "    </tr>\n",
       "    <tr>\n",
       "      <th>7673</th>\n",
       "      <td>nan</td>\n",
       "      <td>NaN</td>\n",
       "      <td>3830.892098</td>\n",
       "      <td>0.0</td>\n",
       "      <td>5217.0</td>\n",
       "      <td>NaN</td>\n",
       "    </tr>\n",
       "    <tr>\n",
       "      <th>32</th>\n",
       "      <td>2021.1</td>\n",
       "      <td>29.0</td>\n",
       "      <td>809.864711</td>\n",
       "      <td>8.0</td>\n",
       "      <td>5222.0</td>\n",
       "      <td>NaN</td>\n",
       "    </tr>\n",
       "    <tr>\n",
       "      <th>8112</th>\n",
       "      <td>2019.08</td>\n",
       "      <td>20.0</td>\n",
       "      <td>370.088151</td>\n",
       "      <td>NaN</td>\n",
       "      <td>nan</td>\n",
       "      <td>NaN</td>\n",
       "    </tr>\n",
       "    <tr>\n",
       "      <th>7670</th>\n",
       "      <td>2020.12</td>\n",
       "      <td>13.0</td>\n",
       "      <td>1837.649999</td>\n",
       "      <td>2.0</td>\n",
       "      <td>nan</td>\n",
       "      <td>NaN</td>\n",
       "    </tr>\n",
       "  </tbody>\n",
       "</table>\n",
       "</div>"
      ],
      "text/plain": [
       "     TransactionDate  HouseAge  DistanceToStation  NumberOfPubs PostCode  \\\n",
       "ID                                                                         \n",
       "9238         2019.11      10.0         169.424413           1.0   5222.0   \n",
       "149          2020.09       9.0         228.930655           1.0   5222.0   \n",
       "6066         2020.12      10.0         234.680008           1.0   5222.0   \n",
       "2749         2021.06       9.0          38.864337           1.0   5222.0   \n",
       "8445         2021.05       0.0         276.789752           9.0   5222.0   \n",
       "8103         2019.05       7.0         640.223538          10.0   5217.0   \n",
       "7673             nan       NaN        3830.892098           0.0   5217.0   \n",
       "32            2021.1      29.0         809.864711           8.0   5222.0   \n",
       "8112         2019.08      20.0         370.088151           NaN      nan   \n",
       "7670         2020.12      13.0        1837.649999           2.0      nan   \n",
       "\n",
       "      HousePrice  \n",
       "ID                \n",
       "9238   1205920.0  \n",
       "149    1374277.0  \n",
       "6066   1374386.0  \n",
       "2749   1504501.0  \n",
       "8445   8989772.0  \n",
       "8103         NaN  \n",
       "7673         NaN  \n",
       "32           NaN  \n",
       "8112         NaN  \n",
       "7670         NaN  "
      ]
     },
     "execution_count": 98,
     "metadata": {},
     "output_type": "execute_result"
    }
   ],
   "source": [
    "train.sort_values('HousePrice').tail(10)"
   ]
  },
  {
   "cell_type": "code",
   "execution_count": null,
   "id": "bf8e7f80-e530-4038-acf7-4f1a69ca0e0b",
   "metadata": {
    "tags": []
   },
   "outputs": [],
   "source": [
    "train = train.drop(8445)"
   ]
  },
  {
   "cell_type": "code",
   "execution_count": null,
   "id": "58d9d376-4f42-4362-aedd-97611aedb965",
   "metadata": {},
   "outputs": [
    {
     "data": {
      "text/html": [
       "<div>\n",
       "<style scoped>\n",
       "    .dataframe tbody tr th:only-of-type {\n",
       "        vertical-align: middle;\n",
       "    }\n",
       "\n",
       "    .dataframe tbody tr th {\n",
       "        vertical-align: top;\n",
       "    }\n",
       "\n",
       "    .dataframe thead th {\n",
       "        text-align: right;\n",
       "    }\n",
       "</style>\n",
       "<table border=\"1\" class=\"dataframe\">\n",
       "  <thead>\n",
       "    <tr style=\"text-align: right;\">\n",
       "      <th></th>\n",
       "      <th>TransactionDate</th>\n",
       "      <th>HouseAge</th>\n",
       "      <th>DistanceToStation</th>\n",
       "      <th>NumberOfPubs</th>\n",
       "      <th>PostCode</th>\n",
       "      <th>HousePrice</th>\n",
       "    </tr>\n",
       "    <tr>\n",
       "      <th>ID</th>\n",
       "      <th></th>\n",
       "      <th></th>\n",
       "      <th></th>\n",
       "      <th></th>\n",
       "      <th></th>\n",
       "      <th></th>\n",
       "    </tr>\n",
       "  </thead>\n",
       "  <tbody>\n",
       "    <tr>\n",
       "      <th>5091</th>\n",
       "      <td>2020.05</td>\n",
       "      <td>10.0</td>\n",
       "      <td>295.072723</td>\n",
       "      <td>1.0</td>\n",
       "      <td>5614.0</td>\n",
       "      <td>1151940.0</td>\n",
       "    </tr>\n",
       "    <tr>\n",
       "      <th>9238</th>\n",
       "      <td>2019.11</td>\n",
       "      <td>10.0</td>\n",
       "      <td>169.424413</td>\n",
       "      <td>1.0</td>\n",
       "      <td>5222.0</td>\n",
       "      <td>1205920.0</td>\n",
       "    </tr>\n",
       "    <tr>\n",
       "      <th>149</th>\n",
       "      <td>2020.09</td>\n",
       "      <td>9.0</td>\n",
       "      <td>228.930655</td>\n",
       "      <td>1.0</td>\n",
       "      <td>5222.0</td>\n",
       "      <td>1374277.0</td>\n",
       "    </tr>\n",
       "    <tr>\n",
       "      <th>6066</th>\n",
       "      <td>2020.12</td>\n",
       "      <td>10.0</td>\n",
       "      <td>234.680008</td>\n",
       "      <td>1.0</td>\n",
       "      <td>5222.0</td>\n",
       "      <td>1374386.0</td>\n",
       "    </tr>\n",
       "    <tr>\n",
       "      <th>2749</th>\n",
       "      <td>2021.06</td>\n",
       "      <td>9.0</td>\n",
       "      <td>38.864337</td>\n",
       "      <td>1.0</td>\n",
       "      <td>5222.0</td>\n",
       "      <td>1504501.0</td>\n",
       "    </tr>\n",
       "    <tr>\n",
       "      <th>8103</th>\n",
       "      <td>2019.05</td>\n",
       "      <td>7.0</td>\n",
       "      <td>640.223538</td>\n",
       "      <td>10.0</td>\n",
       "      <td>5217.0</td>\n",
       "      <td>NaN</td>\n",
       "    </tr>\n",
       "    <tr>\n",
       "      <th>7673</th>\n",
       "      <td>nan</td>\n",
       "      <td>NaN</td>\n",
       "      <td>3830.892098</td>\n",
       "      <td>0.0</td>\n",
       "      <td>5217.0</td>\n",
       "      <td>NaN</td>\n",
       "    </tr>\n",
       "    <tr>\n",
       "      <th>32</th>\n",
       "      <td>2021.1</td>\n",
       "      <td>29.0</td>\n",
       "      <td>809.864711</td>\n",
       "      <td>8.0</td>\n",
       "      <td>5222.0</td>\n",
       "      <td>NaN</td>\n",
       "    </tr>\n",
       "    <tr>\n",
       "      <th>8112</th>\n",
       "      <td>2019.08</td>\n",
       "      <td>20.0</td>\n",
       "      <td>370.088151</td>\n",
       "      <td>NaN</td>\n",
       "      <td>nan</td>\n",
       "      <td>NaN</td>\n",
       "    </tr>\n",
       "    <tr>\n",
       "      <th>7670</th>\n",
       "      <td>2020.12</td>\n",
       "      <td>13.0</td>\n",
       "      <td>1837.649999</td>\n",
       "      <td>2.0</td>\n",
       "      <td>nan</td>\n",
       "      <td>NaN</td>\n",
       "    </tr>\n",
       "  </tbody>\n",
       "</table>\n",
       "</div>"
      ],
      "text/plain": [
       "     TransactionDate  HouseAge  DistanceToStation  NumberOfPubs PostCode  \\\n",
       "ID                                                                         \n",
       "5091         2020.05      10.0         295.072723           1.0   5614.0   \n",
       "9238         2019.11      10.0         169.424413           1.0   5222.0   \n",
       "149          2020.09       9.0         228.930655           1.0   5222.0   \n",
       "6066         2020.12      10.0         234.680008           1.0   5222.0   \n",
       "2749         2021.06       9.0          38.864337           1.0   5222.0   \n",
       "8103         2019.05       7.0         640.223538          10.0   5217.0   \n",
       "7673             nan       NaN        3830.892098           0.0   5217.0   \n",
       "32            2021.1      29.0         809.864711           8.0   5222.0   \n",
       "8112         2019.08      20.0         370.088151           NaN      nan   \n",
       "7670         2020.12      13.0        1837.649999           2.0      nan   \n",
       "\n",
       "      HousePrice  \n",
       "ID                \n",
       "5091   1151940.0  \n",
       "9238   1205920.0  \n",
       "149    1374277.0  \n",
       "6066   1374386.0  \n",
       "2749   1504501.0  \n",
       "8103         NaN  \n",
       "7673         NaN  \n",
       "32           NaN  \n",
       "8112         NaN  \n",
       "7670         NaN  "
      ]
     },
     "execution_count": 100,
     "metadata": {},
     "output_type": "execute_result"
    }
   ],
   "source": [
    "train.sort_values('HousePrice').tail(10)"
   ]
  },
  {
   "cell_type": "code",
   "execution_count": null,
   "id": "3aeba627-a5c8-4519-915a-a0c7cfccbdcc",
   "metadata": {},
   "outputs": [],
   "source": [
    "# train = train.drop(13)\n",
    "train.drop(13, inplace=True)"
   ]
  },
  {
   "cell_type": "code",
   "execution_count": null,
   "id": "f1e09ffe-be45-4523-a057-0c1c991d0780",
   "metadata": {},
   "outputs": [
    {
     "data": {
      "text/html": [
       "<div>\n",
       "<style scoped>\n",
       "    .dataframe tbody tr th:only-of-type {\n",
       "        vertical-align: middle;\n",
       "    }\n",
       "\n",
       "    .dataframe tbody tr th {\n",
       "        vertical-align: top;\n",
       "    }\n",
       "\n",
       "    .dataframe thead th {\n",
       "        text-align: right;\n",
       "    }\n",
       "</style>\n",
       "<table border=\"1\" class=\"dataframe\">\n",
       "  <thead>\n",
       "    <tr style=\"text-align: right;\">\n",
       "      <th></th>\n",
       "      <th>TransactionDate</th>\n",
       "      <th>HouseAge</th>\n",
       "      <th>DistanceToStation</th>\n",
       "      <th>NumberOfPubs</th>\n",
       "      <th>PostCode</th>\n",
       "      <th>HousePrice</th>\n",
       "    </tr>\n",
       "    <tr>\n",
       "      <th>ID</th>\n",
       "      <th></th>\n",
       "      <th></th>\n",
       "      <th></th>\n",
       "      <th></th>\n",
       "      <th></th>\n",
       "      <th></th>\n",
       "    </tr>\n",
       "  </thead>\n",
       "  <tbody>\n",
       "    <tr>\n",
       "      <th>3195</th>\n",
       "      <td>2020.11</td>\n",
       "      <td>32.0</td>\n",
       "      <td>324.371247</td>\n",
       "      <td>10.0</td>\n",
       "      <td>5614.0</td>\n",
       "      <td>488918.0</td>\n",
       "    </tr>\n",
       "    <tr>\n",
       "      <th>2996</th>\n",
       "      <td>2020.03</td>\n",
       "      <td>28.0</td>\n",
       "      <td>772.777219</td>\n",
       "      <td>10.0</td>\n",
       "      <td>5217.0</td>\n",
       "      <td>299235.0</td>\n",
       "    </tr>\n",
       "    <tr>\n",
       "      <th>5763</th>\n",
       "      <td>2020.02</td>\n",
       "      <td>33.0</td>\n",
       "      <td>326.339631</td>\n",
       "      <td>10.0</td>\n",
       "      <td>5222.0</td>\n",
       "      <td>555253.0</td>\n",
       "    </tr>\n",
       "    <tr>\n",
       "      <th>2416</th>\n",
       "      <td>2019.06</td>\n",
       "      <td>NaN</td>\n",
       "      <td>NaN</td>\n",
       "      <td>NaN</td>\n",
       "      <td>5222.0</td>\n",
       "      <td>268172.0</td>\n",
       "    </tr>\n",
       "    <tr>\n",
       "      <th>8112</th>\n",
       "      <td>2019.08</td>\n",
       "      <td>20.0</td>\n",
       "      <td>370.088151</td>\n",
       "      <td>NaN</td>\n",
       "      <td>nan</td>\n",
       "      <td>NaN</td>\n",
       "    </tr>\n",
       "  </tbody>\n",
       "</table>\n",
       "</div>"
      ],
      "text/plain": [
       "     TransactionDate  HouseAge  DistanceToStation  NumberOfPubs PostCode  \\\n",
       "ID                                                                         \n",
       "3195         2020.11      32.0         324.371247          10.0   5614.0   \n",
       "2996         2020.03      28.0         772.777219          10.0   5217.0   \n",
       "5763         2020.02      33.0         326.339631          10.0   5222.0   \n",
       "2416         2019.06       NaN                NaN           NaN   5222.0   \n",
       "8112         2019.08      20.0         370.088151           NaN      nan   \n",
       "\n",
       "      HousePrice  \n",
       "ID                \n",
       "3195    488918.0  \n",
       "2996    299235.0  \n",
       "5763    555253.0  \n",
       "2416    268172.0  \n",
       "8112         NaN  "
      ]
     },
     "execution_count": 102,
     "metadata": {},
     "output_type": "execute_result"
    }
   ],
   "source": [
    "train.sort_values('NumberOfPubs').tail()"
   ]
  },
  {
   "cell_type": "code",
   "execution_count": null,
   "id": "cc916644-2eed-463a-b930-bce635bbbc0b",
   "metadata": {},
   "outputs": [
    {
     "data": {
      "image/png": "[encoded data removed]",
      "text/plain": [
       "<Figure size 640x480 with 1 Axes>"
      ]
     },
     "metadata": {},
     "output_type": "display_data"
    }
   ],
   "source": [
    "sns.boxplot(x = train['NumberOfPubs'])\n",
    "plt.show()"
   ]
  },
  {
   "cell_type": "code",
   "execution_count": null,
   "id": "b28a6f07-acf2-4549-bf62-e210f493a9a2",
   "metadata": {},
   "outputs": [
    {
     "data": {
      "image/png": "[encoded data removed]",
      "text/plain": [
       "<Figure size 640x480 with 1 Axes>"
      ]
     },
     "metadata": {},
     "output_type": "display_data"
    }
   ],
   "source": [
    "train.boxplot('NumberOfPubs')\n",
    "plt.show()"
   ]
  },
  {
   "cell_type": "markdown",
   "id": "2c95f361-6799-4d8a-8d49-b490e1d4287a",
   "metadata": {},
   "source": [
    "### Analyse Categorical Variables"
   ]
  },
  {
   "cell_type": "code",
   "execution_count": null,
   "id": "ea3309d3-a967-4a7e-b54f-f1b129e695f6",
   "metadata": {},
   "outputs": [
    {
     "data": {
      "image/png": "[encoded data removed]",
      "text/plain": [
       "<Figure size 640x480 with 1 Axes>"
      ]
     },
     "metadata": {},
     "output_type": "display_data"
    }
   ],
   "source": [
    "# create a counterplot for transaction date\n",
    "plt.xticks(rotation=90)\n",
    "sns.countplot(x='TransactionDate', data=train)\n",
    "plt.show()"
   ]
  },
  {
   "cell_type": "code",
   "execution_count": null,
   "id": "188b74bc-6a23-49eb-952c-13046c607529",
   "metadata": {},
   "outputs": [
    {
     "data": {
      "image/png": "[encoded data removed]",
      "text/plain": [
       "<Figure size 640x480 with 1 Axes>"
      ]
     },
     "metadata": {},
     "output_type": "display_data"
    }
   ],
   "source": [
    "plt.xticks(rotation=90)\n",
    "sns.countplot(x=train['PostCode'])\n",
    "plt.show()"
   ]
  },
  {
   "cell_type": "markdown",
   "id": "5c25c67e-8eba-405c-be2a-6d751d7a7583",
   "metadata": {},
   "source": [
    "### Analyse Relationships between Numeric/Numeric"
   ]
  },
  {
   "cell_type": "markdown",
   "id": "3cb477de-7384-4282-bab0-48ac9d42f3f0",
   "metadata": {},
   "source": [
    "Calculate Pearsons Correlation"
   ]
  },
  {
   "cell_type": "code",
   "execution_count": null,
   "id": "6a22603e-d39c-4a75-aea4-b3504ca87906",
   "metadata": {},
   "outputs": [
    {
     "data": {
      "text/html": [
       "<div>\n",
       "<style scoped>\n",
       "    .dataframe tbody tr th:only-of-type {\n",
       "        vertical-align: middle;\n",
       "    }\n",
       "\n",
       "    .dataframe tbody tr th {\n",
       "        vertical-align: top;\n",
       "    }\n",
       "\n",
       "    .dataframe thead th {\n",
       "        text-align: right;\n",
       "    }\n",
       "</style>\n",
       "<table border=\"1\" class=\"dataframe\">\n",
       "  <thead>\n",
       "    <tr style=\"text-align: right;\">\n",
       "      <th></th>\n",
       "      <th>HouseAge</th>\n",
       "      <th>DistanceToStation</th>\n",
       "      <th>NumberOfPubs</th>\n",
       "      <th>HousePrice</th>\n",
       "    </tr>\n",
       "  </thead>\n",
       "  <tbody>\n",
       "    <tr>\n",
       "      <th>HouseAge</th>\n",
       "      <td>1.000000</td>\n",
       "      <td>0.034074</td>\n",
       "      <td>0.044189</td>\n",
       "      <td>-0.156693</td>\n",
       "    </tr>\n",
       "    <tr>\n",
       "      <th>DistanceToStation</th>\n",
       "      <td>0.034074</td>\n",
       "      <td>1.000000</td>\n",
       "      <td>-0.586704</td>\n",
       "      <td>-0.539859</td>\n",
       "    </tr>\n",
       "    <tr>\n",
       "      <th>NumberOfPubs</th>\n",
       "      <td>0.044189</td>\n",
       "      <td>-0.586704</td>\n",
       "      <td>1.000000</td>\n",
       "      <td>0.452309</td>\n",
       "    </tr>\n",
       "    <tr>\n",
       "      <th>HousePrice</th>\n",
       "      <td>-0.156693</td>\n",
       "      <td>-0.539859</td>\n",
       "      <td>0.452309</td>\n",
       "      <td>1.000000</td>\n",
       "    </tr>\n",
       "  </tbody>\n",
       "</table>\n",
       "</div>"
      ],
      "text/plain": [
       "                   HouseAge  DistanceToStation  NumberOfPubs  HousePrice\n",
       "HouseAge           1.000000           0.034074      0.044189   -0.156693\n",
       "DistanceToStation  0.034074           1.000000     -0.586704   -0.539859\n",
       "NumberOfPubs       0.044189          -0.586704      1.000000    0.452309\n",
       "HousePrice        -0.156693          -0.539859      0.452309    1.000000"
      ]
     },
     "execution_count": 107,
     "metadata": {},
     "output_type": "execute_result"
    }
   ],
   "source": [
    "# calc pearsons corr (+1 = positive corr, -1 = negative corr)\n",
    "train.select_dtypes(exclude='object').corr()"
   ]
  },
  {
   "cell_type": "code",
   "execution_count": null,
   "id": "447217d7-ee82-4752-8d0d-02bd1b5bd5e2",
   "metadata": {},
   "outputs": [
    {
     "data": {
      "image/png": "[encoded data removed]",
      "text/plain": [
       "<Figure size 640x480 with 2 Axes>"
      ]
     },
     "metadata": {},
     "output_type": "display_data"
    }
   ],
   "source": [
    "# viz corr with a heatmap\n",
    "sns.heatmap(train.select_dtypes(exclude='object').corr())\n",
    "plt.show()"
   ]
  },
  {
   "cell_type": "code",
   "execution_count": null,
   "id": "43a8b9e2-35e3-4cc1-864f-d28b7cec0bb1",
   "metadata": {},
   "outputs": [
    {
     "data": {
      "image/png": "[encoded data removed]",
      "text/plain": [
       "<Figure size 640x480 with 1 Axes>"
      ]
     },
     "metadata": {},
     "output_type": "display_data"
    }
   ],
   "source": [
    "# create a scatter plot to see how the price decreases as distance increases\n",
    "sns.scatterplot(x='DistanceToStation', y='HousePrice', data=train)\n",
    "plt.show()"
   ]
  },
  {
   "cell_type": "markdown",
   "id": "03d6d731-206c-40aa-9133-3c5a2b6ae9ee",
   "metadata": {},
   "source": [
    "### Analyse relationships Categorical/Numeric"
   ]
  },
  {
   "cell_type": "markdown",
   "id": "33fe246d-a2c8-4d36-91af-05df13c623c8",
   "metadata": {},
   "source": [
    "Is postcode driving value?"
   ]
  },
  {
   "cell_type": "code",
   "execution_count": null,
   "id": "03289bc3-428a-4250-a1b9-e1e34017c7f2",
   "metadata": {},
   "outputs": [
    {
     "data": {
      "image/png": "[encoded data removed]",
      "text/plain": [
       "<Figure size 640x480 with 1 Axes>"
      ]
     },
     "metadata": {},
     "output_type": "display_data"
    }
   ],
   "source": [
    "sns.violinplot(x='PostCode', y='HousePrice', data=train)\n",
    "plt.show()"
   ]
  },
  {
   "cell_type": "markdown",
   "id": "abb452ad-5ef6-4cf9-af3e-67bb2ffff843",
   "metadata": {},
   "source": [
    "Working with dates"
   ]
  },
  {
   "cell_type": "code",
   "execution_count": null,
   "id": "caf10ff9-00c6-42f3-919f-65d79ea827af",
   "metadata": {},
   "outputs": [
    {
     "data": {
      "text/html": [
       "<div>\n",
       "<style scoped>\n",
       "    .dataframe tbody tr th:only-of-type {\n",
       "        vertical-align: middle;\n",
       "    }\n",
       "\n",
       "    .dataframe tbody tr th {\n",
       "        vertical-align: top;\n",
       "    }\n",
       "\n",
       "    .dataframe thead th {\n",
       "        text-align: right;\n",
       "    }\n",
       "</style>\n",
       "<table border=\"1\" class=\"dataframe\">\n",
       "  <thead>\n",
       "    <tr style=\"text-align: right;\">\n",
       "      <th></th>\n",
       "      <th>TransactionDate</th>\n",
       "      <th>HouseAge</th>\n",
       "      <th>DistanceToStation</th>\n",
       "      <th>NumberOfPubs</th>\n",
       "      <th>PostCode</th>\n",
       "      <th>HousePrice</th>\n",
       "    </tr>\n",
       "    <tr>\n",
       "      <th>ID</th>\n",
       "      <th></th>\n",
       "      <th></th>\n",
       "      <th></th>\n",
       "      <th></th>\n",
       "      <th></th>\n",
       "      <th></th>\n",
       "    </tr>\n",
       "  </thead>\n",
       "  <tbody>\n",
       "  </tbody>\n",
       "</table>\n",
       "</div>"
      ],
      "text/plain": [
       "Empty DataFrame\n",
       "Columns: [TransactionDate, HouseAge, DistanceToStation, NumberOfPubs, PostCode, HousePrice]\n",
       "Index: []"
      ]
     },
     "execution_count": 111,
     "metadata": {},
     "output_type": "execute_result"
    }
   ],
   "source": [
    "# check for nulls in a col\n",
    "train[train['TransactionDate'].isnull()]"
   ]
  },
  {
   "cell_type": "code",
   "execution_count": null,
   "id": "0187314f-6b86-4ef0-aca1-43ad4bd458f9",
   "metadata": {},
   "outputs": [
    {
     "data": {
      "text/html": [
       "<div>\n",
       "<style scoped>\n",
       "    .dataframe tbody tr th:only-of-type {\n",
       "        vertical-align: middle;\n",
       "    }\n",
       "\n",
       "    .dataframe tbody tr th {\n",
       "        vertical-align: top;\n",
       "    }\n",
       "\n",
       "    .dataframe thead th {\n",
       "        text-align: right;\n",
       "    }\n",
       "</style>\n",
       "<table border=\"1\" class=\"dataframe\">\n",
       "  <thead>\n",
       "    <tr style=\"text-align: right;\">\n",
       "      <th></th>\n",
       "      <th>TransactionDate</th>\n",
       "      <th>HouseAge</th>\n",
       "      <th>DistanceToStation</th>\n",
       "      <th>NumberOfPubs</th>\n",
       "      <th>PostCode</th>\n",
       "      <th>HousePrice</th>\n",
       "    </tr>\n",
       "    <tr>\n",
       "      <th>ID</th>\n",
       "      <th></th>\n",
       "      <th></th>\n",
       "      <th></th>\n",
       "      <th></th>\n",
       "      <th></th>\n",
       "      <th></th>\n",
       "    </tr>\n",
       "  </thead>\n",
       "  <tbody>\n",
       "    <tr>\n",
       "      <th>7673</th>\n",
       "      <td>nan</td>\n",
       "      <td>NaN</td>\n",
       "      <td>3830.892098</td>\n",
       "      <td>0.0</td>\n",
       "      <td>5217.0</td>\n",
       "      <td>NaN</td>\n",
       "    </tr>\n",
       "  </tbody>\n",
       "</table>\n",
       "</div>"
      ],
      "text/plain": [
       "     TransactionDate  HouseAge  DistanceToStation  NumberOfPubs PostCode  \\\n",
       "ID                                                                         \n",
       "7673             nan       NaN        3830.892098           0.0   5217.0   \n",
       "\n",
       "      HousePrice  \n",
       "ID                \n",
       "7673         NaN  "
      ]
     },
     "execution_count": 112,
     "metadata": {},
     "output_type": "execute_result"
    }
   ],
   "source": [
    "# check for  a string exists in a col\n",
    "train[train['TransactionDate']=='nan']"
   ]
  },
  {
   "cell_type": "code",
   "execution_count": null,
   "id": "f0baf779-f800-49e1-80f2-2e4a47941bad",
   "metadata": {},
   "outputs": [],
   "source": [
    "# drop missing house prices\n",
    "train = train[~train['HousePrice'].isnull()]  #train[(~train['HousePrice'].isnull()) & train['TransactionDate']=='nan']"
   ]
  },
  {
   "cell_type": "code",
   "execution_count": null,
   "id": "176d5e5a-8942-4330-842f-9d883f420c11",
   "metadata": {},
   "outputs": [
    {
     "data": {
      "text/html": [
       "<div>\n",
       "<style scoped>\n",
       "    .dataframe tbody tr th:only-of-type {\n",
       "        vertical-align: middle;\n",
       "    }\n",
       "\n",
       "    .dataframe tbody tr th {\n",
       "        vertical-align: top;\n",
       "    }\n",
       "\n",
       "    .dataframe thead th {\n",
       "        text-align: right;\n",
       "    }\n",
       "</style>\n",
       "<table border=\"1\" class=\"dataframe\">\n",
       "  <thead>\n",
       "    <tr style=\"text-align: right;\">\n",
       "      <th></th>\n",
       "      <th>TransactionDate</th>\n",
       "      <th>HouseAge</th>\n",
       "      <th>DistanceToStation</th>\n",
       "      <th>NumberOfPubs</th>\n",
       "      <th>PostCode</th>\n",
       "      <th>HousePrice</th>\n",
       "    </tr>\n",
       "    <tr>\n",
       "      <th>ID</th>\n",
       "      <th></th>\n",
       "      <th></th>\n",
       "      <th></th>\n",
       "      <th></th>\n",
       "      <th></th>\n",
       "      <th></th>\n",
       "    </tr>\n",
       "  </thead>\n",
       "  <tbody>\n",
       "    <tr>\n",
       "      <th>8450</th>\n",
       "      <td>2021.02</td>\n",
       "      <td>34.0</td>\n",
       "      <td>460.994365</td>\n",
       "      <td>8.0</td>\n",
       "      <td>5614.0</td>\n",
       "      <td>460286.0</td>\n",
       "    </tr>\n",
       "    <tr>\n",
       "      <th>5758</th>\n",
       "      <td>2020.01</td>\n",
       "      <td>17.0</td>\n",
       "      <td>614.851833</td>\n",
       "      <td>3.0</td>\n",
       "      <td>5213.0</td>\n",
       "      <td>253332.0</td>\n",
       "    </tr>\n",
       "    <tr>\n",
       "      <th>4030</th>\n",
       "      <td>2021.06</td>\n",
       "      <td>34.0</td>\n",
       "      <td>285.892687</td>\n",
       "      <td>9.0</td>\n",
       "      <td>5614.0</td>\n",
       "      <td>486532.0</td>\n",
       "    </tr>\n",
       "    <tr>\n",
       "      <th>8447</th>\n",
       "      <td>2020.12</td>\n",
       "      <td>0.0</td>\n",
       "      <td>195.213314</td>\n",
       "      <td>6.0</td>\n",
       "      <td>5222.0</td>\n",
       "      <td>595168.0</td>\n",
       "    </tr>\n",
       "    <tr>\n",
       "      <th>4370</th>\n",
       "      <td>2019.03</td>\n",
       "      <td>34.0</td>\n",
       "      <td>124.082230</td>\n",
       "      <td>8.0</td>\n",
       "      <td>5212.0</td>\n",
       "      <td>250495.0</td>\n",
       "    </tr>\n",
       "    <tr>\n",
       "      <th>...</th>\n",
       "      <td>...</td>\n",
       "      <td>...</td>\n",
       "      <td>...</td>\n",
       "      <td>...</td>\n",
       "      <td>...</td>\n",
       "      <td>...</td>\n",
       "    </tr>\n",
       "    <tr>\n",
       "      <th>664</th>\n",
       "      <td>2020.08</td>\n",
       "      <td>37.0</td>\n",
       "      <td>375.427313</td>\n",
       "      <td>1.0</td>\n",
       "      <td>5217.0</td>\n",
       "      <td>301492.0</td>\n",
       "    </tr>\n",
       "    <tr>\n",
       "      <th>7540</th>\n",
       "      <td>2020.08</td>\n",
       "      <td>34.0</td>\n",
       "      <td>114.362370</td>\n",
       "      <td>5.0</td>\n",
       "      <td>5212.0</td>\n",
       "      <td>174239.0</td>\n",
       "    </tr>\n",
       "    <tr>\n",
       "      <th>7221</th>\n",
       "      <td>2020.02</td>\n",
       "      <td>16.0</td>\n",
       "      <td>605.834036</td>\n",
       "      <td>2.0</td>\n",
       "      <td>5217.0</td>\n",
       "      <td>327666.0</td>\n",
       "    </tr>\n",
       "    <tr>\n",
       "      <th>1318</th>\n",
       "      <td>2020.11</td>\n",
       "      <td>36.0</td>\n",
       "      <td>34.582346</td>\n",
       "      <td>7.0</td>\n",
       "      <td>5217.0</td>\n",
       "      <td>392231.0</td>\n",
       "    </tr>\n",
       "    <tr>\n",
       "      <th>8915</th>\n",
       "      <td>2019.12</td>\n",
       "      <td>12.0</td>\n",
       "      <td>1599.983379</td>\n",
       "      <td>1.0</td>\n",
       "      <td>5614.0</td>\n",
       "      <td>213263.0</td>\n",
       "    </tr>\n",
       "  </tbody>\n",
       "</table>\n",
       "<p>6541 rows × 6 columns</p>\n",
       "</div>"
      ],
      "text/plain": [
       "     TransactionDate  HouseAge  DistanceToStation  NumberOfPubs PostCode  \\\n",
       "ID                                                                         \n",
       "8450         2021.02      34.0         460.994365           8.0   5614.0   \n",
       "5758         2020.01      17.0         614.851833           3.0   5213.0   \n",
       "4030         2021.06      34.0         285.892687           9.0   5614.0   \n",
       "8447         2020.12       0.0         195.213314           6.0   5222.0   \n",
       "4370         2019.03      34.0         124.082230           8.0   5212.0   \n",
       "...              ...       ...                ...           ...      ...   \n",
       "664          2020.08      37.0         375.427313           1.0   5217.0   \n",
       "7540         2020.08      34.0         114.362370           5.0   5212.0   \n",
       "7221         2020.02      16.0         605.834036           2.0   5217.0   \n",
       "1318         2020.11      36.0          34.582346           7.0   5217.0   \n",
       "8915         2019.12      12.0        1599.983379           1.0   5614.0   \n",
       "\n",
       "      HousePrice  \n",
       "ID                \n",
       "8450    460286.0  \n",
       "5758    253332.0  \n",
       "4030    486532.0  \n",
       "8447    595168.0  \n",
       "4370    250495.0  \n",
       "...          ...  \n",
       "664     301492.0  \n",
       "7540    174239.0  \n",
       "7221    327666.0  \n",
       "1318    392231.0  \n",
       "8915    213263.0  \n",
       "\n",
       "[6541 rows x 6 columns]"
      ]
     },
     "execution_count": 115,
     "metadata": {},
     "output_type": "execute_result"
    }
   ],
   "source": [
    "train"
   ]
  },
  {
   "cell_type": "code",
   "execution_count": null,
   "id": "04f7b564-78fe-403e-a846-2eca0a8c9907",
   "metadata": {},
   "outputs": [
    {
     "data": {
      "text/plain": [
       "2"
      ]
     },
     "execution_count": 120,
     "metadata": {},
     "output_type": "execute_result"
    }
   ],
   "source": [
    "int(train.iloc[0]['TransactionDate'][5:])"
   ]
  },
  {
   "cell_type": "markdown",
   "id": "8ead1c1c-d204-46cb-bcf4-5bb92364473d",
   "metadata": {},
   "source": [
    "### Apply string transformation to Transaction Date"
   ]
  },
  {
   "cell_type": "code",
   "execution_count": null,
   "id": "1e7dde3a-fd11-4456-99d0-c6484e21df7f",
   "metadata": {},
   "outputs": [],
   "source": [
    "train['YearSold'] = train['TransactionDate'].apply(lambda x: x[:4]).astype(int)\n",
    "train['MonthSold'] =train['TransactionDate'].apply(lambda x: x[5:]).astype(int)"
   ]
  },
  {
   "cell_type": "code",
   "execution_count": null,
   "id": "206602d5-df7c-4357-919f-43594c1517d4",
   "metadata": {},
   "outputs": [
    {
     "data": {
      "image/png": "[encoded data removed]",
      "text/plain": [
       "<Figure size 640x480 with 1 Axes>"
      ]
     },
     "metadata": {},
     "output_type": "display_data"
    }
   ],
   "source": [
    "sns.countplot(x=train['YearSold'])\n",
    "plt.show()"
   ]
  },
  {
   "cell_type": "code",
   "execution_count": null,
   "id": "c226b933-b671-43f0-adec-5968c6ae5991",
   "metadata": {},
   "outputs": [
    {
     "data": {
      "image/png": "[encoded data removed]",
      "text/plain": [
       "<Figure size 640x480 with 1 Axes>"
      ]
     },
     "metadata": {},
     "output_type": "display_data"
    }
   ],
   "source": [
    "plt.title('Is there a rltnship between year and house price?')\n",
    "sns.boxplot(x='YearSold', y='HousePrice', data=train)\n",
    "plt.show()"
   ]
  },
  {
   "cell_type": "code",
   "execution_count": null,
   "id": "1043762e-c8f1-4b46-b871-5613f98889ec",
   "metadata": {},
   "outputs": [
    {
     "data": {
      "image/png": "[encoded data removed]",
      "text/plain": [
       "<Figure size 640x480 with 1 Axes>"
      ]
     },
     "metadata": {},
     "output_type": "display_data"
    }
   ],
   "source": [
    "plt.title('Is there a rltnship between month and house price?')\n",
    "sns.boxplot(x='MonthSold', y='HousePrice', data=train)\n",
    "plt.show()"
   ]
  },
  {
   "cell_type": "markdown",
   "id": "125eb4da-180e-43f5-b700-9c5726b8f5a4",
   "metadata": {},
   "source": [
    "## 4. Data Preprocessing"
   ]
  },
  {
   "cell_type": "markdown",
   "id": "b295e8a5-2be9-4d66-9684-7fb8ef9d2ce5",
   "metadata": {},
   "source": [
    "### Build Preprocessing Function"
   ]
  },
  {
   "cell_type": "code",
   "execution_count": null,
   "id": "872e8773-26b9-46db-98e4-4f19271fb8ea",
   "metadata": {},
   "outputs": [],
   "source": [
    "from sklearn.impute import SimpleImputer\n",
    "from sklearn.preprocessing import StandardScaler, OneHotEncoder\n",
    "from sklearn.base import BaseEstimator, TransformerMixin"
   ]
  },
  {
   "cell_type": "code",
   "execution_count": null,
   "id": "0c02055b-02e3-4687-95f6-3b7b17ed2401",
   "metadata": {},
   "outputs": [
    {
     "data": {
      "text/plain": [
       "array([[  17.37972167, 1091.84711209,    4.0735474 ],\n",
       "       [  17.37972167, 1091.84711209,    4.        ]])"
      ]
     },
     "execution_count": 145,
     "metadata": {},
     "output_type": "execute_result"
    }
   ],
   "source": [
    "# Using Simple Imputer\n",
    "imputer = SimpleImputer()\n",
    "imputer.fit(train[['HouseAge', 'DistanceToStation', 'NumberOfPubs']])\n",
    "imputer.transform(train[train['HouseAge'].isnull()][['HouseAge', 'DistanceToStation', 'NumberOfPubs']])"
   ]
  },
  {
   "cell_type": "code",
   "execution_count": null,
   "id": "d0834473-8b9c-44f5-bf51-2d7b971b01fd",
   "metadata": {},
   "outputs": [
    {
     "data": {
      "text/plain": [
       "-0.12027904011738184"
      ]
     },
     "execution_count": 147,
     "metadata": {},
     "output_type": "execute_result"
    }
   ],
   "source": [
    "# Using Standard Scaler\n",
    "train[train['HouseAge'].isnull()][['HouseAge', 'DistanceToStation', 'NumberOfPubs']]\n",
    "(16 - train['HouseAge'].mean()) / train['HouseAge'].std()"
   ]
  },
  {
   "cell_type": "code",
   "execution_count": null,
   "id": "62890877-33ff-4f74-883d-dda88aeff9da",
   "metadata": {},
   "outputs": [
    {
     "data": {
      "text/plain": [
       "array(['PostCode_5212.0', 'PostCode_5213.0', 'PostCode_5217.0',\n",
       "       'PostCode_5222.0', 'PostCode_5614.0'], dtype=object)"
      ]
     },
     "execution_count": 149,
     "metadata": {},
     "output_type": "execute_result"
    }
   ],
   "source": [
    "# Using One Hot Encoder\n",
    "onehot = OneHotEncoder()\n",
    "onehot.fit(train[['PostCode']])\n",
    "onehot.transform(train[['PostCode']])\n",
    "onehot.get_feature_names_out()"
   ]
  },
  {
   "cell_type": "code",
   "execution_count": null,
   "id": "0e7d7217-00d8-49a1-8ec7-ece25f5d9b11",
   "metadata": {},
   "outputs": [],
   "source": [
    "class Preprocessor(BaseEstimator, TransformerMixin):\n",
    "    # train our custom preprocessors\n",
    "    def fit(self, X, y=None):\n",
    "        \n",
    "        # Create and fit simple imputer\n",
    "        self.imputer = SimpleImputer()\n",
    "        self.imputer.fit(X[['HouseAge', 'DistanceToStation', 'NumberOfPubs']])\n",
    "        \n",
    "        # create and fit standard scaler\n",
    "        self.scaler = StandardScaler()\n",
    "        self.scaler.fit(X[['HouseAge', 'DistanceToStation', 'NumberOfPubs']])\n",
    "        \n",
    "        # create and fit one hot encoder\n",
    "        self.onehot = OneHotEncoder(handle_unknown='ignore')\n",
    "        self.onehot.fit(X[['PostCode']])\n",
    "        \n",
    "        return self\n",
    "        \n",
    "        \n",
    "    def transform(self, X):\n",
    "        \n",
    "        # apply simple imputer\n",
    "        imputed_cols = self.imputer.transform(X[['HouseAge', 'DistanceToStation', 'NumberOfPubs']])\n",
    "        onehot_cols = self.onehot.transform(X[['PostCode']])\n",
    "        \n",
    "        # copy the df\n",
    "        transformed_df = X.copy()\n",
    "        \n",
    "        # apply year and month transformation\n",
    "        transformed_df['Year'] = transformed_df['TransactionDate'].apply(lambda x: x[:4]).astype(int)\n",
    "        transformed_df['Month'] = transformed_df['TransactionDate'].apply(lambda x: x[5:]).astype(int)\n",
    "        transformed_df = transformed_df.drop('TransactionDate', axis=1)\n",
    "        \n",
    "        # apply transformed columns\n",
    "        transformed_df[['HouseAge', 'DistanceToStation', 'NumberOfPubs']] = imputed_cols\n",
    "        transformed_df[['HouseAge', 'DistanceToStation', 'NumberOfPubs']] = self.scaler.transform(transformed_df[['HouseAge', 'DistanceToStation', 'NumberOfPubs']])\n",
    "        \n",
    "        # drop existing post Code Column and replace it with one hot equiv\n",
    "        transformed_df = transformed_df.drop('PostCode', axis=1)\n",
    "        transformed_df[self.onehot.get_feature_names_out()] = onehot_cols.toarray().astype(int)\n",
    "        \n",
    "        return transformed_df"
   ]
  },
  {
   "cell_type": "code",
   "execution_count": null,
   "id": "2fcfaf10-2fae-497d-87ec-77e5bc717ddc",
   "metadata": {},
   "outputs": [],
   "source": [
    "preproc = Preprocessor()"
   ]
  },
  {
   "cell_type": "code",
   "execution_count": null,
   "id": "8929599f-a241-4478-8957-19d281ca91ae",
   "metadata": {},
   "outputs": [
    {
     "data": {
      "text/html": [
       "<style>#sk-container-id-16 {color: black;}#sk-container-id-16 pre{padding: 0;}#sk-container-id-16 div.sk-toggleable {background-color: white;}#sk-container-id-16 label.sk-toggleable__label {cursor: pointer;display: block;width: 100%;margin-bottom: 0;padding: 0.3em;box-sizing: border-box;text-align: center;}#sk-container-id-16 label.sk-toggleable__label-arrow:before {content: \"▸\";float: left;margin-right: 0.25em;color: #696969;}#sk-container-id-16 label.sk-toggleable__label-arrow:hover:before {color: black;}#sk-container-id-16 div.sk-estimator:hover label.sk-toggleable__label-arrow:before {color: black;}#sk-container-id-16 div.sk-toggleable__content {max-height: 0;max-width: 0;overflow: hidden;text-align: left;background-color: #f0f8ff;}#sk-container-id-16 div.sk-toggleable__content pre {margin: 0.2em;color: black;border-radius: 0.25em;background-color: #f0f8ff;}#sk-container-id-16 input.sk-toggleable__control:checked~div.sk-toggleable__content {max-height: 200px;max-width: 100%;overflow: auto;}#sk-container-id-16 input.sk-toggleable__control:checked~label.sk-toggleable__label-arrow:before {content: \"▾\";}#sk-container-id-16 div.sk-estimator input.sk-toggleable__control:checked~label.sk-toggleable__label {background-color: #d4ebff;}#sk-container-id-16 div.sk-label input.sk-toggleable__control:checked~label.sk-toggleable__label {background-color: #d4ebff;}#sk-container-id-16 input.sk-hidden--visually {border: 0;clip: rect(1px 1px 1px 1px);clip: rect(1px, 1px, 1px, 1px);height: 1px;margin: -1px;overflow: hidden;padding: 0;position: absolute;width: 1px;}#sk-container-id-16 div.sk-estimator {font-family: monospace;background-color: #f0f8ff;border: 1px dotted black;border-radius: 0.25em;box-sizing: border-box;margin-bottom: 0.5em;}#sk-container-id-16 div.sk-estimator:hover {background-color: #d4ebff;}#sk-container-id-16 div.sk-parallel-item::after {content: \"\";width: 100%;border-bottom: 1px solid gray;flex-grow: 1;}#sk-container-id-16 div.sk-label:hover label.sk-toggleable__label {background-color: #d4ebff;}#sk-container-id-16 div.sk-serial::before {content: \"\";position: absolute;border-left: 1px solid gray;box-sizing: border-box;top: 0;bottom: 0;left: 50%;z-index: 0;}#sk-container-id-16 div.sk-serial {display: flex;flex-direction: column;align-items: center;background-color: white;padding-right: 0.2em;padding-left: 0.2em;position: relative;}#sk-container-id-16 div.sk-item {position: relative;z-index: 1;}#sk-container-id-16 div.sk-parallel {display: flex;align-items: stretch;justify-content: center;background-color: white;position: relative;}#sk-container-id-16 div.sk-item::before, #sk-container-id-16 div.sk-parallel-item::before {content: \"\";position: absolute;border-left: 1px solid gray;box-sizing: border-box;top: 0;bottom: 0;left: 50%;z-index: -1;}#sk-container-id-16 div.sk-parallel-item {display: flex;flex-direction: column;z-index: 1;position: relative;background-color: white;}#sk-container-id-16 div.sk-parallel-item:first-child::after {align-self: flex-end;width: 50%;}#sk-container-id-16 div.sk-parallel-item:last-child::after {align-self: flex-start;width: 50%;}#sk-container-id-16 div.sk-parallel-item:only-child::after {width: 0;}#sk-container-id-16 div.sk-dashed-wrapped {border: 1px dashed gray;margin: 0 0.4em 0.5em 0.4em;box-sizing: border-box;padding-bottom: 0.4em;background-color: white;}#sk-container-id-16 div.sk-label label {font-family: monospace;font-weight: bold;display: inline-block;line-height: 1.2em;}#sk-container-id-16 div.sk-label-container {text-align: center;}#sk-container-id-16 div.sk-container {/* jupyter's `normalize.less` sets `[hidden] { display: none; }` but bootstrap.min.css set `[hidden] { display: none !important; }` so we also need the `!important` here to be able to override the default hidden behavior on the sphinx rendered scikit-learn.org. See: https://github.com/scikit-learn/scikit-learn/issues/21755 */display: inline-block !important;position: relative;}#sk-container-id-16 div.sk-text-repr-fallback {display: none;}</style><div id=\"sk-container-id-16\" class=\"sk-top-container\"><div class=\"sk-text-repr-fallback\"><pre>Preprocessor()</pre><b>In a Jupyter environment, please rerun this cell to show the HTML representation or trust the notebook. <br />On GitHub, the HTML representation is unable to render, please try loading this page with nbviewer.org.</b></div><div class=\"sk-container\" hidden><div class=\"sk-item\"><div class=\"sk-estimator sk-toggleable\"><input class=\"sk-toggleable__control sk-hidden--visually\" id=\"sk-estimator-id-16\" type=\"checkbox\" checked><label for=\"sk-estimator-id-16\" class=\"sk-toggleable__label sk-toggleable__label-arrow\">Preprocessor</label><div class=\"sk-toggleable__content\"><pre>Preprocessor()</pre></div></div></div></div></div>"
      ],
      "text/plain": [
       "Preprocessor()"
      ]
     },
     "execution_count": 214,
     "metadata": {},
     "output_type": "execute_result"
    }
   ],
   "source": [
    "preproc.fit(train)"
   ]
  },
  {
   "cell_type": "markdown",
   "id": "2cf4e175-ca7e-4aa8-b26c-60eeb83636e4",
   "metadata": {},
   "source": [
    "### Preview Preprocessed Data"
   ]
  },
  {
   "cell_type": "code",
   "execution_count": null,
   "id": "20d7a030-e6d8-4d86-911c-7977e55b0afd",
   "metadata": {},
   "outputs": [
    {
     "data": {
      "text/html": [
       "<div>\n",
       "<style scoped>\n",
       "    .dataframe tbody tr th:only-of-type {\n",
       "        vertical-align: middle;\n",
       "    }\n",
       "\n",
       "    .dataframe tbody tr th {\n",
       "        vertical-align: top;\n",
       "    }\n",
       "\n",
       "    .dataframe thead th {\n",
       "        text-align: right;\n",
       "    }\n",
       "</style>\n",
       "<table border=\"1\" class=\"dataframe\">\n",
       "  <thead>\n",
       "    <tr style=\"text-align: right;\">\n",
       "      <th></th>\n",
       "      <th>HouseAge</th>\n",
       "      <th>DistanceToStation</th>\n",
       "      <th>NumberOfPubs</th>\n",
       "      <th>HousePrice</th>\n",
       "      <th>Year</th>\n",
       "      <th>Month</th>\n",
       "      <th>PostCode_5212.0</th>\n",
       "      <th>PostCode_5213.0</th>\n",
       "      <th>PostCode_5217.0</th>\n",
       "      <th>PostCode_5222.0</th>\n",
       "      <th>PostCode_5614.0</th>\n",
       "    </tr>\n",
       "    <tr>\n",
       "      <th>ID</th>\n",
       "      <th></th>\n",
       "      <th></th>\n",
       "      <th></th>\n",
       "      <th></th>\n",
       "      <th></th>\n",
       "      <th></th>\n",
       "      <th></th>\n",
       "      <th></th>\n",
       "      <th></th>\n",
       "      <th></th>\n",
       "      <th></th>\n",
       "    </tr>\n",
       "  </thead>\n",
       "  <tbody>\n",
       "    <tr>\n",
       "      <th>8450</th>\n",
       "      <td>1.449005</td>\n",
       "      <td>-0.496716</td>\n",
       "      <td>1.328375</td>\n",
       "      <td>460286.0</td>\n",
       "      <td>2021</td>\n",
       "      <td>2</td>\n",
       "      <td>0</td>\n",
       "      <td>0</td>\n",
       "      <td>0</td>\n",
       "      <td>0</td>\n",
       "      <td>1</td>\n",
       "    </tr>\n",
       "    <tr>\n",
       "      <th>5758</th>\n",
       "      <td>-0.033105</td>\n",
       "      <td>-0.375573</td>\n",
       "      <td>-0.363196</td>\n",
       "      <td>253332.0</td>\n",
       "      <td>2020</td>\n",
       "      <td>1</td>\n",
       "      <td>0</td>\n",
       "      <td>1</td>\n",
       "      <td>0</td>\n",
       "      <td>0</td>\n",
       "      <td>0</td>\n",
       "    </tr>\n",
       "    <tr>\n",
       "      <th>4030</th>\n",
       "      <td>1.449005</td>\n",
       "      <td>-0.634586</td>\n",
       "      <td>1.666689</td>\n",
       "      <td>486532.0</td>\n",
       "      <td>2021</td>\n",
       "      <td>6</td>\n",
       "      <td>0</td>\n",
       "      <td>0</td>\n",
       "      <td>0</td>\n",
       "      <td>0</td>\n",
       "      <td>1</td>\n",
       "    </tr>\n",
       "    <tr>\n",
       "      <th>8447</th>\n",
       "      <td>-1.515216</td>\n",
       "      <td>-0.705984</td>\n",
       "      <td>0.651746</td>\n",
       "      <td>595168.0</td>\n",
       "      <td>2020</td>\n",
       "      <td>12</td>\n",
       "      <td>0</td>\n",
       "      <td>0</td>\n",
       "      <td>0</td>\n",
       "      <td>1</td>\n",
       "      <td>0</td>\n",
       "    </tr>\n",
       "    <tr>\n",
       "      <th>4370</th>\n",
       "      <td>1.449005</td>\n",
       "      <td>-0.761991</td>\n",
       "      <td>1.328375</td>\n",
       "      <td>250495.0</td>\n",
       "      <td>2019</td>\n",
       "      <td>3</td>\n",
       "      <td>1</td>\n",
       "      <td>0</td>\n",
       "      <td>0</td>\n",
       "      <td>0</td>\n",
       "      <td>0</td>\n",
       "    </tr>\n",
       "  </tbody>\n",
       "</table>\n",
       "</div>"
      ],
      "text/plain": [
       "      HouseAge  DistanceToStation  NumberOfPubs  HousePrice  Year  Month  \\\n",
       "ID                                                                         \n",
       "8450  1.449005          -0.496716      1.328375    460286.0  2021      2   \n",
       "5758 -0.033105          -0.375573     -0.363196    253332.0  2020      1   \n",
       "4030  1.449005          -0.634586      1.666689    486532.0  2021      6   \n",
       "8447 -1.515216          -0.705984      0.651746    595168.0  2020     12   \n",
       "4370  1.449005          -0.761991      1.328375    250495.0  2019      3   \n",
       "\n",
       "      PostCode_5212.0  PostCode_5213.0  PostCode_5217.0  PostCode_5222.0  \\\n",
       "ID                                                                         \n",
       "8450                0                0                0                0   \n",
       "5758                0                1                0                0   \n",
       "4030                0                0                0                0   \n",
       "8447                0                0                0                1   \n",
       "4370                1                0                0                0   \n",
       "\n",
       "      PostCode_5614.0  \n",
       "ID                     \n",
       "8450                1  \n",
       "5758                0  \n",
       "4030                1  \n",
       "8447                0  \n",
       "4370                0  "
      ]
     },
     "execution_count": 215,
     "metadata": {},
     "output_type": "execute_result"
    }
   ],
   "source": [
    "preprocessed_df = preproc.transform(train.drop(['YearSold', 'MonthSold'], axis=1))\n",
    "preprocessed_df.head()"
   ]
  },
  {
   "cell_type": "code",
   "execution_count": null,
   "id": "188b5ada-7d31-4f9b-8995-581db6c1ef0e",
   "metadata": {},
   "outputs": [
    {
     "data": {
      "text/plain": [
       "HouseAge             float64\n",
       "DistanceToStation    float64\n",
       "NumberOfPubs         float64\n",
       "HousePrice           float64\n",
       "Year                   int32\n",
       "Month                  int32\n",
       "PostCode_5212.0        int32\n",
       "PostCode_5213.0        int32\n",
       "PostCode_5217.0        int32\n",
       "PostCode_5222.0        int32\n",
       "PostCode_5614.0        int32\n",
       "dtype: object"
      ]
     },
     "execution_count": 216,
     "metadata": {},
     "output_type": "execute_result"
    }
   ],
   "source": [
    "preprocessed_df.dtypes"
   ]
  },
  {
   "cell_type": "code",
   "execution_count": null,
   "id": "40a4743f-de62-4cd0-96d0-b72f6dcf135f",
   "metadata": {
    "collapsed": true,
    "jupyter": {
     "outputs_hidden": true
    },
    "tags": []
   },
   "outputs": [
    {
     "name": "stdout",
     "output_type": "stream",
     "text": [
      "<class 'pandas.core.frame.DataFrame'>\n",
      "Index: 6541 entries, 8450 to 8915\n",
      "Data columns (total 11 columns):\n",
      " #   Column             Non-Null Count  Dtype  \n",
      "---  ------             --------------  -----  \n",
      " 0   HouseAge           6541 non-null   float64\n",
      " 1   DistanceToStation  6541 non-null   float64\n",
      " 2   NumberOfPubs       6541 non-null   float64\n",
      " 3   HousePrice         6541 non-null   float64\n",
      " 4   Year               6541 non-null   int32  \n",
      " 5   Month              6541 non-null   int32  \n",
      " 6   PostCode_5212.0    6541 non-null   int32  \n",
      " 7   PostCode_5213.0    6541 non-null   int32  \n",
      " 8   PostCode_5217.0    6541 non-null   int32  \n",
      " 9   PostCode_5222.0    6541 non-null   int32  \n",
      " 10  PostCode_5614.0    6541 non-null   int32  \n",
      "dtypes: float64(4), int32(7)\n",
      "memory usage: 692.4 KB\n"
     ]
    }
   ],
   "source": [
    "preprocessed_df.info()"
   ]
  },
  {
   "cell_type": "markdown",
   "id": "50b4be25-ae9d-4fa0-bdec-f317af39c885",
   "metadata": {},
   "source": [
    "### Clean up Analysis Features"
   ]
  },
  {
   "cell_type": "code",
   "execution_count": null,
   "id": "82fe0ea6-65a5-4fae-8711-486c69540f83",
   "metadata": {
    "collapsed": true,
    "jupyter": {
     "outputs_hidden": true
    },
    "tags": []
   },
   "outputs": [
    {
     "ename": "KeyError",
     "evalue": "\"['YearSold', 'MonthSold'] not found in axis\"",
     "output_type": "error",
     "traceback": [
      "\u001b[1;31m---------------------------------------------------------------------------\u001b[0m",
      "\u001b[1;31mKeyError\u001b[0m                                  Traceback (most recent call last)",
      "Cell \u001b[1;32mIn[221], line 1\u001b[0m\n\u001b[1;32m----> 1\u001b[0m train \u001b[38;5;241m=\u001b[39m \u001b[43mtrain\u001b[49m\u001b[38;5;241;43m.\u001b[39;49m\u001b[43mdrop\u001b[49m\u001b[43m(\u001b[49m\u001b[43m[\u001b[49m\u001b[38;5;124;43m'\u001b[39;49m\u001b[38;5;124;43mYearSold\u001b[39;49m\u001b[38;5;124;43m'\u001b[39;49m\u001b[43m,\u001b[49m\u001b[43m \u001b[49m\u001b[38;5;124;43m'\u001b[39;49m\u001b[38;5;124;43mMonthSold\u001b[39;49m\u001b[38;5;124;43m'\u001b[39;49m\u001b[43m]\u001b[49m\u001b[43m,\u001b[49m\u001b[43m \u001b[49m\u001b[43maxis\u001b[49m\u001b[38;5;241;43m=\u001b[39;49m\u001b[38;5;241;43m1\u001b[39;49m\u001b[43m)\u001b[49m\n",
      "File \u001b[1;32mD:\\Regression\\regression\\Lib\\site-packages\\pandas\\core\\frame.py:5258\u001b[0m, in \u001b[0;36mDataFrame.drop\u001b[1;34m(self, labels, axis, index, columns, level, inplace, errors)\u001b[0m\n\u001b[0;32m   5110\u001b[0m \u001b[38;5;28;01mdef\u001b[39;00m \u001b[38;5;21mdrop\u001b[39m(\n\u001b[0;32m   5111\u001b[0m     \u001b[38;5;28mself\u001b[39m,\n\u001b[0;32m   5112\u001b[0m     labels: IndexLabel \u001b[38;5;241m=\u001b[39m \u001b[38;5;28;01mNone\u001b[39;00m,\n\u001b[1;32m   (...)\u001b[0m\n\u001b[0;32m   5119\u001b[0m     errors: IgnoreRaise \u001b[38;5;241m=\u001b[39m \u001b[38;5;124m\"\u001b[39m\u001b[38;5;124mraise\u001b[39m\u001b[38;5;124m\"\u001b[39m,\n\u001b[0;32m   5120\u001b[0m ) \u001b[38;5;241m-\u001b[39m\u001b[38;5;241m>\u001b[39m DataFrame \u001b[38;5;241m|\u001b[39m \u001b[38;5;28;01mNone\u001b[39;00m:\n\u001b[0;32m   5121\u001b[0m \u001b[38;5;250m    \u001b[39m\u001b[38;5;124;03m\"\"\"\u001b[39;00m\n\u001b[0;32m   5122\u001b[0m \u001b[38;5;124;03m    Drop specified labels from rows or columns.\u001b[39;00m\n\u001b[0;32m   5123\u001b[0m \n\u001b[1;32m   (...)\u001b[0m\n\u001b[0;32m   5256\u001b[0m \u001b[38;5;124;03m            weight  1.0     0.8\u001b[39;00m\n\u001b[0;32m   5257\u001b[0m \u001b[38;5;124;03m    \"\"\"\u001b[39;00m\n\u001b[1;32m-> 5258\u001b[0m     \u001b[38;5;28;01mreturn\u001b[39;00m \u001b[38;5;28;43msuper\u001b[39;49m\u001b[43m(\u001b[49m\u001b[43m)\u001b[49m\u001b[38;5;241;43m.\u001b[39;49m\u001b[43mdrop\u001b[49m\u001b[43m(\u001b[49m\n\u001b[0;32m   5259\u001b[0m \u001b[43m        \u001b[49m\u001b[43mlabels\u001b[49m\u001b[38;5;241;43m=\u001b[39;49m\u001b[43mlabels\u001b[49m\u001b[43m,\u001b[49m\n\u001b[0;32m   5260\u001b[0m \u001b[43m        \u001b[49m\u001b[43maxis\u001b[49m\u001b[38;5;241;43m=\u001b[39;49m\u001b[43maxis\u001b[49m\u001b[43m,\u001b[49m\n\u001b[0;32m   5261\u001b[0m \u001b[43m        \u001b[49m\u001b[43mindex\u001b[49m\u001b[38;5;241;43m=\u001b[39;49m\u001b[43mindex\u001b[49m\u001b[43m,\u001b[49m\n\u001b[0;32m   5262\u001b[0m \u001b[43m        \u001b[49m\u001b[43mcolumns\u001b[49m\u001b[38;5;241;43m=\u001b[39;49m\u001b[43mcolumns\u001b[49m\u001b[43m,\u001b[49m\n\u001b[0;32m   5263\u001b[0m \u001b[43m        \u001b[49m\u001b[43mlevel\u001b[49m\u001b[38;5;241;43m=\u001b[39;49m\u001b[43mlevel\u001b[49m\u001b[43m,\u001b[49m\n\u001b[0;32m   5264\u001b[0m \u001b[43m        \u001b[49m\u001b[43minplace\u001b[49m\u001b[38;5;241;43m=\u001b[39;49m\u001b[43minplace\u001b[49m\u001b[43m,\u001b[49m\n\u001b[0;32m   5265\u001b[0m \u001b[43m        \u001b[49m\u001b[43merrors\u001b[49m\u001b[38;5;241;43m=\u001b[39;49m\u001b[43merrors\u001b[49m\u001b[43m,\u001b[49m\n\u001b[0;32m   5266\u001b[0m \u001b[43m    \u001b[49m\u001b[43m)\u001b[49m\n",
      "File \u001b[1;32mD:\\Regression\\regression\\Lib\\site-packages\\pandas\\core\\generic.py:4549\u001b[0m, in \u001b[0;36mNDFrame.drop\u001b[1;34m(self, labels, axis, index, columns, level, inplace, errors)\u001b[0m\n\u001b[0;32m   4547\u001b[0m \u001b[38;5;28;01mfor\u001b[39;00m axis, labels \u001b[38;5;129;01min\u001b[39;00m axes\u001b[38;5;241m.\u001b[39mitems():\n\u001b[0;32m   4548\u001b[0m     \u001b[38;5;28;01mif\u001b[39;00m labels \u001b[38;5;129;01mis\u001b[39;00m \u001b[38;5;129;01mnot\u001b[39;00m \u001b[38;5;28;01mNone\u001b[39;00m:\n\u001b[1;32m-> 4549\u001b[0m         obj \u001b[38;5;241m=\u001b[39m \u001b[43mobj\u001b[49m\u001b[38;5;241;43m.\u001b[39;49m\u001b[43m_drop_axis\u001b[49m\u001b[43m(\u001b[49m\u001b[43mlabels\u001b[49m\u001b[43m,\u001b[49m\u001b[43m \u001b[49m\u001b[43maxis\u001b[49m\u001b[43m,\u001b[49m\u001b[43m \u001b[49m\u001b[43mlevel\u001b[49m\u001b[38;5;241;43m=\u001b[39;49m\u001b[43mlevel\u001b[49m\u001b[43m,\u001b[49m\u001b[43m \u001b[49m\u001b[43merrors\u001b[49m\u001b[38;5;241;43m=\u001b[39;49m\u001b[43merrors\u001b[49m\u001b[43m)\u001b[49m\n\u001b[0;32m   4551\u001b[0m \u001b[38;5;28;01mif\u001b[39;00m inplace:\n\u001b[0;32m   4552\u001b[0m     \u001b[38;5;28mself\u001b[39m\u001b[38;5;241m.\u001b[39m_update_inplace(obj)\n",
      "File \u001b[1;32mD:\\Regression\\regression\\Lib\\site-packages\\pandas\\core\\generic.py:4591\u001b[0m, in \u001b[0;36mNDFrame._drop_axis\u001b[1;34m(self, labels, axis, level, errors, only_slice)\u001b[0m\n\u001b[0;32m   4589\u001b[0m         new_axis \u001b[38;5;241m=\u001b[39m axis\u001b[38;5;241m.\u001b[39mdrop(labels, level\u001b[38;5;241m=\u001b[39mlevel, errors\u001b[38;5;241m=\u001b[39merrors)\n\u001b[0;32m   4590\u001b[0m     \u001b[38;5;28;01melse\u001b[39;00m:\n\u001b[1;32m-> 4591\u001b[0m         new_axis \u001b[38;5;241m=\u001b[39m \u001b[43maxis\u001b[49m\u001b[38;5;241;43m.\u001b[39;49m\u001b[43mdrop\u001b[49m\u001b[43m(\u001b[49m\u001b[43mlabels\u001b[49m\u001b[43m,\u001b[49m\u001b[43m \u001b[49m\u001b[43merrors\u001b[49m\u001b[38;5;241;43m=\u001b[39;49m\u001b[43merrors\u001b[49m\u001b[43m)\u001b[49m\n\u001b[0;32m   4592\u001b[0m     indexer \u001b[38;5;241m=\u001b[39m axis\u001b[38;5;241m.\u001b[39mget_indexer(new_axis)\n\u001b[0;32m   4594\u001b[0m \u001b[38;5;66;03m# Case for non-unique axis\u001b[39;00m\n\u001b[0;32m   4595\u001b[0m \u001b[38;5;28;01melse\u001b[39;00m:\n",
      "File \u001b[1;32mD:\\Regression\\regression\\Lib\\site-packages\\pandas\\core\\indexes\\base.py:6699\u001b[0m, in \u001b[0;36mIndex.drop\u001b[1;34m(self, labels, errors)\u001b[0m\n\u001b[0;32m   6697\u001b[0m \u001b[38;5;28;01mif\u001b[39;00m mask\u001b[38;5;241m.\u001b[39many():\n\u001b[0;32m   6698\u001b[0m     \u001b[38;5;28;01mif\u001b[39;00m errors \u001b[38;5;241m!=\u001b[39m \u001b[38;5;124m\"\u001b[39m\u001b[38;5;124mignore\u001b[39m\u001b[38;5;124m\"\u001b[39m:\n\u001b[1;32m-> 6699\u001b[0m         \u001b[38;5;28;01mraise\u001b[39;00m \u001b[38;5;167;01mKeyError\u001b[39;00m(\u001b[38;5;124mf\u001b[39m\u001b[38;5;124m\"\u001b[39m\u001b[38;5;132;01m{\u001b[39;00m\u001b[38;5;28mlist\u001b[39m(labels[mask])\u001b[38;5;132;01m}\u001b[39;00m\u001b[38;5;124m not found in axis\u001b[39m\u001b[38;5;124m\"\u001b[39m)\n\u001b[0;32m   6700\u001b[0m     indexer \u001b[38;5;241m=\u001b[39m indexer[\u001b[38;5;241m~\u001b[39mmask]\n\u001b[0;32m   6701\u001b[0m \u001b[38;5;28;01mreturn\u001b[39;00m \u001b[38;5;28mself\u001b[39m\u001b[38;5;241m.\u001b[39mdelete(indexer)\n",
      "\u001b[1;31mKeyError\u001b[0m: \"['YearSold', 'MonthSold'] not found in axis\""
     ]
    }
   ],
   "source": [
    "train = train.drop(['YearSold', 'MonthSold'], axis=1)"
   ]
  },
  {
   "cell_type": "code",
   "execution_count": null,
   "id": "a42a2b57-fa41-4f57-b200-56ebfce7b457",
   "metadata": {},
   "outputs": [
    {
     "data": {
      "text/html": [
       "<div>\n",
       "<style scoped>\n",
       "    .dataframe tbody tr th:only-of-type {\n",
       "        vertical-align: middle;\n",
       "    }\n",
       "\n",
       "    .dataframe tbody tr th {\n",
       "        vertical-align: top;\n",
       "    }\n",
       "\n",
       "    .dataframe thead th {\n",
       "        text-align: right;\n",
       "    }\n",
       "</style>\n",
       "<table border=\"1\" class=\"dataframe\">\n",
       "  <thead>\n",
       "    <tr style=\"text-align: right;\">\n",
       "      <th></th>\n",
       "      <th>TransactionDate</th>\n",
       "      <th>HouseAge</th>\n",
       "      <th>DistanceToStation</th>\n",
       "      <th>NumberOfPubs</th>\n",
       "      <th>PostCode</th>\n",
       "      <th>HousePrice</th>\n",
       "    </tr>\n",
       "    <tr>\n",
       "      <th>ID</th>\n",
       "      <th></th>\n",
       "      <th></th>\n",
       "      <th></th>\n",
       "      <th></th>\n",
       "      <th></th>\n",
       "      <th></th>\n",
       "    </tr>\n",
       "  </thead>\n",
       "  <tbody>\n",
       "    <tr>\n",
       "      <th>8450</th>\n",
       "      <td>2021.02</td>\n",
       "      <td>34.0</td>\n",
       "      <td>460.994365</td>\n",
       "      <td>8.0</td>\n",
       "      <td>5614.0</td>\n",
       "      <td>460286.0</td>\n",
       "    </tr>\n",
       "    <tr>\n",
       "      <th>5758</th>\n",
       "      <td>2020.01</td>\n",
       "      <td>17.0</td>\n",
       "      <td>614.851833</td>\n",
       "      <td>3.0</td>\n",
       "      <td>5213.0</td>\n",
       "      <td>253332.0</td>\n",
       "    </tr>\n",
       "    <tr>\n",
       "      <th>4030</th>\n",
       "      <td>2021.06</td>\n",
       "      <td>34.0</td>\n",
       "      <td>285.892687</td>\n",
       "      <td>9.0</td>\n",
       "      <td>5614.0</td>\n",
       "      <td>486532.0</td>\n",
       "    </tr>\n",
       "    <tr>\n",
       "      <th>8447</th>\n",
       "      <td>2020.12</td>\n",
       "      <td>0.0</td>\n",
       "      <td>195.213314</td>\n",
       "      <td>6.0</td>\n",
       "      <td>5222.0</td>\n",
       "      <td>595168.0</td>\n",
       "    </tr>\n",
       "    <tr>\n",
       "      <th>4370</th>\n",
       "      <td>2019.03</td>\n",
       "      <td>34.0</td>\n",
       "      <td>124.082230</td>\n",
       "      <td>8.0</td>\n",
       "      <td>5212.0</td>\n",
       "      <td>250495.0</td>\n",
       "    </tr>\n",
       "  </tbody>\n",
       "</table>\n",
       "</div>"
      ],
      "text/plain": [
       "     TransactionDate  HouseAge  DistanceToStation  NumberOfPubs PostCode  \\\n",
       "ID                                                                         \n",
       "8450         2021.02      34.0         460.994365           8.0   5614.0   \n",
       "5758         2020.01      17.0         614.851833           3.0   5213.0   \n",
       "4030         2021.06      34.0         285.892687           9.0   5614.0   \n",
       "8447         2020.12       0.0         195.213314           6.0   5222.0   \n",
       "4370         2019.03      34.0         124.082230           8.0   5212.0   \n",
       "\n",
       "      HousePrice  \n",
       "ID                \n",
       "8450    460286.0  \n",
       "5758    253332.0  \n",
       "4030    486532.0  \n",
       "8447    595168.0  \n",
       "4370    250495.0  "
      ]
     },
     "execution_count": 222,
     "metadata": {},
     "output_type": "execute_result"
    }
   ],
   "source": [
    "train.head()"
   ]
  },
  {
   "cell_type": "markdown",
   "id": "ba4ab4d4-7fa5-46b3-add3-aea197dfa473",
   "metadata": {},
   "source": [
    "### Create X and y values"
   ]
  },
  {
   "cell_type": "code",
   "execution_count": null,
   "id": "3a7fc67d-f052-4eaf-be6f-5a0a2e09c76b",
   "metadata": {},
   "outputs": [],
   "source": [
    "X_train = train.drop('HousePrice', axis=1)\n",
    "y_train = train['HousePrice']"
   ]
  },
  {
   "cell_type": "markdown",
   "id": "14ccecfa-e1b4-4ff8-a1ce-11e94a8e5a8a",
   "metadata": {},
   "source": [
    "## 5. Modelling"
   ]
  },
  {
   "cell_type": "markdown",
   "id": "bc208378-a438-4a19-a078-74e98a3b3ad7",
   "metadata": {},
   "source": [
    "### Import ML Dependencies"
   ]
  },
  {
   "cell_type": "code",
   "execution_count": null,
   "id": "318b8570-4e6b-42be-9dc8-dd569be24c98",
   "metadata": {},
   "outputs": [],
   "source": [
    "from sklearn.pipeline import make_pipeline\n",
    "from sklearn.linear_model import Ridge\n",
    "from sklearn.ensemble import RandomForestRegressor, GradientBoostingRegressor\n",
    "from xgboost.sklearn import XGBRegressor"
   ]
  },
  {
   "cell_type": "markdown",
   "id": "666360a3-9e8a-4231-b3b9-42b9007497e7",
   "metadata": {},
   "source": [
    "### Create Pipelines"
   ]
  },
  {
   "cell_type": "code",
   "execution_count": null,
   "id": "aa407a09-efa5-4ce0-b47b-06d794baccf7",
   "metadata": {},
   "outputs": [],
   "source": [
    "pipelines = {\n",
    "    'ridge': make_pipeline(Preprocessor(), Ridge()),\n",
    "    'rf': make_pipeline(Preprocessor(), RandomForestRegressor()),\n",
    "    'gb': make_pipeline(Preprocessor(), GradientBoostingRegressor()),\n",
    "    'xg': make_pipeline(Preprocessor(), XGBRegressor())\n",
    "}"
   ]
  },
  {
   "cell_type": "code",
   "execution_count": null,
   "id": "8d5fd194-7ea6-41f6-a766-fd3e020ac52f",
   "metadata": {},
   "outputs": [
    {
     "data": {
      "text/html": [
       "<style>#sk-container-id-17 {color: black;}#sk-container-id-17 pre{padding: 0;}#sk-container-id-17 div.sk-toggleable {background-color: white;}#sk-container-id-17 label.sk-toggleable__label {cursor: pointer;display: block;width: 100%;margin-bottom: 0;padding: 0.3em;box-sizing: border-box;text-align: center;}#sk-container-id-17 label.sk-toggleable__label-arrow:before {content: \"▸\";float: left;margin-right: 0.25em;color: #696969;}#sk-container-id-17 label.sk-toggleable__label-arrow:hover:before {color: black;}#sk-container-id-17 div.sk-estimator:hover label.sk-toggleable__label-arrow:before {color: black;}#sk-container-id-17 div.sk-toggleable__content {max-height: 0;max-width: 0;overflow: hidden;text-align: left;background-color: #f0f8ff;}#sk-container-id-17 div.sk-toggleable__content pre {margin: 0.2em;color: black;border-radius: 0.25em;background-color: #f0f8ff;}#sk-container-id-17 input.sk-toggleable__control:checked~div.sk-toggleable__content {max-height: 200px;max-width: 100%;overflow: auto;}#sk-container-id-17 input.sk-toggleable__control:checked~label.sk-toggleable__label-arrow:before {content: \"▾\";}#sk-container-id-17 div.sk-estimator input.sk-toggleable__control:checked~label.sk-toggleable__label {background-color: #d4ebff;}#sk-container-id-17 div.sk-label input.sk-toggleable__control:checked~label.sk-toggleable__label {background-color: #d4ebff;}#sk-container-id-17 input.sk-hidden--visually {border: 0;clip: rect(1px 1px 1px 1px);clip: rect(1px, 1px, 1px, 1px);height: 1px;margin: -1px;overflow: hidden;padding: 0;position: absolute;width: 1px;}#sk-container-id-17 div.sk-estimator {font-family: monospace;background-color: #f0f8ff;border: 1px dotted black;border-radius: 0.25em;box-sizing: border-box;margin-bottom: 0.5em;}#sk-container-id-17 div.sk-estimator:hover {background-color: #d4ebff;}#sk-container-id-17 div.sk-parallel-item::after {content: \"\";width: 100%;border-bottom: 1px solid gray;flex-grow: 1;}#sk-container-id-17 div.sk-label:hover label.sk-toggleable__label {background-color: #d4ebff;}#sk-container-id-17 div.sk-serial::before {content: \"\";position: absolute;border-left: 1px solid gray;box-sizing: border-box;top: 0;bottom: 0;left: 50%;z-index: 0;}#sk-container-id-17 div.sk-serial {display: flex;flex-direction: column;align-items: center;background-color: white;padding-right: 0.2em;padding-left: 0.2em;position: relative;}#sk-container-id-17 div.sk-item {position: relative;z-index: 1;}#sk-container-id-17 div.sk-parallel {display: flex;align-items: stretch;justify-content: center;background-color: white;position: relative;}#sk-container-id-17 div.sk-item::before, #sk-container-id-17 div.sk-parallel-item::before {content: \"\";position: absolute;border-left: 1px solid gray;box-sizing: border-box;top: 0;bottom: 0;left: 50%;z-index: -1;}#sk-container-id-17 div.sk-parallel-item {display: flex;flex-direction: column;z-index: 1;position: relative;background-color: white;}#sk-container-id-17 div.sk-parallel-item:first-child::after {align-self: flex-end;width: 50%;}#sk-container-id-17 div.sk-parallel-item:last-child::after {align-self: flex-start;width: 50%;}#sk-container-id-17 div.sk-parallel-item:only-child::after {width: 0;}#sk-container-id-17 div.sk-dashed-wrapped {border: 1px dashed gray;margin: 0 0.4em 0.5em 0.4em;box-sizing: border-box;padding-bottom: 0.4em;background-color: white;}#sk-container-id-17 div.sk-label label {font-family: monospace;font-weight: bold;display: inline-block;line-height: 1.2em;}#sk-container-id-17 div.sk-label-container {text-align: center;}#sk-container-id-17 div.sk-container {/* jupyter's `normalize.less` sets `[hidden] { display: none; }` but bootstrap.min.css set `[hidden] { display: none !important; }` so we also need the `!important` here to be able to override the default hidden behavior on the sphinx rendered scikit-learn.org. See: https://github.com/scikit-learn/scikit-learn/issues/21755 */display: inline-block !important;position: relative;}#sk-container-id-17 div.sk-text-repr-fallback {display: none;}</style><div id=\"sk-container-id-17\" class=\"sk-top-container\"><div class=\"sk-text-repr-fallback\"><pre>Pipeline(steps=[(&#x27;preprocessor&#x27;, Preprocessor()), (&#x27;ridge&#x27;, Ridge())])</pre><b>In a Jupyter environment, please rerun this cell to show the HTML representation or trust the notebook. <br />On GitHub, the HTML representation is unable to render, please try loading this page with nbviewer.org.</b></div><div class=\"sk-container\" hidden><div class=\"sk-item sk-dashed-wrapped\"><div class=\"sk-label-container\"><div class=\"sk-label sk-toggleable\"><input class=\"sk-toggleable__control sk-hidden--visually\" id=\"sk-estimator-id-17\" type=\"checkbox\" ><label for=\"sk-estimator-id-17\" class=\"sk-toggleable__label sk-toggleable__label-arrow\">Pipeline</label><div class=\"sk-toggleable__content\"><pre>Pipeline(steps=[(&#x27;preprocessor&#x27;, Preprocessor()), (&#x27;ridge&#x27;, Ridge())])</pre></div></div></div><div class=\"sk-serial\"><div class=\"sk-item\"><div class=\"sk-estimator sk-toggleable\"><input class=\"sk-toggleable__control sk-hidden--visually\" id=\"sk-estimator-id-18\" type=\"checkbox\" ><label for=\"sk-estimator-id-18\" class=\"sk-toggleable__label sk-toggleable__label-arrow\">Preprocessor</label><div class=\"sk-toggleable__content\"><pre>Preprocessor()</pre></div></div></div><div class=\"sk-item\"><div class=\"sk-estimator sk-toggleable\"><input class=\"sk-toggleable__control sk-hidden--visually\" id=\"sk-estimator-id-19\" type=\"checkbox\" ><label for=\"sk-estimator-id-19\" class=\"sk-toggleable__label sk-toggleable__label-arrow\">Ridge</label><div class=\"sk-toggleable__content\"><pre>Ridge()</pre></div></div></div></div></div></div></div>"
      ],
      "text/plain": [
       "Pipeline(steps=[('preprocessor', Preprocessor()), ('ridge', Ridge())])"
      ]
     },
     "execution_count": 232,
     "metadata": {},
     "output_type": "execute_result"
    }
   ],
   "source": [
    "pipelines['ridge']"
   ]
  },
  {
   "cell_type": "markdown",
   "id": "21e7b1b1-8fe2-4093-baea-6687f203c2ce",
   "metadata": {},
   "source": [
    "### Create Tuning Grids"
   ]
  },
  {
   "cell_type": "code",
   "execution_count": null,
   "id": "b695874c-a6e5-410c-923f-922cb6ff43b5",
   "metadata": {},
   "outputs": [
    {
     "data": {
      "text/plain": [
       "{'preprocessor': Preprocessor(), 'ridge': Ridge()}"
      ]
     },
     "execution_count": 237,
     "metadata": {},
     "output_type": "execute_result"
    }
   ],
   "source": [
    "pipelines['ridge'].named_steps"
   ]
  },
  {
   "cell_type": "code",
   "execution_count": null,
   "id": "c698ada7-ae33-48f4-bbff-2c6e17bf2b14",
   "metadata": {},
   "outputs": [
    {
     "data": {
      "text/plain": [
       "{'memory': None,\n",
       " 'steps': [('preprocessor', Preprocessor()), ('ridge', Ridge())],\n",
       " 'verbose': False,\n",
       " 'preprocessor': Preprocessor(),\n",
       " 'ridge': Ridge(),\n",
       " 'ridge__alpha': 1.0,\n",
       " 'ridge__copy_X': True,\n",
       " 'ridge__fit_intercept': True,\n",
       " 'ridge__max_iter': None,\n",
       " 'ridge__positive': False,\n",
       " 'ridge__random_state': None,\n",
       " 'ridge__solver': 'auto',\n",
       " 'ridge__tol': 0.0001}"
      ]
     },
     "execution_count": 236,
     "metadata": {},
     "output_type": "execute_result"
    }
   ],
   "source": [
    "pipelines['ridge'].get_params()"
   ]
  },
  {
   "cell_type": "code",
   "execution_count": null,
   "id": "c57929fd-a125-40ee-8034-2e77db6e3bc5",
   "metadata": {},
   "outputs": [
    {
     "data": {
      "text/plain": [
       "{'memory': None,\n",
       " 'steps': [('preprocessor', Preprocessor()),\n",
       "  ('randomforestregressor', RandomForestRegressor())],\n",
       " 'verbose': False,\n",
       " 'preprocessor': Preprocessor(),\n",
       " 'randomforestregressor': RandomForestRegressor(),\n",
       " 'randomforestregressor__bootstrap': True,\n",
       " 'randomforestregressor__ccp_alpha': 0.0,\n",
       " 'randomforestregressor__criterion': 'squared_error',\n",
       " 'randomforestregressor__max_depth': None,\n",
       " 'randomforestregressor__max_features': 1.0,\n",
       " 'randomforestregressor__max_leaf_nodes': None,\n",
       " 'randomforestregressor__max_samples': None,\n",
       " 'randomforestregressor__min_impurity_decrease': 0.0,\n",
       " 'randomforestregressor__min_samples_leaf': 1,\n",
       " 'randomforestregressor__min_samples_split': 2,\n",
       " 'randomforestregressor__min_weight_fraction_leaf': 0.0,\n",
       " 'randomforestregressor__n_estimators': 100,\n",
       " 'randomforestregressor__n_jobs': None,\n",
       " 'randomforestregressor__oob_score': False,\n",
       " 'randomforestregressor__random_state': None,\n",
       " 'randomforestregressor__verbose': 0,\n",
       " 'randomforestregressor__warm_start': False}"
      ]
     },
     "execution_count": 242,
     "metadata": {},
     "output_type": "execute_result"
    }
   ],
   "source": [
    "pipelines['rf'].get_params()"
   ]
  },
  {
   "cell_type": "code",
   "execution_count": null,
   "id": "5c703c05-3627-46e4-a900-f4b9e68a6ddc",
   "metadata": {},
   "outputs": [
    {
     "data": {
      "text/plain": [
       "{'memory': None,\n",
       " 'steps': [('preprocessor', Preprocessor()),\n",
       "  ('gradientboostingregressor', GradientBoostingRegressor())],\n",
       " 'verbose': False,\n",
       " 'preprocessor': Preprocessor(),\n",
       " 'gradientboostingregressor': GradientBoostingRegressor(),\n",
       " 'gradientboostingregressor__alpha': 0.9,\n",
       " 'gradientboostingregressor__ccp_alpha': 0.0,\n",
       " 'gradientboostingregressor__criterion': 'friedman_mse',\n",
       " 'gradientboostingregressor__init': None,\n",
       " 'gradientboostingregressor__learning_rate': 0.1,\n",
       " 'gradientboostingregressor__loss': 'squared_error',\n",
       " 'gradientboostingregressor__max_depth': 3,\n",
       " 'gradientboostingregressor__max_features': None,\n",
       " 'gradientboostingregressor__max_leaf_nodes': None,\n",
       " 'gradientboostingregressor__min_impurity_decrease': 0.0,\n",
       " 'gradientboostingregressor__min_samples_leaf': 1,\n",
       " 'gradientboostingregressor__min_samples_split': 2,\n",
       " 'gradientboostingregressor__min_weight_fraction_leaf': 0.0,\n",
       " 'gradientboostingregressor__n_estimators': 100,\n",
       " 'gradientboostingregressor__n_iter_no_change': None,\n",
       " 'gradientboostingregressor__random_state': None,\n",
       " 'gradientboostingregressor__subsample': 1.0,\n",
       " 'gradientboostingregressor__tol': 0.0001,\n",
       " 'gradientboostingregressor__validation_fraction': 0.1,\n",
       " 'gradientboostingregressor__verbose': 0,\n",
       " 'gradientboostingregressor__warm_start': False}"
      ]
     },
     "execution_count": 243,
     "metadata": {},
     "output_type": "execute_result"
    }
   ],
   "source": [
    "pipelines['gb'].get_params()"
   ]
  },
  {
   "cell_type": "code",
   "execution_count": null,
   "id": "35166311-95b8-4210-858d-b6d8b468be69",
   "metadata": {},
   "outputs": [
    {
     "data": {
      "text/plain": [
       "{'memory': None,\n",
       " 'steps': [('preprocessor', Preprocessor()),\n",
       "  ('xgbregressor',\n",
       "   XGBRegressor(base_score=None, booster=None, callbacks=None,\n",
       "                colsample_bylevel=None, colsample_bynode=None,\n",
       "                colsample_bytree=None, early_stopping_rounds=None,\n",
       "                enable_categorical=False, eval_metric=None, feature_types=None,\n",
       "                gamma=None, gpu_id=None, grow_policy=None, importance_type=None,\n",
       "                interaction_constraints=None, learning_rate=None, max_bin=None,\n",
       "                max_cat_threshold=None, max_cat_to_onehot=None,\n",
       "                max_delta_step=None, max_depth=None, max_leaves=None,\n",
       "                min_child_weight=None, missing=nan, monotone_constraints=None,\n",
       "                n_estimators=100, n_jobs=None, num_parallel_tree=None,\n",
       "                predictor=None, random_state=None, ...))],\n",
       " 'verbose': False,\n",
       " 'preprocessor': Preprocessor(),\n",
       " 'xgbregressor': XGBRegressor(base_score=None, booster=None, callbacks=None,\n",
       "              colsample_bylevel=None, colsample_bynode=None,\n",
       "              colsample_bytree=None, early_stopping_rounds=None,\n",
       "              enable_categorical=False, eval_metric=None, feature_types=None,\n",
       "              gamma=None, gpu_id=None, grow_policy=None, importance_type=None,\n",
       "              interaction_constraints=None, learning_rate=None, max_bin=None,\n",
       "              max_cat_threshold=None, max_cat_to_onehot=None,\n",
       "              max_delta_step=None, max_depth=None, max_leaves=None,\n",
       "              min_child_weight=None, missing=nan, monotone_constraints=None,\n",
       "              n_estimators=100, n_jobs=None, num_parallel_tree=None,\n",
       "              predictor=None, random_state=None, ...),\n",
       " 'xgbregressor__objective': 'reg:squarederror',\n",
       " 'xgbregressor__base_score': None,\n",
       " 'xgbregressor__booster': None,\n",
       " 'xgbregressor__callbacks': None,\n",
       " 'xgbregressor__colsample_bylevel': None,\n",
       " 'xgbregressor__colsample_bynode': None,\n",
       " 'xgbregressor__colsample_bytree': None,\n",
       " 'xgbregressor__early_stopping_rounds': None,\n",
       " 'xgbregressor__enable_categorical': False,\n",
       " 'xgbregressor__eval_metric': None,\n",
       " 'xgbregressor__feature_types': None,\n",
       " 'xgbregressor__gamma': None,\n",
       " 'xgbregressor__gpu_id': None,\n",
       " 'xgbregressor__grow_policy': None,\n",
       " 'xgbregressor__importance_type': None,\n",
       " 'xgbregressor__interaction_constraints': None,\n",
       " 'xgbregressor__learning_rate': None,\n",
       " 'xgbregressor__max_bin': None,\n",
       " 'xgbregressor__max_cat_threshold': None,\n",
       " 'xgbregressor__max_cat_to_onehot': None,\n",
       " 'xgbregressor__max_delta_step': None,\n",
       " 'xgbregressor__max_depth': None,\n",
       " 'xgbregressor__max_leaves': None,\n",
       " 'xgbregressor__min_child_weight': None,\n",
       " 'xgbregressor__missing': nan,\n",
       " 'xgbregressor__monotone_constraints': None,\n",
       " 'xgbregressor__n_estimators': 100,\n",
       " 'xgbregressor__n_jobs': None,\n",
       " 'xgbregressor__num_parallel_tree': None,\n",
       " 'xgbregressor__predictor': None,\n",
       " 'xgbregressor__random_state': None,\n",
       " 'xgbregressor__reg_alpha': None,\n",
       " 'xgbregressor__reg_lambda': None,\n",
       " 'xgbregressor__sampling_method': None,\n",
       " 'xgbregressor__scale_pos_weight': None,\n",
       " 'xgbregressor__subsample': None,\n",
       " 'xgbregressor__tree_method': None,\n",
       " 'xgbregressor__validate_parameters': None,\n",
       " 'xgbregressor__verbosity': None}"
      ]
     },
     "execution_count": 244,
     "metadata": {},
     "output_type": "execute_result"
    }
   ],
   "source": [
    "pipelines['xg'].get_params()"
   ]
  },
  {
   "cell_type": "code",
   "execution_count": null,
   "id": "ee38b6c8-d3e8-4f1e-b6bb-6eba073ec834",
   "metadata": {},
   "outputs": [],
   "source": [
    "ridgemodel = Ridge()"
   ]
  },
  {
   "cell_type": "code",
   "execution_count": null,
   "id": "c3583b4e-8002-4355-bd74-0acaf000a535",
   "metadata": {},
   "outputs": [
    {
     "data": {
      "text/plain": [
       "1.0"
      ]
     },
     "execution_count": 239,
     "metadata": {},
     "output_type": "execute_result"
    }
   ],
   "source": [
    "ridgemodel.alpha"
   ]
  },
  {
   "cell_type": "code",
   "execution_count": null,
   "id": "3e5cda5c-d727-42ec-8eec-df23e8910719",
   "metadata": {},
   "outputs": [
    {
     "data": {
      "text/plain": [
       "1.0"
      ]
     },
     "execution_count": 240,
     "metadata": {},
     "output_type": "execute_result"
    }
   ],
   "source": [
    "pipelines['ridge']['ridge'].alpha"
   ]
  },
  {
   "cell_type": "code",
   "execution_count": null,
   "id": "f55d9820-aefe-4ed6-be2d-8e03ed1ea581",
   "metadata": {},
   "outputs": [],
   "source": [
    "grid = {\n",
    "    'ridge': {'ridge__alpha': [0.05, 0.25, 0.5, 1.0]},\n",
    "    'rf': {\n",
    "        'randomforestregressor__n_estimators':[100, 200, 300],\n",
    "        'randomforestregressor__max_depth':[5, 6, 7, None]\n",
    "    },\n",
    "    'gb': {\n",
    "        'gradientboostingregressor__n_estimators':[100, 200, 300],\n",
    "        'gradientboostingregressor__max_depth':[5, 6, 7, None]\n",
    "    },\n",
    "    'xg': {\n",
    "        'xgbregressor__n_estimators':[100, 200, 300],\n",
    "        'xgbregressor__max_depth':[5, 6, 7, None]\n",
    "    }\n",
    "}"
   ]
  },
  {
   "cell_type": "markdown",
   "id": "76282457-14e5-4586-92b3-b1e8eb38c56a",
   "metadata": {},
   "source": [
    "### Train Models and Perform HPO"
   ]
  },
  {
   "cell_type": "code",
   "execution_count": null,
   "id": "e6a1b839-5d13-4d6b-814f-f45bf50dfc71",
   "metadata": {},
   "outputs": [],
   "source": [
    "from sklearn.model_selection import GridSearchCV"
   ]
  },
  {
   "cell_type": "code",
   "execution_count": null,
   "id": "a58743fc-4ca6-4a69-ab09-96b6b9413714",
   "metadata": {},
   "outputs": [
    {
     "name": "stdout",
     "output_type": "stream",
     "text": [
      "ridge\n",
      "rf\n",
      "gb\n",
      "xg\n"
     ]
    }
   ],
   "source": [
    "fit_models = {}\n",
    "for algo, pipeline in pipelines.items():\n",
    "    try:\n",
    "        print(algo)\n",
    "        model = GridSearchCV(pipeline, grid[algo], n_jobs=1, cv=10, scoring='r2')\n",
    "        model.fit(X_train, y_train)\n",
    "        fit_models[algo] = model\n",
    "    except Exception as e:\n",
    "        pritn('*************\\nModel {} had an error {}\\n*************'.format(algo, e))"
   ]
  },
  {
   "cell_type": "code",
   "execution_count": null,
   "id": "82cdc568-2bea-471d-b663-15307642e653",
   "metadata": {},
   "outputs": [
    {
     "data": {
      "text/plain": [
       "{'ridge': GridSearchCV(cv=10,\n",
       "              estimator=Pipeline(steps=[('preprocessor', Preprocessor()),\n",
       "                                        ('ridge', Ridge())]),\n",
       "              n_jobs=1, param_grid={'ridge__alpha': [0.05, 0.25, 0.5, 1.0]},\n",
       "              scoring='r2'),\n",
       " 'rf': GridSearchCV(cv=10,\n",
       "              estimator=Pipeline(steps=[('preprocessor', Preprocessor()),\n",
       "                                        ('randomforestregressor',\n",
       "                                         RandomForestRegressor())]),\n",
       "              n_jobs=1,\n",
       "              param_grid={'randomforestregressor__max_depth': [5, 6, 7, None],\n",
       "                          'randomforestregressor__n_estimators': [100, 200,\n",
       "                                                                  300]},\n",
       "              scoring='r2'),\n",
       " 'gb': GridSearchCV(cv=10,\n",
       "              estimator=Pipeline(steps=[('preprocessor', Preprocessor()),\n",
       "                                        ('gradientboostingregressor',\n",
       "                                         GradientBoostingRegressor())]),\n",
       "              n_jobs=1,\n",
       "              param_grid={'gradientboostingregressor__max_depth': [5, 6, 7,\n",
       "                                                                   None],\n",
       "                          'gradientboostingregressor__n_estimators': [100, 200,\n",
       "                                                                      300]},\n",
       "              scoring='r2'),\n",
       " 'xg': GridSearchCV(cv=10,\n",
       "              estimator=Pipeline(steps=[('preprocessor', Preprocessor()),\n",
       "                                        ('xgbregressor',\n",
       "                                         XGBRegressor(base_score=None,\n",
       "                                                      booster=None,\n",
       "                                                      callbacks=None,\n",
       "                                                      colsample_bylevel=None,\n",
       "                                                      colsample_bynode=None,\n",
       "                                                      colsample_bytree=None,\n",
       "                                                      early_stopping_rounds=None,\n",
       "                                                      enable_categorical=False,\n",
       "                                                      eval_metric=None,\n",
       "                                                      feature_types=None,\n",
       "                                                      gamma=None, gpu_id=None,\n",
       "                                                      grow_policy=None,\n",
       "                                                      impor...\n",
       "                                                      max_cat_threshold=None,\n",
       "                                                      max_cat_to_onehot=None,\n",
       "                                                      max_delta_step=None,\n",
       "                                                      max_depth=None,\n",
       "                                                      max_leaves=None,\n",
       "                                                      min_child_weight=None,\n",
       "                                                      missing=nan,\n",
       "                                                      monotone_constraints=None,\n",
       "                                                      n_estimators=100,\n",
       "                                                      n_jobs=None,\n",
       "                                                      num_parallel_tree=None,\n",
       "                                                      predictor=None,\n",
       "                                                      random_state=None, ...))]),\n",
       "              n_jobs=1,\n",
       "              param_grid={'xgbregressor__max_depth': [5, 6, 7, None],\n",
       "                          'xgbregressor__n_estimators': [100, 200, 300]},\n",
       "              scoring='r2')}"
      ]
     },
     "execution_count": 280,
     "metadata": {},
     "output_type": "execute_result"
    }
   ],
   "source": [
    "fit_models"
   ]
  },
  {
   "cell_type": "markdown",
   "id": "4cb61109-51b8-4872-ac91-c09115c67aee",
   "metadata": {},
   "source": [
    "## 6. Evaluate Models"
   ]
  },
  {
   "cell_type": "markdown",
   "id": "8c8e0d2c-4ba3-4f4a-b7d2-5e4ffd57b18a",
   "metadata": {},
   "source": [
    "### Import Evaluation Metrics"
   ]
  },
  {
   "cell_type": "code",
   "execution_count": null,
   "id": "4d93c5c1-080c-4d30-be97-3404b41b1691",
   "metadata": {},
   "outputs": [],
   "source": [
    "from sklearn.metrics import r2_score, mean_absolute_error, mean_squared_error"
   ]
  },
  {
   "cell_type": "markdown",
   "id": "23216bf1-c94f-49f3-bdb5-9aaba9a0f402",
   "metadata": {},
   "source": [
    "### Preprocess Test Set for Predictions"
   ]
  },
  {
   "cell_type": "markdown",
   "id": "5d07d393-7212-4568-a4b8-84eecd73edf7",
   "metadata": {},
   "source": [
    "##### Look for Nulls"
   ]
  },
  {
   "cell_type": "code",
   "execution_count": null,
   "id": "28fe4ddf-75b8-4aa6-aa00-ba81d139d649",
   "metadata": {},
   "outputs": [
    {
     "data": {
      "text/plain": [
       "TransactionDate      1\n",
       "HouseAge             1\n",
       "DistanceToStation    0\n",
       "NumberOfPubs         0\n",
       "PostCode             0\n",
       "HousePrice           2\n",
       "dtype: int64"
      ]
     },
     "execution_count": 259,
     "metadata": {},
     "output_type": "execute_result"
    }
   ],
   "source": [
    "## look for null in test dataset\n",
    "test.isnull().sum()"
   ]
  },
  {
   "cell_type": "code",
   "execution_count": null,
   "id": "e9ba9bfa-566a-4ec6-8f7a-6b2a75048240",
   "metadata": {},
   "outputs": [
    {
     "name": "stdout",
     "output_type": "stream",
     "text": [
      "<class 'pandas.core.frame.DataFrame'>\n",
      "Index: 2807 entries, 7857 to 641\n",
      "Data columns (total 6 columns):\n",
      " #   Column             Non-Null Count  Dtype  \n",
      "---  ------             --------------  -----  \n",
      " 0   TransactionDate    2806 non-null   float64\n",
      " 1   HouseAge           2806 non-null   float64\n",
      " 2   DistanceToStation  2807 non-null   float64\n",
      " 3   NumberOfPubs       2807 non-null   float64\n",
      " 4   PostCode           2807 non-null   float64\n",
      " 5   HousePrice         2805 non-null   object \n",
      "dtypes: float64(5), object(1)\n",
      "memory usage: 153.5+ KB\n"
     ]
    }
   ],
   "source": [
    "test.info()"
   ]
  },
  {
   "cell_type": "code",
   "execution_count": null,
   "id": "f9210d70-a4d3-4c65-818e-f03ad027f50c",
   "metadata": {},
   "outputs": [],
   "source": [
    "test = test[~test.HousePrice.isnull()]"
   ]
  },
  {
   "cell_type": "code",
   "execution_count": null,
   "id": "3dd46c35-5b02-4aca-8382-913454bc6fc9",
   "metadata": {},
   "outputs": [
    {
     "data": {
      "text/plain": [
       "TransactionDate      0\n",
       "HouseAge             1\n",
       "DistanceToStation    0\n",
       "NumberOfPubs         0\n",
       "PostCode             0\n",
       "HousePrice           0\n",
       "dtype: int64"
      ]
     },
     "execution_count": 267,
     "metadata": {},
     "output_type": "execute_result"
    }
   ],
   "source": [
    "test.isnull().sum()"
   ]
  },
  {
   "cell_type": "markdown",
   "id": "9aed3ba8-9604-4d95-96e8-e822fae34b51",
   "metadata": {},
   "source": [
    "##### Check Dtypes"
   ]
  },
  {
   "cell_type": "code",
   "execution_count": null,
   "id": "1446c811-f27b-4308-9845-70db9ac92b69",
   "metadata": {},
   "outputs": [
    {
     "data": {
      "text/plain": [
       "TransactionDate      float64\n",
       "HouseAge             float64\n",
       "DistanceToStation    float64\n",
       "NumberOfPubs         float64\n",
       "PostCode             float64\n",
       "HousePrice            object\n",
       "dtype: object"
      ]
     },
     "execution_count": 268,
     "metadata": {},
     "output_type": "execute_result"
    }
   ],
   "source": [
    "test.dtypes"
   ]
  },
  {
   "cell_type": "code",
   "execution_count": null,
   "id": "b6b5d9d4-324a-44e9-9ff5-f8cf676c8537",
   "metadata": {},
   "outputs": [
    {
     "data": {
      "text/plain": [
       "TransactionDate       object\n",
       "HouseAge             float64\n",
       "DistanceToStation    float64\n",
       "NumberOfPubs         float64\n",
       "PostCode              object\n",
       "HousePrice           float64\n",
       "dtype: object"
      ]
     },
     "execution_count": 269,
     "metadata": {},
     "output_type": "execute_result"
    }
   ],
   "source": [
    "train.dtypes"
   ]
  },
  {
   "cell_type": "code",
   "execution_count": null,
   "id": "b616eb53-a1f0-4732-9ff1-d78e68e60c11",
   "metadata": {},
   "outputs": [],
   "source": [
    "# Fix dtypes in test df\n",
    "test = test[test['HousePrice']!='??']\n",
    "# can use array.ColName if there are not spaces\n",
    "test['HousePrice'] = test.HousePrice.astype(float)\n",
    "test['TransactionDate'] = test.TransactionDate.astype(str)\n",
    "test['PostCode'] = test.PostCode.astype(str)"
   ]
  },
  {
   "cell_type": "code",
   "execution_count": null,
   "id": "efddced1-7618-4beb-826b-113b196675f3",
   "metadata": {},
   "outputs": [
    {
     "data": {
      "text/plain": [
       "TransactionDate       object\n",
       "HouseAge             float64\n",
       "DistanceToStation    float64\n",
       "NumberOfPubs         float64\n",
       "PostCode              object\n",
       "HousePrice           float64\n",
       "dtype: object"
      ]
     },
     "execution_count": 275,
     "metadata": {},
     "output_type": "execute_result"
    }
   ],
   "source": [
    "test.dtypes"
   ]
  },
  {
   "cell_type": "markdown",
   "id": "0d4a36cf-78f8-4036-b71f-cd39fb116316",
   "metadata": {
    "tags": []
   },
   "source": [
    "##### Create X_test and y_test"
   ]
  },
  {
   "cell_type": "code",
   "execution_count": null,
   "id": "e74bb601-e9da-4358-96da-4991ea3bd83f",
   "metadata": {},
   "outputs": [],
   "source": [
    "X_test = test.drop('HousePrice', axis=1)\n",
    "y_test = test['HousePrice']"
   ]
  },
  {
   "cell_type": "code",
   "execution_count": null,
   "id": "87f1454f-1d26-4bb9-96fc-8fc39abceaa6",
   "metadata": {},
   "outputs": [
    {
     "data": {
      "text/html": [
       "<div>\n",
       "<style scoped>\n",
       "    .dataframe tbody tr th:only-of-type {\n",
       "        vertical-align: middle;\n",
       "    }\n",
       "\n",
       "    .dataframe tbody tr th {\n",
       "        vertical-align: top;\n",
       "    }\n",
       "\n",
       "    .dataframe thead th {\n",
       "        text-align: right;\n",
       "    }\n",
       "</style>\n",
       "<table border=\"1\" class=\"dataframe\">\n",
       "  <thead>\n",
       "    <tr style=\"text-align: right;\">\n",
       "      <th></th>\n",
       "      <th>TransactionDate</th>\n",
       "      <th>HouseAge</th>\n",
       "      <th>DistanceToStation</th>\n",
       "      <th>NumberOfPubs</th>\n",
       "      <th>PostCode</th>\n",
       "    </tr>\n",
       "    <tr>\n",
       "      <th>ID</th>\n",
       "      <th></th>\n",
       "      <th></th>\n",
       "      <th></th>\n",
       "      <th></th>\n",
       "      <th></th>\n",
       "    </tr>\n",
       "  </thead>\n",
       "  <tbody>\n",
       "    <tr>\n",
       "      <th>7857</th>\n",
       "      <td>2021.11</td>\n",
       "      <td>0.0</td>\n",
       "      <td>267.000535</td>\n",
       "      <td>6.0</td>\n",
       "      <td>5222.0</td>\n",
       "    </tr>\n",
       "    <tr>\n",
       "      <th>1641</th>\n",
       "      <td>2021.04</td>\n",
       "      <td>12.0</td>\n",
       "      <td>500.080510</td>\n",
       "      <td>5.0</td>\n",
       "      <td>5212.0</td>\n",
       "    </tr>\n",
       "    <tr>\n",
       "      <th>3620</th>\n",
       "      <td>2019.07</td>\n",
       "      <td>14.0</td>\n",
       "      <td>4024.663391</td>\n",
       "      <td>0.0</td>\n",
       "      <td>5614.0</td>\n",
       "    </tr>\n",
       "    <tr>\n",
       "      <th>2820</th>\n",
       "      <td>2020.09</td>\n",
       "      <td>18.0</td>\n",
       "      <td>568.954185</td>\n",
       "      <td>4.0</td>\n",
       "      <td>5614.0</td>\n",
       "    </tr>\n",
       "    <tr>\n",
       "      <th>1572</th>\n",
       "      <td>2020.07</td>\n",
       "      <td>11.0</td>\n",
       "      <td>44.210016</td>\n",
       "      <td>1.0</td>\n",
       "      <td>5614.0</td>\n",
       "    </tr>\n",
       "  </tbody>\n",
       "</table>\n",
       "</div>"
      ],
      "text/plain": [
       "     TransactionDate  HouseAge  DistanceToStation  NumberOfPubs PostCode\n",
       "ID                                                                      \n",
       "7857         2021.11       0.0         267.000535           6.0   5222.0\n",
       "1641         2021.04      12.0         500.080510           5.0   5212.0\n",
       "3620         2019.07      14.0        4024.663391           0.0   5614.0\n",
       "2820         2020.09      18.0         568.954185           4.0   5614.0\n",
       "1572         2020.07      11.0          44.210016           1.0   5614.0"
      ]
     },
     "execution_count": 277,
     "metadata": {},
     "output_type": "execute_result"
    }
   ],
   "source": [
    "X_test.head()"
   ]
  },
  {
   "cell_type": "code",
   "execution_count": null,
   "id": "21c4141e-36a1-4d22-a26c-c06e31fc7072",
   "metadata": {},
   "outputs": [
    {
     "data": {
      "text/plain": [
       "ID\n",
       "7857    919497.0\n",
       "1641    283680.0\n",
       "3620    135818.0\n",
       "2820    468742.0\n",
       "1572    311065.0\n",
       "Name: HousePrice, dtype: float64"
      ]
     },
     "execution_count": 278,
     "metadata": {},
     "output_type": "execute_result"
    }
   ],
   "source": [
    "y_test.head()"
   ]
  },
  {
   "cell_type": "markdown",
   "id": "2ab5f4b6-143c-46f0-8f45-f4b85ce720e1",
   "metadata": {},
   "source": [
    "### Calculate Regression Metrics"
   ]
  },
  {
   "cell_type": "code",
   "execution_count": null,
   "id": "18a6636b-2747-44dc-8712-4ec036d2cb4d",
   "metadata": {},
   "outputs": [
    {
     "name": "stdout",
     "output_type": "stream",
     "text": [
      "ridge: \n",
      "\tR2 Score - 0.6691443155811748\n",
      "\tMAE - 62578.08779739755\n",
      "\tMSE - 7311888534.586133\n",
      "rf: \n",
      "\tR2 Score - 0.8219507128035423\n",
      "\tMAE - 44429.91280057082\n",
      "\tMSE - 3934877358.779143\n",
      "gb: \n",
      "\tR2 Score - 0.8630132986837926\n",
      "\tMAE - 38721.72772243446\n",
      "\tMSE - 3027396952.554098\n",
      "xg: \n",
      "\tR2 Score - 0.853617617693814\n",
      "\tMAE - 39618.537530937836\n",
      "\tMSE - 3235040875.0876684\n"
     ]
    }
   ],
   "source": [
    "for algo, model in fit_models.items():\n",
    "    # print(algo)\n",
    "    yhat = model.predict(X_test)\n",
    "    r2 = r2_score(y_test, yhat)\n",
    "    mae = mean_absolute_error(y_test, yhat)\n",
    "    mse = mean_squared_error(y_test, yhat)\n",
    "    print(f'{algo}: \\n\\tR2 Score - {r2}\\n\\tMAE - {mae}\\n\\tMSE - {mse}')"
   ]
  },
  {
   "cell_type": "markdown",
   "id": "51c2446e-de87-4031-ae2a-297f6f71dde3",
   "metadata": {},
   "source": [
    "### Make Predictions"
   ]
  },
  {
   "cell_type": "code",
   "execution_count": null,
   "id": "3e721ae8-7205-4c07-aff1-c8d1a3cea27d",
   "metadata": {},
   "outputs": [],
   "source": [
    "model = fit_models['gb']"
   ]
  },
  {
   "cell_type": "code",
   "execution_count": null,
   "id": "4dc17128-77bd-43df-b99a-240b714a7195",
   "metadata": {},
   "outputs": [],
   "source": [
    "yhat = model.predict(X_test)"
   ]
  },
  {
   "cell_type": "code",
   "execution_count": null,
   "id": "e9358bf4-2718-4afb-9f50-c66a31a5f904",
   "metadata": {},
   "outputs": [],
   "source": [
    "results_df = y_test.to_frame()\n",
    "results_df['yhat'] = yhat\n",
    "results_df['delta'] = results_df.HousePrice.astype(float) - results_df.yhat"
   ]
  },
  {
   "cell_type": "code",
   "execution_count": null,
   "id": "56765e2e-f082-42b2-a5a1-c7469ac5cc39",
   "metadata": {},
   "outputs": [],
   "source": [
    "results_df.to_csv('results.csv')"
   ]
  },
  {
   "cell_type": "markdown",
   "id": "06fe1d9a-f3f7-456e-8200-db40ee0eafb2",
   "metadata": {},
   "source": [
    "### Explain Model"
   ]
  },
  {
   "cell_type": "markdown",
   "id": "30eb11a4-732b-4a56-9698-4dafd81b1ae8",
   "metadata": {},
   "source": [
    "#### Calculate Feature Importance"
   ]
  },
  {
   "cell_type": "code",
   "execution_count": null,
   "id": "07c17ee2-b945-4497-b0c8-b28ebddbc6cf",
   "metadata": {},
   "outputs": [
    {
     "data": {
      "text/html": [
       "<style>#sk-container-id-19 {color: black;}#sk-container-id-19 pre{padding: 0;}#sk-container-id-19 div.sk-toggleable {background-color: white;}#sk-container-id-19 label.sk-toggleable__label {cursor: pointer;display: block;width: 100%;margin-bottom: 0;padding: 0.3em;box-sizing: border-box;text-align: center;}#sk-container-id-19 label.sk-toggleable__label-arrow:before {content: \"▸\";float: left;margin-right: 0.25em;color: #696969;}#sk-container-id-19 label.sk-toggleable__label-arrow:hover:before {color: black;}#sk-container-id-19 div.sk-estimator:hover label.sk-toggleable__label-arrow:before {color: black;}#sk-container-id-19 div.sk-toggleable__content {max-height: 0;max-width: 0;overflow: hidden;text-align: left;background-color: #f0f8ff;}#sk-container-id-19 div.sk-toggleable__content pre {margin: 0.2em;color: black;border-radius: 0.25em;background-color: #f0f8ff;}#sk-container-id-19 input.sk-toggleable__control:checked~div.sk-toggleable__content {max-height: 200px;max-width: 100%;overflow: auto;}#sk-container-id-19 input.sk-toggleable__control:checked~label.sk-toggleable__label-arrow:before {content: \"▾\";}#sk-container-id-19 div.sk-estimator input.sk-toggleable__control:checked~label.sk-toggleable__label {background-color: #d4ebff;}#sk-container-id-19 div.sk-label input.sk-toggleable__control:checked~label.sk-toggleable__label {background-color: #d4ebff;}#sk-container-id-19 input.sk-hidden--visually {border: 0;clip: rect(1px 1px 1px 1px);clip: rect(1px, 1px, 1px, 1px);height: 1px;margin: -1px;overflow: hidden;padding: 0;position: absolute;width: 1px;}#sk-container-id-19 div.sk-estimator {font-family: monospace;background-color: #f0f8ff;border: 1px dotted black;border-radius: 0.25em;box-sizing: border-box;margin-bottom: 0.5em;}#sk-container-id-19 div.sk-estimator:hover {background-color: #d4ebff;}#sk-container-id-19 div.sk-parallel-item::after {content: \"\";width: 100%;border-bottom: 1px solid gray;flex-grow: 1;}#sk-container-id-19 div.sk-label:hover label.sk-toggleable__label {background-color: #d4ebff;}#sk-container-id-19 div.sk-serial::before {content: \"\";position: absolute;border-left: 1px solid gray;box-sizing: border-box;top: 0;bottom: 0;left: 50%;z-index: 0;}#sk-container-id-19 div.sk-serial {display: flex;flex-direction: column;align-items: center;background-color: white;padding-right: 0.2em;padding-left: 0.2em;position: relative;}#sk-container-id-19 div.sk-item {position: relative;z-index: 1;}#sk-container-id-19 div.sk-parallel {display: flex;align-items: stretch;justify-content: center;background-color: white;position: relative;}#sk-container-id-19 div.sk-item::before, #sk-container-id-19 div.sk-parallel-item::before {content: \"\";position: absolute;border-left: 1px solid gray;box-sizing: border-box;top: 0;bottom: 0;left: 50%;z-index: -1;}#sk-container-id-19 div.sk-parallel-item {display: flex;flex-direction: column;z-index: 1;position: relative;background-color: white;}#sk-container-id-19 div.sk-parallel-item:first-child::after {align-self: flex-end;width: 50%;}#sk-container-id-19 div.sk-parallel-item:last-child::after {align-self: flex-start;width: 50%;}#sk-container-id-19 div.sk-parallel-item:only-child::after {width: 0;}#sk-container-id-19 div.sk-dashed-wrapped {border: 1px dashed gray;margin: 0 0.4em 0.5em 0.4em;box-sizing: border-box;padding-bottom: 0.4em;background-color: white;}#sk-container-id-19 div.sk-label label {font-family: monospace;font-weight: bold;display: inline-block;line-height: 1.2em;}#sk-container-id-19 div.sk-label-container {text-align: center;}#sk-container-id-19 div.sk-container {/* jupyter's `normalize.less` sets `[hidden] { display: none; }` but bootstrap.min.css set `[hidden] { display: none !important; }` so we also need the `!important` here to be able to override the default hidden behavior on the sphinx rendered scikit-learn.org. See: https://github.com/scikit-learn/scikit-learn/issues/21755 */display: inline-block !important;position: relative;}#sk-container-id-19 div.sk-text-repr-fallback {display: none;}</style><div id=\"sk-container-id-19\" class=\"sk-top-container\"><div class=\"sk-text-repr-fallback\"><pre>Pipeline(steps=[(&#x27;preprocessor&#x27;, Preprocessor()),\n",
       "                (&#x27;gradientboostingregressor&#x27;,\n",
       "                 GradientBoostingRegressor(max_depth=5, n_estimators=300))])</pre><b>In a Jupyter environment, please rerun this cell to show the HTML representation or trust the notebook. <br />On GitHub, the HTML representation is unable to render, please try loading this page with nbviewer.org.</b></div><div class=\"sk-container\" hidden><div class=\"sk-item sk-dashed-wrapped\"><div class=\"sk-label-container\"><div class=\"sk-label sk-toggleable\"><input class=\"sk-toggleable__control sk-hidden--visually\" id=\"sk-estimator-id-21\" type=\"checkbox\" ><label for=\"sk-estimator-id-21\" class=\"sk-toggleable__label sk-toggleable__label-arrow\">Pipeline</label><div class=\"sk-toggleable__content\"><pre>Pipeline(steps=[(&#x27;preprocessor&#x27;, Preprocessor()),\n",
       "                (&#x27;gradientboostingregressor&#x27;,\n",
       "                 GradientBoostingRegressor(max_depth=5, n_estimators=300))])</pre></div></div></div><div class=\"sk-serial\"><div class=\"sk-item\"><div class=\"sk-estimator sk-toggleable\"><input class=\"sk-toggleable__control sk-hidden--visually\" id=\"sk-estimator-id-22\" type=\"checkbox\" ><label for=\"sk-estimator-id-22\" class=\"sk-toggleable__label sk-toggleable__label-arrow\">Preprocessor</label><div class=\"sk-toggleable__content\"><pre>Preprocessor()</pre></div></div></div><div class=\"sk-item\"><div class=\"sk-estimator sk-toggleable\"><input class=\"sk-toggleable__control sk-hidden--visually\" id=\"sk-estimator-id-23\" type=\"checkbox\" ><label for=\"sk-estimator-id-23\" class=\"sk-toggleable__label sk-toggleable__label-arrow\">GradientBoostingRegressor</label><div class=\"sk-toggleable__content\"><pre>GradientBoostingRegressor(max_depth=5, n_estimators=300)</pre></div></div></div></div></div></div></div>"
      ],
      "text/plain": [
       "Pipeline(steps=[('preprocessor', Preprocessor()),\n",
       "                ('gradientboostingregressor',\n",
       "                 GradientBoostingRegressor(max_depth=5, n_estimators=300))])"
      ]
     },
     "execution_count": 290,
     "metadata": {},
     "output_type": "execute_result"
    }
   ],
   "source": [
    "model.best_estimator_"
   ]
  },
  {
   "cell_type": "code",
   "execution_count": null,
   "id": "d97129d0-5a55-42e3-aefa-ed5161f4ef46",
   "metadata": {},
   "outputs": [
    {
     "data": {
      "text/html": [
       "<style>#sk-container-id-18 {color: black;}#sk-container-id-18 pre{padding: 0;}#sk-container-id-18 div.sk-toggleable {background-color: white;}#sk-container-id-18 label.sk-toggleable__label {cursor: pointer;display: block;width: 100%;margin-bottom: 0;padding: 0.3em;box-sizing: border-box;text-align: center;}#sk-container-id-18 label.sk-toggleable__label-arrow:before {content: \"▸\";float: left;margin-right: 0.25em;color: #696969;}#sk-container-id-18 label.sk-toggleable__label-arrow:hover:before {color: black;}#sk-container-id-18 div.sk-estimator:hover label.sk-toggleable__label-arrow:before {color: black;}#sk-container-id-18 div.sk-toggleable__content {max-height: 0;max-width: 0;overflow: hidden;text-align: left;background-color: #f0f8ff;}#sk-container-id-18 div.sk-toggleable__content pre {margin: 0.2em;color: black;border-radius: 0.25em;background-color: #f0f8ff;}#sk-container-id-18 input.sk-toggleable__control:checked~div.sk-toggleable__content {max-height: 200px;max-width: 100%;overflow: auto;}#sk-container-id-18 input.sk-toggleable__control:checked~label.sk-toggleable__label-arrow:before {content: \"▾\";}#sk-container-id-18 div.sk-estimator input.sk-toggleable__control:checked~label.sk-toggleable__label {background-color: #d4ebff;}#sk-container-id-18 div.sk-label input.sk-toggleable__control:checked~label.sk-toggleable__label {background-color: #d4ebff;}#sk-container-id-18 input.sk-hidden--visually {border: 0;clip: rect(1px 1px 1px 1px);clip: rect(1px, 1px, 1px, 1px);height: 1px;margin: -1px;overflow: hidden;padding: 0;position: absolute;width: 1px;}#sk-container-id-18 div.sk-estimator {font-family: monospace;background-color: #f0f8ff;border: 1px dotted black;border-radius: 0.25em;box-sizing: border-box;margin-bottom: 0.5em;}#sk-container-id-18 div.sk-estimator:hover {background-color: #d4ebff;}#sk-container-id-18 div.sk-parallel-item::after {content: \"\";width: 100%;border-bottom: 1px solid gray;flex-grow: 1;}#sk-container-id-18 div.sk-label:hover label.sk-toggleable__label {background-color: #d4ebff;}#sk-container-id-18 div.sk-serial::before {content: \"\";position: absolute;border-left: 1px solid gray;box-sizing: border-box;top: 0;bottom: 0;left: 50%;z-index: 0;}#sk-container-id-18 div.sk-serial {display: flex;flex-direction: column;align-items: center;background-color: white;padding-right: 0.2em;padding-left: 0.2em;position: relative;}#sk-container-id-18 div.sk-item {position: relative;z-index: 1;}#sk-container-id-18 div.sk-parallel {display: flex;align-items: stretch;justify-content: center;background-color: white;position: relative;}#sk-container-id-18 div.sk-item::before, #sk-container-id-18 div.sk-parallel-item::before {content: \"\";position: absolute;border-left: 1px solid gray;box-sizing: border-box;top: 0;bottom: 0;left: 50%;z-index: -1;}#sk-container-id-18 div.sk-parallel-item {display: flex;flex-direction: column;z-index: 1;position: relative;background-color: white;}#sk-container-id-18 div.sk-parallel-item:first-child::after {align-self: flex-end;width: 50%;}#sk-container-id-18 div.sk-parallel-item:last-child::after {align-self: flex-start;width: 50%;}#sk-container-id-18 div.sk-parallel-item:only-child::after {width: 0;}#sk-container-id-18 div.sk-dashed-wrapped {border: 1px dashed gray;margin: 0 0.4em 0.5em 0.4em;box-sizing: border-box;padding-bottom: 0.4em;background-color: white;}#sk-container-id-18 div.sk-label label {font-family: monospace;font-weight: bold;display: inline-block;line-height: 1.2em;}#sk-container-id-18 div.sk-label-container {text-align: center;}#sk-container-id-18 div.sk-container {/* jupyter's `normalize.less` sets `[hidden] { display: none; }` but bootstrap.min.css set `[hidden] { display: none !important; }` so we also need the `!important` here to be able to override the default hidden behavior on the sphinx rendered scikit-learn.org. See: https://github.com/scikit-learn/scikit-learn/issues/21755 */display: inline-block !important;position: relative;}#sk-container-id-18 div.sk-text-repr-fallback {display: none;}</style><div id=\"sk-container-id-18\" class=\"sk-top-container\"><div class=\"sk-text-repr-fallback\"><pre>GradientBoostingRegressor(max_depth=5, n_estimators=300)</pre><b>In a Jupyter environment, please rerun this cell to show the HTML representation or trust the notebook. <br />On GitHub, the HTML representation is unable to render, please try loading this page with nbviewer.org.</b></div><div class=\"sk-container\" hidden><div class=\"sk-item\"><div class=\"sk-estimator sk-toggleable\"><input class=\"sk-toggleable__control sk-hidden--visually\" id=\"sk-estimator-id-20\" type=\"checkbox\" checked><label for=\"sk-estimator-id-20\" class=\"sk-toggleable__label sk-toggleable__label-arrow\">GradientBoostingRegressor</label><div class=\"sk-toggleable__content\"><pre>GradientBoostingRegressor(max_depth=5, n_estimators=300)</pre></div></div></div></div></div>"
      ],
      "text/plain": [
       "GradientBoostingRegressor(max_depth=5, n_estimators=300)"
      ]
     },
     "execution_count": 289,
     "metadata": {},
     "output_type": "execute_result"
    }
   ],
   "source": [
    "model.best_estimator_['gradientboostingregressor']"
   ]
  },
  {
   "cell_type": "code",
   "execution_count": null,
   "id": "b5ca0bca-3f29-4ef0-8b59-1d22ef3331b3",
   "metadata": {},
   "outputs": [
    {
     "data": {
      "text/plain": [
       "array([0.12756001, 0.4675333 , 0.04502687, 0.05173422, 0.00633337,\n",
       "       0.0239119 , 0.00641016, 0.00964641, 0.17497976, 0.086864  ])"
      ]
     },
     "execution_count": 293,
     "metadata": {},
     "output_type": "execute_result"
    }
   ],
   "source": [
    "model.best_estimator_['gradientboostingregressor'].feature_importances_"
   ]
  },
  {
   "cell_type": "code",
   "execution_count": null,
   "id": "b0baf59c-7b64-4320-90a7-c173b1557c9c",
   "metadata": {},
   "outputs": [
    {
     "data": {
      "text/plain": [
       "1.0"
      ]
     },
     "execution_count": 294,
     "metadata": {},
     "output_type": "execute_result"
    }
   ],
   "source": [
    "sum(model.best_estimator_['gradientboostingregressor'].feature_importances_)"
   ]
  },
  {
   "cell_type": "code",
   "execution_count": null,
   "id": "43d2f3ac-a505-49e0-817d-db8a9d1631e3",
   "metadata": {},
   "outputs": [],
   "source": [
    "ensemble = model.best_estimator_['gradientboostingregressor']"
   ]
  },
  {
   "cell_type": "code",
   "execution_count": null,
   "id": "f23ed4ec-3388-4a79-8420-7b15d57b82d6",
   "metadata": {},
   "outputs": [
    {
     "data": {
      "image/png": "[encoded data removed]",
      "text/plain": [
       "<Figure size 300x300 with 1 Axes>"
      ]
     },
     "metadata": {},
     "output_type": "display_data"
    }
   ],
   "source": [
    "plt.figure(figsize=(3,3))\n",
    "plt.title('Feature Importances for Gradient Boosting Model')\n",
    "plt.barh(ensemble.feature_names_in_, ensemble.feature_importances_)\n",
    "plt.show()"
   ]
  },
  {
   "cell_type": "markdown",
   "id": "61f7a717-fa8f-4d0e-9c00-2ee44eff3236",
   "metadata": {},
   "source": [
    "#### Calculate Feature Importance for All Models"
   ]
  },
  {
   "cell_type": "code",
   "execution_count": null,
   "id": "f7b88ffa-aaa6-46be-997b-45b306d777f0",
   "metadata": {},
   "outputs": [],
   "source": [
    "import numpy as np"
   ]
  },
  {
   "cell_type": "code",
   "execution_count": null,
   "id": "d7d3c3eb-183d-4ab5-aac3-3d6b3f30b0a7",
   "metadata": {},
   "outputs": [],
   "source": [
    "feature_importances = {}\n",
    "for algo, pipeline in fit_models.items():\n",
    "    if algo == 'ridge':\n",
    "        # calculate alternate metric\n",
    "        coef_ = pipeline.best_estimator_[1].coef_\n",
    "        feature_importances[algo] = np.square(coef_) / np.sum(np.square(coef_))\n",
    "    else:\n",
    "        feature_importances[algo] = pipeline.best_estimator_[1].feature_importances_"
   ]
  },
  {
   "cell_type": "code",
   "execution_count": null,
   "id": "11491a64-b3b6-4e64-a556-b3e87f421c2f",
   "metadata": {},
   "outputs": [
    {
     "data": {
      "text/plain": [
       "{'ridge': array([1.64842453e-02, 1.01874497e-01, 3.10969377e-02, 3.86862977e-02,\n",
       "        5.94596526e-06, 2.25704876e-01, 9.47271060e-02, 1.69412578e-02,\n",
       "        3.92285970e-01, 8.21928660e-02]),\n",
       " 'rf': array([0.13716857, 0.44493426, 0.05609813, 0.05073772, 0.03448887,\n",
       "        0.00922337, 0.00278218, 0.01166094, 0.16658491, 0.08632105]),\n",
       " 'gb': array([0.12756001, 0.4675333 , 0.04502687, 0.05173422, 0.00633337,\n",
       "        0.0239119 , 0.00641016, 0.00964641, 0.17497976, 0.086864  ]),\n",
       " 'xg': array([0.03207528, 0.07127062, 0.02292063, 0.05411822, 0.00475283,\n",
       "        0.09275293, 0.02268689, 0.04478648, 0.41193107, 0.24270506],\n",
       "       dtype=float32)}"
      ]
     },
     "execution_count": 304,
     "metadata": {},
     "output_type": "execute_result"
    }
   ],
   "source": [
    "feature_importances"
   ]
  },
  {
   "cell_type": "code",
   "execution_count": null,
   "id": "626057fb-f32a-4a84-a186-b10fcca355b5",
   "metadata": {},
   "outputs": [
    {
     "data": {
      "text/plain": [
       "array(['HouseAge', 'DistanceToStation', 'NumberOfPubs', 'Year', 'Month',\n",
       "       'PostCode_5212.0', 'PostCode_5213.0', 'PostCode_5217.0',\n",
       "       'PostCode_5222.0', 'PostCode_5614.0'], dtype=object)"
      ]
     },
     "execution_count": 308,
     "metadata": {},
     "output_type": "execute_result"
    }
   ],
   "source": [
    "ensemble.feature_names_in_"
   ]
  },
  {
   "cell_type": "code",
   "execution_count": null,
   "id": "8e930426-abf3-4e34-a116-7f7831fa7f5b",
   "metadata": {},
   "outputs": [
    {
     "data": {
      "text/html": [
       "<div>\n",
       "<style scoped>\n",
       "    .dataframe tbody tr th:only-of-type {\n",
       "        vertical-align: middle;\n",
       "    }\n",
       "\n",
       "    .dataframe tbody tr th {\n",
       "        vertical-align: top;\n",
       "    }\n",
       "\n",
       "    .dataframe thead th {\n",
       "        text-align: right;\n",
       "    }\n",
       "</style>\n",
       "<table border=\"1\" class=\"dataframe\">\n",
       "  <thead>\n",
       "    <tr style=\"text-align: right;\">\n",
       "      <th></th>\n",
       "      <th>ridge</th>\n",
       "      <th>rf</th>\n",
       "      <th>gb</th>\n",
       "      <th>xg</th>\n",
       "    </tr>\n",
       "  </thead>\n",
       "  <tbody>\n",
       "    <tr>\n",
       "      <th>HouseAge</th>\n",
       "      <td>0.016484</td>\n",
       "      <td>0.137169</td>\n",
       "      <td>0.127560</td>\n",
       "      <td>0.032075</td>\n",
       "    </tr>\n",
       "    <tr>\n",
       "      <th>DistanceToStation</th>\n",
       "      <td>0.101874</td>\n",
       "      <td>0.444934</td>\n",
       "      <td>0.467533</td>\n",
       "      <td>0.071271</td>\n",
       "    </tr>\n",
       "    <tr>\n",
       "      <th>NumberOfPubs</th>\n",
       "      <td>0.031097</td>\n",
       "      <td>0.056098</td>\n",
       "      <td>0.045027</td>\n",
       "      <td>0.022921</td>\n",
       "    </tr>\n",
       "    <tr>\n",
       "      <th>Year</th>\n",
       "      <td>0.038686</td>\n",
       "      <td>0.050738</td>\n",
       "      <td>0.051734</td>\n",
       "      <td>0.054118</td>\n",
       "    </tr>\n",
       "    <tr>\n",
       "      <th>Month</th>\n",
       "      <td>0.000006</td>\n",
       "      <td>0.034489</td>\n",
       "      <td>0.006333</td>\n",
       "      <td>0.004753</td>\n",
       "    </tr>\n",
       "    <tr>\n",
       "      <th>PostCode_5212.0</th>\n",
       "      <td>0.225705</td>\n",
       "      <td>0.009223</td>\n",
       "      <td>0.023912</td>\n",
       "      <td>0.092753</td>\n",
       "    </tr>\n",
       "    <tr>\n",
       "      <th>PostCode_5213.0</th>\n",
       "      <td>0.094727</td>\n",
       "      <td>0.002782</td>\n",
       "      <td>0.006410</td>\n",
       "      <td>0.022687</td>\n",
       "    </tr>\n",
       "    <tr>\n",
       "      <th>PostCode_5217.0</th>\n",
       "      <td>0.016941</td>\n",
       "      <td>0.011661</td>\n",
       "      <td>0.009646</td>\n",
       "      <td>0.044786</td>\n",
       "    </tr>\n",
       "    <tr>\n",
       "      <th>PostCode_5222.0</th>\n",
       "      <td>0.392286</td>\n",
       "      <td>0.166585</td>\n",
       "      <td>0.174980</td>\n",
       "      <td>0.411931</td>\n",
       "    </tr>\n",
       "    <tr>\n",
       "      <th>PostCode_5614.0</th>\n",
       "      <td>0.082193</td>\n",
       "      <td>0.086321</td>\n",
       "      <td>0.086864</td>\n",
       "      <td>0.242705</td>\n",
       "    </tr>\n",
       "  </tbody>\n",
       "</table>\n",
       "</div>"
      ],
      "text/plain": [
       "                      ridge        rf        gb        xg\n",
       "HouseAge           0.016484  0.137169  0.127560  0.032075\n",
       "DistanceToStation  0.101874  0.444934  0.467533  0.071271\n",
       "NumberOfPubs       0.031097  0.056098  0.045027  0.022921\n",
       "Year               0.038686  0.050738  0.051734  0.054118\n",
       "Month              0.000006  0.034489  0.006333  0.004753\n",
       "PostCode_5212.0    0.225705  0.009223  0.023912  0.092753\n",
       "PostCode_5213.0    0.094727  0.002782  0.006410  0.022687\n",
       "PostCode_5217.0    0.016941  0.011661  0.009646  0.044786\n",
       "PostCode_5222.0    0.392286  0.166585  0.174980  0.411931\n",
       "PostCode_5614.0    0.082193  0.086321  0.086864  0.242705"
      ]
     },
     "execution_count": 311,
     "metadata": {},
     "output_type": "execute_result"
    }
   ],
   "source": [
    "importance_df = pd.DataFrame(feature_importances, index=ensemble.feature_names_in_)\n",
    "importance_df"
   ]
  },
  {
   "cell_type": "code",
   "execution_count": null,
   "id": "2d2bd050-3401-4308-a4de-b69be43d8ea2",
   "metadata": {},
   "outputs": [
    {
     "data": {
      "image/png": "[encoded data removed]",
      "text/plain": [
       "<Figure size 500x500 with 1 Axes>"
      ]
     },
     "metadata": {},
     "output_type": "display_data"
    }
   ],
   "source": [
    "plt.figure(figsize=(5,5))\n",
    "model_name = 'xg'\n",
    "sorted_imp = importance_df.sort_values(model_name)\n",
    "sns.barplot(x=sorted_imp.index, y=model_name, data=sorted_imp)\n",
    "plt.xticks(rotation = 90)\n",
    "plt.show()"
   ]
  },
  {
   "cell_type": "markdown",
   "id": "a24ddea0-c84f-4877-9df0-b22eeb3f4f8a",
   "metadata": {},
   "source": [
    "#### Plot Trees"
   ]
  },
  {
   "cell_type": "code",
   "execution_count": null,
   "id": "e026af88-f8c1-4578-8f9f-e09ea488e1e9",
   "metadata": {},
   "outputs": [
    {
     "name": "stdout",
     "output_type": "stream",
     "text": [
      "Requirement already satisfied: graphviz in d:\\regression\\regression\\lib\\site-packages (0.20.1)\n"
     ]
    },
    {
     "name": "stderr",
     "output_type": "stream",
     "text": [
      "\n",
      "[notice] A new release of pip is available: 23.1.2 -> 23.2.1\n",
      "[notice] To update, run: python.exe -m pip install --upgrade pip\n"
     ]
    }
   ],
   "source": [
    "!pip install graphviz"
   ]
  },
  {
   "cell_type": "code",
   "execution_count": null,
   "id": "8f3a79bf-9828-461d-a8f7-d26214bc2bcc",
   "metadata": {},
   "outputs": [],
   "source": [
    "from sklearn.tree import plot_tree\n",
    "import xgboost as xgb\n",
    "from matplotlib.pylab import rcParams"
   ]
  },
  {
   "cell_type": "code",
   "execution_count": null,
   "id": "04a6dc66-a817-4ad3-8d34-30acf3eb0612",
   "metadata": {},
   "outputs": [
    {
     "data": {
      "image/png": "[encoded data removed]",
      "text/plain": [
       "<Figure size 1500x500 with 1 Axes>"
      ]
     },
     "metadata": {},
     "output_type": "display_data"
    }
   ],
   "source": [
    "# plot trees for gradient boosted model\n",
    "plt.figure(figsize=(15,5))\n",
    "plot_tree(ensemble.estimators_[299,0], fontsize=7)\n",
    "plt.show()"
   ]
  },
  {
   "cell_type": "code",
   "execution_count": null,
   "id": "fde4c4aa-7345-443e-8332-9203967982f4",
   "metadata": {
    "collapsed": true,
    "jupyter": {
     "outputs_hidden": true
    },
    "tags": []
   },
   "outputs": [
    {
     "ename": "ExecutableNotFound",
     "evalue": "failed to execute WindowsPath('dot'), make sure the Graphviz executables are on your systems' PATH",
     "output_type": "error",
     "traceback": [
      "\u001b[1;31m---------------------------------------------------------------------------\u001b[0m",
      "\u001b[1;31mFileNotFoundError\u001b[0m                         Traceback (most recent call last)",
      "File \u001b[1;32mD:\\Regression\\regression\\Lib\\site-packages\\graphviz\\backend\\execute.py:79\u001b[0m, in \u001b[0;36mrun_check\u001b[1;34m(cmd, input_lines, encoding, quiet, **kwargs)\u001b[0m\n\u001b[0;32m     78\u001b[0m         kwargs[\u001b[38;5;124m'\u001b[39m\u001b[38;5;124mstdout\u001b[39m\u001b[38;5;124m'\u001b[39m] \u001b[38;5;241m=\u001b[39m kwargs[\u001b[38;5;124m'\u001b[39m\u001b[38;5;124mstderr\u001b[39m\u001b[38;5;124m'\u001b[39m] \u001b[38;5;241m=\u001b[39m subprocess\u001b[38;5;241m.\u001b[39mPIPE\n\u001b[1;32m---> 79\u001b[0m     proc \u001b[38;5;241m=\u001b[39m \u001b[43m_run_input_lines\u001b[49m\u001b[43m(\u001b[49m\u001b[43mcmd\u001b[49m\u001b[43m,\u001b[49m\u001b[43m \u001b[49m\u001b[43minput_lines\u001b[49m\u001b[43m,\u001b[49m\u001b[43m \u001b[49m\u001b[43mkwargs\u001b[49m\u001b[38;5;241;43m=\u001b[39;49m\u001b[43mkwargs\u001b[49m\u001b[43m)\u001b[49m\n\u001b[0;32m     80\u001b[0m \u001b[38;5;28;01melse\u001b[39;00m:\n",
      "File \u001b[1;32mD:\\Regression\\regression\\Lib\\site-packages\\graphviz\\backend\\execute.py:99\u001b[0m, in \u001b[0;36m_run_input_lines\u001b[1;34m(cmd, input_lines, kwargs)\u001b[0m\n\u001b[0;32m     98\u001b[0m \u001b[38;5;28;01mdef\u001b[39;00m \u001b[38;5;21m_run_input_lines\u001b[39m(cmd, input_lines, \u001b[38;5;241m*\u001b[39m, kwargs):\n\u001b[1;32m---> 99\u001b[0m     popen \u001b[38;5;241m=\u001b[39m \u001b[43msubprocess\u001b[49m\u001b[38;5;241;43m.\u001b[39;49m\u001b[43mPopen\u001b[49m\u001b[43m(\u001b[49m\u001b[43mcmd\u001b[49m\u001b[43m,\u001b[49m\u001b[43m \u001b[49m\u001b[43mstdin\u001b[49m\u001b[38;5;241;43m=\u001b[39;49m\u001b[43msubprocess\u001b[49m\u001b[38;5;241;43m.\u001b[39;49m\u001b[43mPIPE\u001b[49m\u001b[43m,\u001b[49m\u001b[43m \u001b[49m\u001b[38;5;241;43m*\u001b[39;49m\u001b[38;5;241;43m*\u001b[39;49m\u001b[43mkwargs\u001b[49m\u001b[43m)\u001b[49m\n\u001b[0;32m    101\u001b[0m     stdin_write \u001b[38;5;241m=\u001b[39m popen\u001b[38;5;241m.\u001b[39mstdin\u001b[38;5;241m.\u001b[39mwrite\n",
      "File \u001b[1;32mC:\\Program Files\\Python311\\Lib\\subprocess.py:1026\u001b[0m, in \u001b[0;36mPopen.__init__\u001b[1;34m(self, args, bufsize, executable, stdin, stdout, stderr, preexec_fn, close_fds, shell, cwd, env, universal_newlines, startupinfo, creationflags, restore_signals, start_new_session, pass_fds, user, group, extra_groups, encoding, errors, text, umask, pipesize, process_group)\u001b[0m\n\u001b[0;32m   1023\u001b[0m             \u001b[38;5;28mself\u001b[39m\u001b[38;5;241m.\u001b[39mstderr \u001b[38;5;241m=\u001b[39m io\u001b[38;5;241m.\u001b[39mTextIOWrapper(\u001b[38;5;28mself\u001b[39m\u001b[38;5;241m.\u001b[39mstderr,\n\u001b[0;32m   1024\u001b[0m                     encoding\u001b[38;5;241m=\u001b[39mencoding, errors\u001b[38;5;241m=\u001b[39merrors)\n\u001b[1;32m-> 1026\u001b[0m     \u001b[38;5;28;43mself\u001b[39;49m\u001b[38;5;241;43m.\u001b[39;49m\u001b[43m_execute_child\u001b[49m\u001b[43m(\u001b[49m\u001b[43margs\u001b[49m\u001b[43m,\u001b[49m\u001b[43m \u001b[49m\u001b[43mexecutable\u001b[49m\u001b[43m,\u001b[49m\u001b[43m \u001b[49m\u001b[43mpreexec_fn\u001b[49m\u001b[43m,\u001b[49m\u001b[43m \u001b[49m\u001b[43mclose_fds\u001b[49m\u001b[43m,\u001b[49m\n\u001b[0;32m   1027\u001b[0m \u001b[43m                        \u001b[49m\u001b[43mpass_fds\u001b[49m\u001b[43m,\u001b[49m\u001b[43m \u001b[49m\u001b[43mcwd\u001b[49m\u001b[43m,\u001b[49m\u001b[43m \u001b[49m\u001b[43menv\u001b[49m\u001b[43m,\u001b[49m\n\u001b[0;32m   1028\u001b[0m \u001b[43m                        \u001b[49m\u001b[43mstartupinfo\u001b[49m\u001b[43m,\u001b[49m\u001b[43m \u001b[49m\u001b[43mcreationflags\u001b[49m\u001b[43m,\u001b[49m\u001b[43m \u001b[49m\u001b[43mshell\u001b[49m\u001b[43m,\u001b[49m\n\u001b[0;32m   1029\u001b[0m \u001b[43m                        \u001b[49m\u001b[43mp2cread\u001b[49m\u001b[43m,\u001b[49m\u001b[43m \u001b[49m\u001b[43mp2cwrite\u001b[49m\u001b[43m,\u001b[49m\n\u001b[0;32m   1030\u001b[0m \u001b[43m                        \u001b[49m\u001b[43mc2pread\u001b[49m\u001b[43m,\u001b[49m\u001b[43m \u001b[49m\u001b[43mc2pwrite\u001b[49m\u001b[43m,\u001b[49m\n\u001b[0;32m   1031\u001b[0m \u001b[43m                        \u001b[49m\u001b[43merrread\u001b[49m\u001b[43m,\u001b[49m\u001b[43m \u001b[49m\u001b[43merrwrite\u001b[49m\u001b[43m,\u001b[49m\n\u001b[0;32m   1032\u001b[0m \u001b[43m                        \u001b[49m\u001b[43mrestore_signals\u001b[49m\u001b[43m,\u001b[49m\n\u001b[0;32m   1033\u001b[0m \u001b[43m                        \u001b[49m\u001b[43mgid\u001b[49m\u001b[43m,\u001b[49m\u001b[43m \u001b[49m\u001b[43mgids\u001b[49m\u001b[43m,\u001b[49m\u001b[43m \u001b[49m\u001b[43muid\u001b[49m\u001b[43m,\u001b[49m\u001b[43m \u001b[49m\u001b[43mumask\u001b[49m\u001b[43m,\u001b[49m\n\u001b[0;32m   1034\u001b[0m \u001b[43m                        \u001b[49m\u001b[43mstart_new_session\u001b[49m\u001b[43m,\u001b[49m\u001b[43m \u001b[49m\u001b[43mprocess_group\u001b[49m\u001b[43m)\u001b[49m\n\u001b[0;32m   1035\u001b[0m \u001b[38;5;28;01mexcept\u001b[39;00m:\n\u001b[0;32m   1036\u001b[0m     \u001b[38;5;66;03m# Cleanup if the child failed starting.\u001b[39;00m\n",
      "File \u001b[1;32mC:\\Program Files\\Python311\\Lib\\subprocess.py:1538\u001b[0m, in \u001b[0;36mPopen._execute_child\u001b[1;34m(self, args, executable, preexec_fn, close_fds, pass_fds, cwd, env, startupinfo, creationflags, shell, p2cread, p2cwrite, c2pread, c2pwrite, errread, errwrite, unused_restore_signals, unused_gid, unused_gids, unused_uid, unused_umask, unused_start_new_session, unused_process_group)\u001b[0m\n\u001b[0;32m   1537\u001b[0m \u001b[38;5;28;01mtry\u001b[39;00m:\n\u001b[1;32m-> 1538\u001b[0m     hp, ht, pid, tid \u001b[38;5;241m=\u001b[39m _winapi\u001b[38;5;241m.\u001b[39mCreateProcess(executable, args,\n\u001b[0;32m   1539\u001b[0m                              \u001b[38;5;66;03m# no special security\u001b[39;00m\n\u001b[0;32m   1540\u001b[0m                              \u001b[38;5;28;01mNone\u001b[39;00m, \u001b[38;5;28;01mNone\u001b[39;00m,\n\u001b[0;32m   1541\u001b[0m                              \u001b[38;5;28mint\u001b[39m(\u001b[38;5;129;01mnot\u001b[39;00m close_fds),\n\u001b[0;32m   1542\u001b[0m                              creationflags,\n\u001b[0;32m   1543\u001b[0m                              env,\n\u001b[0;32m   1544\u001b[0m                              cwd,\n\u001b[0;32m   1545\u001b[0m                              startupinfo)\n\u001b[0;32m   1546\u001b[0m \u001b[38;5;28;01mfinally\u001b[39;00m:\n\u001b[0;32m   1547\u001b[0m     \u001b[38;5;66;03m# Child is launched. Close the parent's copy of those pipe\u001b[39;00m\n\u001b[0;32m   1548\u001b[0m     \u001b[38;5;66;03m# handles that only the child should have open.  You need\u001b[39;00m\n\u001b[1;32m   (...)\u001b[0m\n\u001b[0;32m   1551\u001b[0m     \u001b[38;5;66;03m# pipe will not close when the child process exits and the\u001b[39;00m\n\u001b[0;32m   1552\u001b[0m     \u001b[38;5;66;03m# ReadFile will hang.\u001b[39;00m\n",
      "\u001b[1;31mFileNotFoundError\u001b[0m: [WinError 2] The system cannot find the file specified",
      "\nThe above exception was the direct cause of the following exception:\n",
      "\u001b[1;31mExecutableNotFound\u001b[0m                        Traceback (most recent call last)",
      "Cell \u001b[1;32mIn[324], line 2\u001b[0m\n\u001b[0;32m      1\u001b[0m rcParams[\u001b[38;5;124m'\u001b[39m\u001b[38;5;124mfigure.figsize\u001b[39m\u001b[38;5;124m'\u001b[39m] \u001b[38;5;241m=\u001b[39m \u001b[38;5;241m80\u001b[39m, \u001b[38;5;241m50\u001b[39m\n\u001b[1;32m----> 2\u001b[0m \u001b[43mxgb\u001b[49m\u001b[38;5;241;43m.\u001b[39;49m\u001b[43mplot_tree\u001b[49m\u001b[43m(\u001b[49m\u001b[43mfit_models\u001b[49m\u001b[43m[\u001b[49m\u001b[38;5;124;43m'\u001b[39;49m\u001b[38;5;124;43mxg\u001b[39;49m\u001b[38;5;124;43m'\u001b[39;49m\u001b[43m]\u001b[49m\u001b[38;5;241;43m.\u001b[39;49m\u001b[43mbest_estimator_\u001b[49m\u001b[43m[\u001b[49m\u001b[38;5;241;43m1\u001b[39;49m\u001b[43m]\u001b[49m\u001b[43m)\u001b[49m\n\u001b[0;32m      3\u001b[0m plt\u001b[38;5;241m.\u001b[39mshow()\n",
      "File \u001b[1;32mD:\\Regression\\regression\\Lib\\site-packages\\xgboost\\plotting.py:284\u001b[0m, in \u001b[0;36mplot_tree\u001b[1;34m(booster, fmap, num_trees, rankdir, ax, **kwargs)\u001b[0m\n\u001b[0;32m    280\u001b[0m g \u001b[38;5;241m=\u001b[39m to_graphviz(booster, fmap\u001b[38;5;241m=\u001b[39mfmap, num_trees\u001b[38;5;241m=\u001b[39mnum_trees, rankdir\u001b[38;5;241m=\u001b[39mrankdir,\n\u001b[0;32m    281\u001b[0m                 \u001b[38;5;241m*\u001b[39m\u001b[38;5;241m*\u001b[39mkwargs)\n\u001b[0;32m    283\u001b[0m s \u001b[38;5;241m=\u001b[39m BytesIO()\n\u001b[1;32m--> 284\u001b[0m s\u001b[38;5;241m.\u001b[39mwrite(\u001b[43mg\u001b[49m\u001b[38;5;241;43m.\u001b[39;49m\u001b[43mpipe\u001b[49m\u001b[43m(\u001b[49m\u001b[38;5;28;43mformat\u001b[39;49m\u001b[38;5;241;43m=\u001b[39;49m\u001b[38;5;124;43m'\u001b[39;49m\u001b[38;5;124;43mpng\u001b[39;49m\u001b[38;5;124;43m'\u001b[39;49m\u001b[43m)\u001b[49m)\n\u001b[0;32m    285\u001b[0m s\u001b[38;5;241m.\u001b[39mseek(\u001b[38;5;241m0\u001b[39m)\n\u001b[0;32m    286\u001b[0m img \u001b[38;5;241m=\u001b[39m image\u001b[38;5;241m.\u001b[39mimread(s)\n",
      "File \u001b[1;32mD:\\Regression\\regression\\Lib\\site-packages\\graphviz\\piping.py:104\u001b[0m, in \u001b[0;36mPipe.pipe\u001b[1;34m(self, format, renderer, formatter, neato_no_op, quiet, engine, encoding)\u001b[0m\n\u001b[0;32m     55\u001b[0m \u001b[38;5;28;01mdef\u001b[39;00m \u001b[38;5;21mpipe\u001b[39m(\u001b[38;5;28mself\u001b[39m,\n\u001b[0;32m     56\u001b[0m          \u001b[38;5;28mformat\u001b[39m: typing\u001b[38;5;241m.\u001b[39mOptional[\u001b[38;5;28mstr\u001b[39m] \u001b[38;5;241m=\u001b[39m \u001b[38;5;28;01mNone\u001b[39;00m,\n\u001b[0;32m     57\u001b[0m          renderer: typing\u001b[38;5;241m.\u001b[39mOptional[\u001b[38;5;28mstr\u001b[39m] \u001b[38;5;241m=\u001b[39m \u001b[38;5;28;01mNone\u001b[39;00m,\n\u001b[1;32m   (...)\u001b[0m\n\u001b[0;32m     61\u001b[0m          engine: typing\u001b[38;5;241m.\u001b[39mOptional[\u001b[38;5;28mstr\u001b[39m] \u001b[38;5;241m=\u001b[39m \u001b[38;5;28;01mNone\u001b[39;00m,\n\u001b[0;32m     62\u001b[0m          encoding: typing\u001b[38;5;241m.\u001b[39mOptional[\u001b[38;5;28mstr\u001b[39m] \u001b[38;5;241m=\u001b[39m \u001b[38;5;28;01mNone\u001b[39;00m) \u001b[38;5;241m-\u001b[39m\u001b[38;5;241m>\u001b[39m typing\u001b[38;5;241m.\u001b[39mUnion[\u001b[38;5;28mbytes\u001b[39m, \u001b[38;5;28mstr\u001b[39m]:\n\u001b[0;32m     63\u001b[0m \u001b[38;5;250m    \u001b[39m\u001b[38;5;124;03m\"\"\"Return the source piped through the Graphviz layout command.\u001b[39;00m\n\u001b[0;32m     64\u001b[0m \n\u001b[0;32m     65\u001b[0m \u001b[38;5;124;03m    Args:\u001b[39;00m\n\u001b[1;32m   (...)\u001b[0m\n\u001b[0;32m    102\u001b[0m \u001b[38;5;124;03m        '<?xml version='\u001b[39;00m\n\u001b[0;32m    103\u001b[0m \u001b[38;5;124;03m    \"\"\"\u001b[39;00m\n\u001b[1;32m--> 104\u001b[0m     \u001b[38;5;28;01mreturn\u001b[39;00m \u001b[38;5;28;43mself\u001b[39;49m\u001b[38;5;241;43m.\u001b[39;49m\u001b[43m_pipe_legacy\u001b[49m\u001b[43m(\u001b[49m\u001b[38;5;28;43mformat\u001b[39;49m\u001b[43m,\u001b[49m\n\u001b[0;32m    105\u001b[0m \u001b[43m                             \u001b[49m\u001b[43mrenderer\u001b[49m\u001b[38;5;241;43m=\u001b[39;49m\u001b[43mrenderer\u001b[49m\u001b[43m,\u001b[49m\n\u001b[0;32m    106\u001b[0m \u001b[43m                             \u001b[49m\u001b[43mformatter\u001b[49m\u001b[38;5;241;43m=\u001b[39;49m\u001b[43mformatter\u001b[49m\u001b[43m,\u001b[49m\n\u001b[0;32m    107\u001b[0m \u001b[43m                             \u001b[49m\u001b[43mneato_no_op\u001b[49m\u001b[38;5;241;43m=\u001b[39;49m\u001b[43mneato_no_op\u001b[49m\u001b[43m,\u001b[49m\n\u001b[0;32m    108\u001b[0m \u001b[43m                             \u001b[49m\u001b[43mquiet\u001b[49m\u001b[38;5;241;43m=\u001b[39;49m\u001b[43mquiet\u001b[49m\u001b[43m,\u001b[49m\n\u001b[0;32m    109\u001b[0m \u001b[43m                             \u001b[49m\u001b[43mengine\u001b[49m\u001b[38;5;241;43m=\u001b[39;49m\u001b[43mengine\u001b[49m\u001b[43m,\u001b[49m\n\u001b[0;32m    110\u001b[0m \u001b[43m                             \u001b[49m\u001b[43mencoding\u001b[49m\u001b[38;5;241;43m=\u001b[39;49m\u001b[43mencoding\u001b[49m\u001b[43m)\u001b[49m\n",
      "File \u001b[1;32mD:\\Regression\\regression\\Lib\\site-packages\\graphviz\\_tools.py:171\u001b[0m, in \u001b[0;36mdeprecate_positional_args.<locals>.decorator.<locals>.wrapper\u001b[1;34m(*args, **kwargs)\u001b[0m\n\u001b[0;32m    162\u001b[0m     wanted \u001b[38;5;241m=\u001b[39m \u001b[38;5;124m'\u001b[39m\u001b[38;5;124m, \u001b[39m\u001b[38;5;124m'\u001b[39m\u001b[38;5;241m.\u001b[39mjoin(\u001b[38;5;124mf\u001b[39m\u001b[38;5;124m'\u001b[39m\u001b[38;5;132;01m{\u001b[39;00mname\u001b[38;5;132;01m}\u001b[39;00m\u001b[38;5;124m=\u001b[39m\u001b[38;5;132;01m{\u001b[39;00mvalue\u001b[38;5;132;01m!r}\u001b[39;00m\u001b[38;5;124m'\u001b[39m\n\u001b[0;32m    163\u001b[0m                        \u001b[38;5;28;01mfor\u001b[39;00m name, value \u001b[38;5;129;01min\u001b[39;00m deprecated\u001b[38;5;241m.\u001b[39mitems())\n\u001b[0;32m    164\u001b[0m     warnings\u001b[38;5;241m.\u001b[39mwarn(\u001b[38;5;124mf\u001b[39m\u001b[38;5;124m'\u001b[39m\u001b[38;5;124mThe signature of \u001b[39m\u001b[38;5;132;01m{\u001b[39;00mfunc\u001b[38;5;241m.\u001b[39m\u001b[38;5;18m__name__\u001b[39m\u001b[38;5;132;01m}\u001b[39;00m\u001b[38;5;124m will be reduced\u001b[39m\u001b[38;5;124m'\u001b[39m\n\u001b[0;32m    165\u001b[0m                   \u001b[38;5;124mf\u001b[39m\u001b[38;5;124m'\u001b[39m\u001b[38;5;124m to \u001b[39m\u001b[38;5;132;01m{\u001b[39;00msupported_number\u001b[38;5;132;01m}\u001b[39;00m\u001b[38;5;124m positional args\u001b[39m\u001b[38;5;124m'\u001b[39m\n\u001b[0;32m    166\u001b[0m                   \u001b[38;5;124mf\u001b[39m\u001b[38;5;124m'\u001b[39m\u001b[38;5;124m \u001b[39m\u001b[38;5;132;01m{\u001b[39;00m\u001b[38;5;28mlist\u001b[39m(supported)\u001b[38;5;132;01m}\u001b[39;00m\u001b[38;5;124m: pass \u001b[39m\u001b[38;5;132;01m{\u001b[39;00mwanted\u001b[38;5;132;01m}\u001b[39;00m\u001b[38;5;124m'\u001b[39m\n\u001b[0;32m    167\u001b[0m                   \u001b[38;5;124m'\u001b[39m\u001b[38;5;124m as keyword arg(s)\u001b[39m\u001b[38;5;124m'\u001b[39m,\n\u001b[0;32m    168\u001b[0m                   stacklevel\u001b[38;5;241m=\u001b[39mstacklevel,\n\u001b[0;32m    169\u001b[0m                   category\u001b[38;5;241m=\u001b[39mcategory)\n\u001b[1;32m--> 171\u001b[0m \u001b[38;5;28;01mreturn\u001b[39;00m \u001b[43mfunc\u001b[49m\u001b[43m(\u001b[49m\u001b[38;5;241;43m*\u001b[39;49m\u001b[43margs\u001b[49m\u001b[43m,\u001b[49m\u001b[43m \u001b[49m\u001b[38;5;241;43m*\u001b[39;49m\u001b[38;5;241;43m*\u001b[39;49m\u001b[43mkwargs\u001b[49m\u001b[43m)\u001b[49m\n",
      "File \u001b[1;32mD:\\Regression\\regression\\Lib\\site-packages\\graphviz\\piping.py:121\u001b[0m, in \u001b[0;36mPipe._pipe_legacy\u001b[1;34m(self, format, renderer, formatter, neato_no_op, quiet, engine, encoding)\u001b[0m\n\u001b[0;32m    112\u001b[0m \u001b[38;5;129m@_tools\u001b[39m\u001b[38;5;241m.\u001b[39mdeprecate_positional_args(supported_number\u001b[38;5;241m=\u001b[39m\u001b[38;5;241m2\u001b[39m)\n\u001b[0;32m    113\u001b[0m \u001b[38;5;28;01mdef\u001b[39;00m \u001b[38;5;21m_pipe_legacy\u001b[39m(\u001b[38;5;28mself\u001b[39m,\n\u001b[0;32m    114\u001b[0m                  \u001b[38;5;28mformat\u001b[39m: typing\u001b[38;5;241m.\u001b[39mOptional[\u001b[38;5;28mstr\u001b[39m] \u001b[38;5;241m=\u001b[39m \u001b[38;5;28;01mNone\u001b[39;00m,\n\u001b[1;32m   (...)\u001b[0m\n\u001b[0;32m    119\u001b[0m                  engine: typing\u001b[38;5;241m.\u001b[39mOptional[\u001b[38;5;28mstr\u001b[39m] \u001b[38;5;241m=\u001b[39m \u001b[38;5;28;01mNone\u001b[39;00m,\n\u001b[0;32m    120\u001b[0m                  encoding: typing\u001b[38;5;241m.\u001b[39mOptional[\u001b[38;5;28mstr\u001b[39m] \u001b[38;5;241m=\u001b[39m \u001b[38;5;28;01mNone\u001b[39;00m) \u001b[38;5;241m-\u001b[39m\u001b[38;5;241m>\u001b[39m typing\u001b[38;5;241m.\u001b[39mUnion[\u001b[38;5;28mbytes\u001b[39m, \u001b[38;5;28mstr\u001b[39m]:\n\u001b[1;32m--> 121\u001b[0m     \u001b[38;5;28;01mreturn\u001b[39;00m \u001b[38;5;28;43mself\u001b[39;49m\u001b[38;5;241;43m.\u001b[39;49m\u001b[43m_pipe_future\u001b[49m\u001b[43m(\u001b[49m\u001b[38;5;28;43mformat\u001b[39;49m\u001b[43m,\u001b[49m\n\u001b[0;32m    122\u001b[0m \u001b[43m                             \u001b[49m\u001b[43mrenderer\u001b[49m\u001b[38;5;241;43m=\u001b[39;49m\u001b[43mrenderer\u001b[49m\u001b[43m,\u001b[49m\n\u001b[0;32m    123\u001b[0m \u001b[43m                             \u001b[49m\u001b[43mformatter\u001b[49m\u001b[38;5;241;43m=\u001b[39;49m\u001b[43mformatter\u001b[49m\u001b[43m,\u001b[49m\n\u001b[0;32m    124\u001b[0m \u001b[43m                             \u001b[49m\u001b[43mneato_no_op\u001b[49m\u001b[38;5;241;43m=\u001b[39;49m\u001b[43mneato_no_op\u001b[49m\u001b[43m,\u001b[49m\n\u001b[0;32m    125\u001b[0m \u001b[43m                             \u001b[49m\u001b[43mquiet\u001b[49m\u001b[38;5;241;43m=\u001b[39;49m\u001b[43mquiet\u001b[49m\u001b[43m,\u001b[49m\n\u001b[0;32m    126\u001b[0m \u001b[43m                             \u001b[49m\u001b[43mengine\u001b[49m\u001b[38;5;241;43m=\u001b[39;49m\u001b[43mengine\u001b[49m\u001b[43m,\u001b[49m\n\u001b[0;32m    127\u001b[0m \u001b[43m                             \u001b[49m\u001b[43mencoding\u001b[49m\u001b[38;5;241;43m=\u001b[39;49m\u001b[43mencoding\u001b[49m\u001b[43m)\u001b[49m\n",
      "File \u001b[1;32mD:\\Regression\\regression\\Lib\\site-packages\\graphviz\\piping.py:161\u001b[0m, in \u001b[0;36mPipe._pipe_future\u001b[1;34m(self, format, renderer, formatter, neato_no_op, quiet, engine, encoding)\u001b[0m\n\u001b[0;32m    159\u001b[0m     \u001b[38;5;28;01melse\u001b[39;00m:\n\u001b[0;32m    160\u001b[0m         \u001b[38;5;28;01mreturn\u001b[39;00m raw\u001b[38;5;241m.\u001b[39mdecode(encoding)\n\u001b[1;32m--> 161\u001b[0m \u001b[38;5;28;01mreturn\u001b[39;00m \u001b[38;5;28;43mself\u001b[39;49m\u001b[38;5;241;43m.\u001b[39;49m\u001b[43m_pipe_lines\u001b[49m\u001b[43m(\u001b[49m\u001b[38;5;241;43m*\u001b[39;49m\u001b[43margs\u001b[49m\u001b[43m,\u001b[49m\u001b[43m \u001b[49m\u001b[43minput_encoding\u001b[49m\u001b[38;5;241;43m=\u001b[39;49m\u001b[38;5;28;43mself\u001b[39;49m\u001b[38;5;241;43m.\u001b[39;49m\u001b[43mencoding\u001b[49m\u001b[43m,\u001b[49m\u001b[43m \u001b[49m\u001b[38;5;241;43m*\u001b[39;49m\u001b[38;5;241;43m*\u001b[39;49m\u001b[43mkwargs\u001b[49m\u001b[43m)\u001b[49m\n",
      "File \u001b[1;32mD:\\Regression\\regression\\Lib\\site-packages\\graphviz\\backend\\piping.py:161\u001b[0m, in \u001b[0;36mpipe_lines\u001b[1;34m(engine, format, input_lines, input_encoding, renderer, formatter, neato_no_op, quiet)\u001b[0m\n\u001b[0;32m    155\u001b[0m cmd \u001b[38;5;241m=\u001b[39m dot_command\u001b[38;5;241m.\u001b[39mcommand(engine, \u001b[38;5;28mformat\u001b[39m,\n\u001b[0;32m    156\u001b[0m                           renderer\u001b[38;5;241m=\u001b[39mrenderer,\n\u001b[0;32m    157\u001b[0m                           formatter\u001b[38;5;241m=\u001b[39mformatter,\n\u001b[0;32m    158\u001b[0m                           neato_no_op\u001b[38;5;241m=\u001b[39mneato_no_op)\n\u001b[0;32m    159\u001b[0m kwargs \u001b[38;5;241m=\u001b[39m {\u001b[38;5;124m'\u001b[39m\u001b[38;5;124minput_lines\u001b[39m\u001b[38;5;124m'\u001b[39m: (line\u001b[38;5;241m.\u001b[39mencode(input_encoding) \u001b[38;5;28;01mfor\u001b[39;00m line \u001b[38;5;129;01min\u001b[39;00m input_lines)}\n\u001b[1;32m--> 161\u001b[0m proc \u001b[38;5;241m=\u001b[39m \u001b[43mexecute\u001b[49m\u001b[38;5;241;43m.\u001b[39;49m\u001b[43mrun_check\u001b[49m\u001b[43m(\u001b[49m\u001b[43mcmd\u001b[49m\u001b[43m,\u001b[49m\u001b[43m \u001b[49m\u001b[43mcapture_output\u001b[49m\u001b[38;5;241;43m=\u001b[39;49m\u001b[38;5;28;43;01mTrue\u001b[39;49;00m\u001b[43m,\u001b[49m\u001b[43m \u001b[49m\u001b[43mquiet\u001b[49m\u001b[38;5;241;43m=\u001b[39;49m\u001b[43mquiet\u001b[49m\u001b[43m,\u001b[49m\u001b[43m \u001b[49m\u001b[38;5;241;43m*\u001b[39;49m\u001b[38;5;241;43m*\u001b[39;49m\u001b[43mkwargs\u001b[49m\u001b[43m)\u001b[49m\n\u001b[0;32m    162\u001b[0m \u001b[38;5;28;01mreturn\u001b[39;00m proc\u001b[38;5;241m.\u001b[39mstdout\n",
      "File \u001b[1;32mD:\\Regression\\regression\\Lib\\site-packages\\graphviz\\backend\\execute.py:84\u001b[0m, in \u001b[0;36mrun_check\u001b[1;34m(cmd, input_lines, encoding, quiet, **kwargs)\u001b[0m\n\u001b[0;32m     82\u001b[0m \u001b[38;5;28;01mexcept\u001b[39;00m \u001b[38;5;167;01mOSError\u001b[39;00m \u001b[38;5;28;01mas\u001b[39;00m e:\n\u001b[0;32m     83\u001b[0m     \u001b[38;5;28;01mif\u001b[39;00m e\u001b[38;5;241m.\u001b[39merrno \u001b[38;5;241m==\u001b[39m errno\u001b[38;5;241m.\u001b[39mENOENT:\n\u001b[1;32m---> 84\u001b[0m         \u001b[38;5;28;01mraise\u001b[39;00m ExecutableNotFound(cmd) \u001b[38;5;28;01mfrom\u001b[39;00m \u001b[38;5;21;01me\u001b[39;00m\n\u001b[0;32m     85\u001b[0m     \u001b[38;5;28;01mraise\u001b[39;00m\n\u001b[0;32m     87\u001b[0m \u001b[38;5;28;01mif\u001b[39;00m \u001b[38;5;129;01mnot\u001b[39;00m quiet \u001b[38;5;129;01mand\u001b[39;00m proc\u001b[38;5;241m.\u001b[39mstderr:\n",
      "\u001b[1;31mExecutableNotFound\u001b[0m: failed to execute WindowsPath('dot'), make sure the Graphviz executables are on your systems' PATH"
     ]
    },
    {
     "data": {
      "image/png": "[encoded data removed]",
      "text/plain": [
       "<Figure size 8000x5000 with 1 Axes>"
      ]
     },
     "metadata": {},
     "output_type": "display_data"
    }
   ],
   "source": [
    "rcParams['figure.figsize'] = 80, 50\n",
    "xgb.plot_tree(fit_models['xg'].best_estimator_[1])\n",
    "plt.show()"
   ]
  },
  {
   "cell_type": "markdown",
   "id": "8ac3572f-a766-49ed-adce-4b3c843297c0",
   "metadata": {},
   "source": [
    "## 7. Save Model"
   ]
  },
  {
   "cell_type": "code",
   "execution_count": null,
   "id": "4316073e-1ff1-4979-b123-eb8a74b8f69f",
   "metadata": {},
   "outputs": [],
   "source": [
    "import dill"
   ]
  },
  {
   "cell_type": "code",
   "execution_count": null,
   "id": "4215bbc2-2f12-4f0f-9c5e-6e3665c112e1",
   "metadata": {},
   "outputs": [],
   "source": [
    "model = fit_models['gb']"
   ]
  },
  {
   "cell_type": "code",
   "execution_count": null,
   "id": "d55a19fd-3bca-4174-9025-fe4eabb2bf6b",
   "metadata": {},
   "outputs": [],
   "source": [
    "# save model using dill\n",
    "with open('gb.pkl', 'wb') as f:\n",
    "    dill.dump(model,f)"
   ]
  },
  {
   "cell_type": "code",
   "execution_count": null,
   "id": "46e5576f-2f06-4821-8507-11cc2294c7fc",
   "metadata": {},
   "outputs": [],
   "source": [
    "with open('gb.pkl', 'rb') as f:\n",
    "    reloaded_model = dill.load(f)"
   ]
  },
  {
   "cell_type": "code",
   "execution_count": null,
   "id": "8ca25637-2fbf-49f7-a778-700da8a43637",
   "metadata": {},
   "outputs": [
    {
     "data": {
      "text/plain": [
       "array([660072.29726806, 289177.79297644, 166619.49465334, ...,\n",
       "       392935.05936691, 737461.9967578 , 399972.54185107])"
      ]
     },
     "execution_count": 330,
     "metadata": {},
     "output_type": "execute_result"
    }
   ],
   "source": [
    "reloaded_model.predict(X_test)"
   ]
  },
  {
   "cell_type": "code",
   "execution_count": null,
   "id": "e550dc13-0467-4de1-b8d6-4a465789daf1",
   "metadata": {},
   "outputs": [
    {
     "data": {
      "text/plain": [
       "'{\"TransactionDate\":\"2020.12\",\"HouseAge\":17.0,\"DistanceToStation\":467.6447748,\"NumberOfPubs\":4.0,\"PostCode\":\"5222.0\"}'"
      ]
     },
     "execution_count": 331,
     "metadata": {},
     "output_type": "execute_result"
    }
   ],
   "source": [
    "X_test.loc[0].to_json()"
   ]
  },
  {
   "cell_type": "code",
   "execution_count": null,
   "id": "79021387-234e-4607-b68a-b23e7682a605",
   "metadata": {},
   "outputs": [],
   "source": []
  }
 ],
 "metadata": {
  "kernelspec": {
   "display_name": "Python 3 (ipykernel)",
   "language": "python",
   "name": "python3"
  },
  "language_info": {
   "codemirror_mode": {
    "name": "ipython",
    "version": 3
   },
   "file_extension": ".py",
   "mimetype": "text/x-python",
   "name": "python",
   "nbconvert_exporter": "python",
   "pygments_lexer": "ipython3",
   "version": "3.9.12"
  }
 },
 "nbformat": 4,
 "nbformat_minor": 5
}
